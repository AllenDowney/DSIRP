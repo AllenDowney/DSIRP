{
 "cells": [
  {
   "cell_type": "markdown",
   "id": "c905f415",
   "metadata": {},
   "source": [
    "# Sets"
   ]
  },
  {
   "cell_type": "markdown",
   "id": "42302f03",
   "metadata": {},
   "source": [
    "[Click here to run this chapter on Colab](https://colab.research.google.com/github/AllenDowney/DSIRP/blob/main/chapters/set.ipynb)"
   ]
  },
  {
   "cell_type": "markdown",
   "id": "eca6f225",
   "metadata": {},
   "source": [
    "## Set operators and methods\n",
    "\n",
    "The following example is based on Luciano Ramalho's talk, [Set Practice: Learning from Python's set type](https://www.youtube.com/watch?v=tGAngdU_8D8)."
   ]
  },
  {
   "cell_type": "code",
   "execution_count": null,
   "id": "3bdc7cb9",
   "metadata": {},
   "outputs": [],
   "source": [
    "def fibonacci(stop):\n",
    "    a, b = 0, 1\n",
    "    while a < stop:\n",
    "        yield a\n",
    "        a, b = b, a + b"
   ]
  },
  {
   "cell_type": "code",
   "execution_count": null,
   "id": "a920606a",
   "metadata": {},
   "outputs": [],
   "source": [
    "f = {n for n in fibonacci(10)}\n",
    "f"
   ]
  },
  {
   "cell_type": "code",
   "execution_count": null,
   "id": "ed70c495",
   "metadata": {},
   "outputs": [],
   "source": [
    "def primes(stop):\n",
    "    m = {}\n",
    "    q = 2\n",
    "    while q < stop:\n",
    "        if q not in m:\n",
    "            yield q \n",
    "            m[q*q] = [q]\n",
    "        else:\n",
    "            for p in m[q]:\n",
    "                m.setdefault(p+q, []).append(p)\n",
    "            del m[q]\n",
    "        q += 1"
   ]
  },
  {
   "cell_type": "code",
   "execution_count": null,
   "id": "a19659df",
   "metadata": {},
   "outputs": [],
   "source": [
    "p = {n for n in primes(10)}\n",
    "p"
   ]
  },
  {
   "cell_type": "markdown",
   "id": "a7b8f36b",
   "metadata": {},
   "source": [
    "Checking membership is constant time."
   ]
  },
  {
   "cell_type": "code",
   "execution_count": null,
   "id": "5f32fae1",
   "metadata": {
    "tags": []
   },
   "outputs": [],
   "source": []
  },
  {
   "cell_type": "code",
   "execution_count": null,
   "id": "2b7ee8a8",
   "metadata": {
    "tags": []
   },
   "outputs": [],
   "source": []
  },
  {
   "cell_type": "markdown",
   "id": "922ab0f2",
   "metadata": {},
   "source": [
    "Intersection is like AND: it returns elements in f AND in p."
   ]
  },
  {
   "cell_type": "code",
   "execution_count": null,
   "id": "a1df245c",
   "metadata": {
    "tags": []
   },
   "outputs": [],
   "source": []
  },
  {
   "cell_type": "markdown",
   "id": "8422b7d2",
   "metadata": {},
   "source": [
    "Union is like OR: it returns elements in f OR in p."
   ]
  },
  {
   "cell_type": "code",
   "execution_count": null,
   "id": "4f06006b",
   "metadata": {
    "tags": []
   },
   "outputs": [],
   "source": []
  },
  {
   "cell_type": "markdown",
   "id": "1570034f",
   "metadata": {},
   "source": [
    "Symmetric difference is like XOR: elements from `f` OR `p` but not both."
   ]
  },
  {
   "cell_type": "code",
   "execution_count": null,
   "id": "adf1edc2",
   "metadata": {
    "tags": []
   },
   "outputs": [],
   "source": []
  },
  {
   "cell_type": "markdown",
   "id": "3ef0fcb0",
   "metadata": {},
   "source": [
    "Here are the Fibonacci numbers that are not prime."
   ]
  },
  {
   "cell_type": "code",
   "execution_count": null,
   "id": "dd36b7d7",
   "metadata": {
    "tags": []
   },
   "outputs": [],
   "source": []
  },
  {
   "cell_type": "markdown",
   "id": "2ff76ad6",
   "metadata": {},
   "source": [
    "And the primes that are not Fibonacci numbers."
   ]
  },
  {
   "cell_type": "code",
   "execution_count": null,
   "id": "022aebe5",
   "metadata": {
    "tags": []
   },
   "outputs": [],
   "source": []
  },
  {
   "cell_type": "markdown",
   "id": "5526ba75",
   "metadata": {},
   "source": [
    "The comparison operators check for subset and superset relationships.\n",
    "\n",
    "The Fibonacci numbers are not a superset of the primes."
   ]
  },
  {
   "cell_type": "code",
   "execution_count": null,
   "id": "d3440917",
   "metadata": {
    "tags": []
   },
   "outputs": [],
   "source": []
  },
  {
   "cell_type": "markdown",
   "id": "35721968",
   "metadata": {},
   "source": [
    "And the primes are not a superset of the Fibonacci numbers."
   ]
  },
  {
   "cell_type": "code",
   "execution_count": null,
   "id": "a3bc8632",
   "metadata": {
    "tags": []
   },
   "outputs": [],
   "source": []
  },
  {
   "cell_type": "markdown",
   "id": "8ccf5d7b",
   "metadata": {},
   "source": [
    "In that sense, sets are not like numbers: they are only [partially ordered](https://en.wikipedia.org/wiki/Partially_ordered_set).\n",
    "\n",
    "`f` is a superset of `{1, 2, 3}`"
   ]
  },
  {
   "cell_type": "code",
   "execution_count": null,
   "id": "434dace6",
   "metadata": {
    "tags": []
   },
   "outputs": [],
   "source": []
  },
  {
   "cell_type": "code",
   "execution_count": null,
   "id": "01341068",
   "metadata": {
    "tags": []
   },
   "outputs": [],
   "source": []
  },
  {
   "cell_type": "markdown",
   "id": "0bf147a5",
   "metadata": {},
   "source": [
    "Sets provide methods as well as operators. Why?\n",
    "\n",
    "For one thing, the argument you pass to a method can be any iterable, not just a set."
   ]
  },
  {
   "cell_type": "code",
   "execution_count": null,
   "id": "f175f4a8",
   "metadata": {
    "tags": []
   },
   "outputs": [],
   "source": []
  },
  {
   "cell_type": "code",
   "execution_count": null,
   "id": "b724811d",
   "metadata": {
    "tags": []
   },
   "outputs": [],
   "source": []
  },
  {
   "cell_type": "markdown",
   "id": "d1951fd6",
   "metadata": {},
   "source": [
    "Methods also accept more than one argument:"
   ]
  },
  {
   "cell_type": "code",
   "execution_count": null,
   "id": "eae2b543",
   "metadata": {},
   "outputs": [],
   "source": [
    "f.union([1,2,3], (3,4,5), {5,6,7}, {7:'a', 8:'b'})"
   ]
  },
  {
   "cell_type": "markdown",
   "id": "44245e99",
   "metadata": {},
   "source": [
    "If you don't have a set to start with, you can use an empty set."
   ]
  },
  {
   "cell_type": "code",
   "execution_count": null,
   "id": "09f015ff",
   "metadata": {},
   "outputs": [],
   "source": [
    "set().union([1,2,3], (3,4,5), {5,6,7}, {7:'a', 8:'b'})"
   ]
  },
  {
   "cell_type": "markdown",
   "id": "34922ec3",
   "metadata": {},
   "source": [
    "One small syntax nuisance: `{1, 2, 3}` is a set, but `{}` is an empty dictionary."
   ]
  },
  {
   "cell_type": "markdown",
   "id": "1cb0143e",
   "metadata": {},
   "source": [
    "## Spelling Bee\n",
    "\n",
    "[The New York Times Spelling Bee](https://www.nytimes.com/puzzles/spelling-bee) is a daily puzzle where the goal is to spell as many words as possible using only the given set of seven letters. \n",
    "For example, in a recent Spelling Bee, the available letters were `dehiklo`,\n",
    "so you could spell \"like\" and \"hold\".\n",
    "\n",
    "You can use each of the letters more than once, so \"hook\" and \"deed\" would be allowed, too.\n",
    "\n",
    "To make it a little more interesting, one of the letters is special and must be included in every word.\n",
    "In this example, the special letter is `o`, so \"hood\" would be allowed, but not \"like\".\n",
    "\n",
    "Each word you find scores points depending on it's length, which must be at least four letters.\n",
    "A word that uses all of the letters is called a \"pangram\" and scores extra points.\n",
    "\n",
    "We'll use this puzzle to explore the use of Python sets."
   ]
  },
  {
   "cell_type": "markdown",
   "id": "6e3bd559",
   "metadata": {},
   "source": [
    "Suppose we're given a word and we would like to know whether it can be spelled using only a given set of letters.\n",
    "The following function solves this problem using string operations."
   ]
  },
  {
   "cell_type": "code",
   "execution_count": null,
   "id": "61880af0",
   "metadata": {},
   "outputs": [],
   "source": [
    "def uses_only(word, letters):\n",
    "    for letter in word:\n",
    "        if letter not in letters:\n",
    "            return False\n",
    "    return True"
   ]
  },
  {
   "cell_type": "markdown",
   "id": "b691ac21",
   "metadata": {},
   "source": [
    "If we find any letters in `word` that are not in the list of letters, we can return `False` immediately.\n",
    "If we get through the word without finding any unavailable letters, we can return `True`.\n",
    "\n",
    "Let's try it out with some examples. In a recent Spelling Bee, the available letters were `dehiklo`.\n",
    "Let's see what we can spell with them."
   ]
  },
  {
   "cell_type": "code",
   "execution_count": 52,
   "id": "e91c8ab5",
   "metadata": {},
   "outputs": [],
   "source": [
    "letters = \"dehiklo\"\n",
    "uses_only('lode', letters)"
   ]
  },
  {
   "cell_type": "code",
   "execution_count": 53,
   "id": "2043e70a",
   "metadata": {},
   "outputs": [],
   "source": [
    "uses_only('implode', letters)"
   ]
  },
  {
   "cell_type": "markdown",
   "id": "2caed2b8",
   "metadata": {},
   "source": [
    "**Exercise:** It is possible to implement `uses_only` more concisely using set operations rather than list operations. [Read the documentation of the `set` class](https://docs.python.org/3/tutorial/datastructures.html#sets) and rewrite `uses_only` using sets."
   ]
  },
  {
   "cell_type": "code",
   "execution_count": 54,
   "id": "c7826a80",
   "metadata": {},
   "outputs": [],
   "source": []
  },
  {
   "cell_type": "code",
   "execution_count": 55,
   "id": "62d631b4",
   "metadata": {},
   "outputs": [],
   "source": [
    "uses_only('lode', letters)"
   ]
  },
  {
   "cell_type": "code",
   "execution_count": 56,
   "id": "c1a84f7d",
   "metadata": {},
   "outputs": [],
   "source": [
    "uses_only('implode', letters)"
   ]
  },
  {
   "cell_type": "markdown",
   "id": "952485c9",
   "metadata": {},
   "source": [
    "## Word list\n",
    "\n",
    "The following function downloads a list of about 100,000 words in American English."
   ]
  },
  {
   "cell_type": "code",
   "execution_count": 57,
   "id": "14479b61",
   "metadata": {},
   "outputs": [],
   "source": [
    "from os.path import basename, exists\n",
    "\n",
    "def download(url):\n",
    "    filename = basename(url)\n",
    "    if not exists(filename):\n",
    "        from urllib.request import urlretrieve\n",
    "        local, _ = urlretrieve(url, filename)\n",
    "        print('Downloaded ' + local)\n",
    "    \n",
    "download('https://github.com/AllenDowney/DSIRP/raw/main/american-english')"
   ]
  },
  {
   "cell_type": "markdown",
   "id": "8ba2793b",
   "metadata": {},
   "source": [
    "The file contains one word per line, so we can read the file and split it into a list of words like this:"
   ]
  },
  {
   "cell_type": "code",
   "execution_count": 58,
   "id": "6f4c8f7b",
   "metadata": {},
   "outputs": [],
   "source": [
    "word_list = open('american-english').read().split()\n",
    "len(word_list)"
   ]
  },
  {
   "cell_type": "markdown",
   "id": "a26292b0",
   "metadata": {},
   "source": [
    "**Exercise:** Write a loop that iterates through this word list and prints only words \n",
    "\n",
    "* With at least four letters,\n",
    "\n",
    "* That can be spelled using only the letters `dehiklo`, and\n",
    "\n",
    "* That include the letter `o`."
   ]
  },
  {
   "cell_type": "code",
   "execution_count": 60,
   "id": "3ace74e4",
   "metadata": {},
   "outputs": [],
   "source": []
  },
  {
   "cell_type": "markdown",
   "id": "39a69dc4",
   "metadata": {},
   "source": [
    "**Exercise:** Now let's check for pangrams. \n",
    "Write a function called `uses_all` that takes two strings and returns `True` if the first string uses all of the letters in the second string.\n",
    "Think about how to express this computation using set operations.\n",
    "\n",
    "Test your function with at least one case that returns `True` and one that returns `False`."
   ]
  },
  {
   "cell_type": "code",
   "execution_count": 61,
   "id": "9c84b036",
   "metadata": {},
   "outputs": [],
   "source": []
  },
  {
   "cell_type": "code",
   "execution_count": 62,
   "id": "78966218",
   "metadata": {},
   "outputs": [],
   "source": []
  },
  {
   "cell_type": "code",
   "execution_count": null,
   "id": "053cef91",
   "metadata": {},
   "outputs": [],
   "source": []
  },
  {
   "cell_type": "markdown",
   "id": "ac17d8e8",
   "metadata": {},
   "source": [
    "**Exercise:** Modify the previous loop to search the word list for pangrams using `uses_only` and `uses_all`.\n",
    "\n",
    "Or, as a bonus, write a function called `uses_all_and_only` that checks both conditions using a single `set` operation."
   ]
  },
  {
   "cell_type": "code",
   "execution_count": null,
   "id": "93f8b775",
   "metadata": {},
   "outputs": [],
   "source": []
  },
  {
   "cell_type": "code",
   "execution_count": null,
   "id": "2e8ae3c2",
   "metadata": {},
   "outputs": [],
   "source": []
  },
  {
   "cell_type": "code",
   "execution_count": null,
   "id": "91cfac2e",
   "metadata": {},
   "outputs": [],
   "source": []
  },
  {
   "cell_type": "markdown",
   "id": "7d2eba1a",
   "metadata": {},
   "source": [
    "## Leftovers\n",
    "\n",
    "So far we've been writing Boolean functions that test specific conditions, but if they return `False`, they don't explain why.\n",
    "As an alternative to `uses_only`, we could write a function called `bad_letters` that takes a word and a set of letters, and returns a new string that contain the letters in words that are not available.  Let's call it `bad_letters`. "
   ]
  },
  {
   "cell_type": "code",
   "execution_count": null,
   "id": "a023ed32",
   "metadata": {},
   "outputs": [],
   "source": [
    "def bad_letters(word, letters):\n",
    "    return set(word) - set(letters)"
   ]
  },
  {
   "cell_type": "markdown",
   "id": "4afd6581",
   "metadata": {},
   "source": [
    "Now if we run this function with an illegal word, it will tell us which letters in the word are not available."
   ]
  },
  {
   "cell_type": "code",
   "execution_count": null,
   "id": "1c78d5c2",
   "metadata": {},
   "outputs": [],
   "source": [
    "bad_letters('oilfield', letters)"
   ]
  },
  {
   "cell_type": "markdown",
   "id": "5e044976",
   "metadata": {},
   "source": [
    "**Exercise:** Write a function called `unused_letters` that takes a word and a set of letters and returns the subset of the letters that are not used in `word`."
   ]
  },
  {
   "cell_type": "code",
   "execution_count": null,
   "id": "b1854ea4",
   "metadata": {},
   "outputs": [],
   "source": []
  },
  {
   "cell_type": "code",
   "execution_count": null,
   "id": "0a73331a",
   "metadata": {},
   "outputs": [],
   "source": []
  },
  {
   "cell_type": "markdown",
   "id": "48be61ac",
   "metadata": {},
   "source": [
    "**Exercise:** Write a function called `no_duplicates` that takes a string and returns `True` if each letter appears only once."
   ]
  },
  {
   "cell_type": "code",
   "execution_count": null,
   "id": "5c8422d4",
   "metadata": {},
   "outputs": [],
   "source": []
  },
  {
   "cell_type": "code",
   "execution_count": null,
   "id": "7e77124c",
   "metadata": {},
   "outputs": [],
   "source": []
  },
  {
   "cell_type": "code",
   "execution_count": null,
   "id": "0200d5a4",
   "metadata": {},
   "outputs": [],
   "source": []
  },
  {
   "cell_type": "markdown",
   "id": "d0c54f80",
   "metadata": {},
   "source": [
    "*Data Structures and Information Retrieval in Python*\n",
    "\n",
    "Copyright 2021 Allen Downey\n",
    "\n",
    "License: [Creative Commons Attribution-NonCommercial-ShareAlike 4.0 International](https://creativecommons.org/licenses/by-nc-sa/4.0/)"
   ]
  }
 ],
 "metadata": {
  "celltoolbar": "Tags",
  "kernelspec": {
   "display_name": "Python 3 (ipykernel)",
   "language": "python",
   "name": "python3"
  },
  "language_info": {
   "codemirror_mode": {
    "name": "ipython",
    "version": 3
   },
   "file_extension": ".py",
   "mimetype": "text/x-python",
   "name": "python",
   "nbconvert_exporter": "python",
   "pygments_lexer": "ipython3",
   "version": "3.10.1"
  }
 },
 "nbformat": 4,
 "nbformat_minor": 5
}

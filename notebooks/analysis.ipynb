{
 "cells": [
  {
   "cell_type": "markdown",
   "id": "moved-opera",
   "metadata": {},
   "source": [
    "# Analysis of Algorithms"
   ]
  },
  {
   "cell_type": "markdown",
   "id": "2143265f",
   "metadata": {},
   "source": [
    "[Click here to run this chapter on Colab](https://colab.research.google.com/github/AllenDowney/DSIRP/blob/main/notebooks/analysis.ipynb)"
   ]
  },
  {
   "cell_type": "markdown",
   "id": "molecular-textbook",
   "metadata": {},
   "source": [
    "**Analysis of algorithms** is a branch of computer science that studies\n",
    "the performance of algorithms, especially their run time and space\n",
    "requirements. See <http://en.wikipedia.org/wiki/Analysis_of_algorithms>.\n",
    "\n",
    "The practical goal of algorithm analysis is to predict the performance\n",
    "of different algorithms in order to guide design decisions.\n",
    "\n",
    "During the 2008 United States Presidential Campaign, candidate Barack\n",
    "Obama was asked to perform an impromptu analysis when he visited Google.\n",
    "Chief executive Eric Schmidt jokingly asked him for \"the most efficient\n",
    "way to sort a million 32-bit integers.\" Obama had apparently been tipped\n",
    "off, because he quickly replied, \"I think the bubble sort would be the\n",
    "wrong way to go.\" See <http://www.youtube.com/watch?v=k4RRi_ntQc8>.\n",
    "\n",
    "This is true: bubble sort is conceptually simple but slow for large datasets. The answer Schmidt was probably looking for is \"radix sort\"\n",
    "(<http://en.wikipedia.org/wiki/Radix_sort>).\n",
    "\n",
    "But if you get a question like this in an interview, I think a\n",
    "better answer is, \"The fastest way to sort a million integers is to\n",
    "use whatever sort function is provided by the language I'm using.\n",
    "Its performance is good enough for the vast majority of\n",
    "applications, but if it turned out that my application was too slow,\n",
    "I would use a profiler to see where the time was being spent. If it\n",
    "looked like a faster sort algorithm would have a significant effect\n",
    "on performance, then I would look around for a good implementation\n",
    "of radix sort.\""
   ]
  },
  {
   "cell_type": "markdown",
   "id": "ordinary-federal",
   "metadata": {},
   "source": [
    "The goal of algorithm analysis is to make meaningful comparisons between algorithms, but there are some problems:\n",
    "\n",
    "-   The relative performance of the algorithms might depend on\n",
    "    characteristics of the hardware, so one algorithm might be faster on\n",
    "    Machine A, another on Machine B. The usual solution to this\n",
    "    problem is to specify a **machine model** and analyze the number of\n",
    "    steps, or operations, an algorithm requires under a given model.\n",
    "\n",
    "-   Relative performance might depend on the details of the dataset. For\n",
    "    example, some sorting algorithms run faster if the data are already\n",
    "    partially sorted; other algorithms run slower in this case. A common\n",
    "    way to avoid this problem is to analyze the **worst case** scenario.\n",
    "    It is sometimes useful to analyze average case performance, but\n",
    "    that's usually harder, and it might not be obvious what set of cases\n",
    "    to average over.\n",
    "\n",
    "-   Relative performance also depends on the size of the problem. A\n",
    "    sorting algorithm that is fast for small lists might be slow for\n",
    "    long lists. The usual solution to this problem is to express run\n",
    "    time (or number of operations) as a function of problem size, and\n",
    "    group functions into categories depending on how quickly they grow\n",
    "    as problem size increases."
   ]
  },
  {
   "cell_type": "markdown",
   "id": "developmental-powell",
   "metadata": {},
   "source": [
    "The good thing about this kind of comparison is that it lends itself to\n",
    "simple classification of algorithms. For example, if I know that the run\n",
    "time of Algorithm A tends to be proportional to the size of the input,\n",
    "$n$, and Algorithm B tends to be proportional to $n^2$, then I expect A\n",
    "to be faster than B, at least for large values of $n$.\n",
    "\n",
    "This kind of analysis comes with some caveats, but we'll get to that later."
   ]
  },
  {
   "cell_type": "markdown",
   "id": "executed-sodium",
   "metadata": {},
   "source": [
    "## Order of growth\n",
    "\n",
    "Suppose you have analyzed two algorithms and expressed their run times in terms of the size of the input: Algorithm A takes $100n+1$ steps to solve a problem with size $n$; Algorithm B takes $n^2 + n + 1$ steps.\n",
    "\n",
    "The following table shows the run time of these algorithms for different problem sizes:"
   ]
  },
  {
   "cell_type": "code",
   "execution_count": 1,
   "id": "suspected-intelligence",
   "metadata": {},
   "outputs": [],
   "source": [
    "import numpy as np\n",
    "import pandas as pd\n",
    "\n",
    "n = np.array([10, 100, 1000, 10000])\n",
    "table = pd.DataFrame(index=n)\n",
    "table['Algorithm A'] = 100 * n + 1\n",
    "table['Algorithm B'] = n**2 + n + 1\n",
    "table['Ratio (B/A)'] = table['Algorithm B'] / table['Algorithm A']\n",
    "table"
   ]
  },
  {
   "cell_type": "markdown",
   "id": "hybrid-digest",
   "metadata": {},
   "source": [
    "At $n=10$, Algorithm A looks pretty bad; it takes almost 10 times longer\n",
    "than Algorithm B. \n",
    "But for $n=100$ they are about the same, and for larger values A is much better."
   ]
  },
  {
   "cell_type": "markdown",
   "id": "disciplinary-sussex",
   "metadata": {},
   "source": [
    "The fundamental reason is that for large values of $n$, any function\n",
    "that contains an $n^2$ term will grow faster than a function whose\n",
    "leading term is $n$. The **leading term** is the term with the highest\n",
    "exponent.\n",
    "\n",
    "For Algorithm A, the leading term has a large coefficient, 100, which is\n",
    "why B does better than A for small $n$. But regardless of the\n",
    "coefficients, there will always be some value of $n$ where\n",
    "$a n^2 > b n$, for any values of $a$ and $b$.\n",
    "\n",
    "The same argument applies to the non-leading terms. Suppose the run time\n",
    "of Algorithm C is $n+1000000$; it would still be better than Algorithm\n",
    "B for sufficiently large $n$."
   ]
  },
  {
   "cell_type": "code",
   "execution_count": 2,
   "id": "going-setup",
   "metadata": {},
   "outputs": [],
   "source": [
    "import numpy as np\n",
    "import pandas as pd\n",
    "\n",
    "n = np.array([10, 100, 1000, 10000])\n",
    "table = pd.DataFrame(index=n)\n",
    "table['Algorithm C'] = n + 1000000\n",
    "table['Algorithm B'] = n**2 + n + 1\n",
    "table['Ratio (C/B)'] = table['Algorithm B'] / table['Algorithm C']\n",
    "table"
   ]
  },
  {
   "cell_type": "markdown",
   "id": "vertical-stock",
   "metadata": {},
   "source": [
    "In general, we expect an algorithm with a smaller leading term to be a\n",
    "better algorithm for large problems, but for smaller problems, there may\n",
    "be a **crossover point** where another algorithm is better. \n",
    "\n",
    "The following figure shows the run times (in arbitrary units) for the three algorithms over a range of problems sizes. For small problem sizes, Algorithm B is the fastest, but for large problems sizes, it is the worst.\n",
    "In the figure, we can see where the crossover points are."
   ]
  },
  {
   "cell_type": "code",
   "execution_count": 3,
   "id": "applicable-dublin",
   "metadata": {},
   "outputs": [],
   "source": [
    "import matplotlib.pyplot as plt\n",
    "\n",
    "ns = np.arange(10, 1500)\n",
    "ys = 100 * ns + 1\n",
    "plt.plot(ns, ys, label='Algorithm A')\n",
    "\n",
    "ys = ns**2 + ns + 1\n",
    "plt.plot(ns, ys, label='Algorithm B')\n",
    "\n",
    "ys = ns + 1_000_000\n",
    "plt.plot(ns, ys, label='Algorithm C')\n",
    "\n",
    "plt.yscale('log')\n",
    "plt.xlabel('Problem size (n)')\n",
    "plt.ylabel('Run time')\n",
    "plt.legend();"
   ]
  },
  {
   "cell_type": "markdown",
   "id": "communist-station",
   "metadata": {},
   "source": [
    "The location of these crossover points depends on the details of the algorithms, the\n",
    "inputs, and the hardware, so it is usually ignored for purposes of\n",
    "algorithmic analysis. But that doesn't mean you can forget about it."
   ]
  },
  {
   "cell_type": "markdown",
   "id": "studied-vienna",
   "metadata": {},
   "source": [
    "## Big O notation\n",
    "\n",
    "If two algorithms have the same leading order term, it is hard to say\n",
    "which is better; again, the answer depends on the details. So for\n",
    "algorithmic analysis, functions with the same leading term are\n",
    "considered equivalent, even if they have different coefficients.\n",
    "\n",
    "An **order of growth** is a set of functions whose growth behavior is\n",
    "considered equivalent. For example, $2n$, $100n$ and $n+1$ belong to the\n",
    "same order of growth, which is written $O(n)$ in **Big-O notation** and\n",
    "often called **linear** because every function in the set grows linearly\n",
    "with $n$.\n",
    "\n",
    "All functions with the leading term $n^2$ belong to $O(n^2)$; they are\n",
    "called **quadratic**."
   ]
  },
  {
   "cell_type": "markdown",
   "id": "genetic-calcium",
   "metadata": {},
   "source": [
    "The following table shows some of the orders of growth that appear most\n",
    "commonly in algorithmic analysis, in increasing order of badness.\n",
    " \n",
    "| Order of growth | Name                      |\n",
    "|-----------------|---------------------------|\n",
    "| $O(1)$          | constant                  |\n",
    "| $O(\\log_b n)$   | logarithmic (for any $b$) |\n",
    "| $O(n)$          | linear                    |\n",
    "| $O(n \\log_b n)$ | linearithmic              |\n",
    "| $O(n^2)$        | quadratic                 |\n",
    "| $O(n^3)$        | cubic                     |\n",
    "| $O(c^n)$        | exponential (for any $c$) |\n",
    "  \n",
    "\n",
    "For the logarithmic terms, the base of the logarithm doesn't matter;\n",
    "changing bases is the equivalent of multiplying by a constant, which\n",
    "doesn't change the order of growth. Similarly, all exponential functions\n",
    "belong to the same order of growth regardless of the base of the\n",
    "exponent. Exponential functions grow very quickly, so exponential\n",
    "algorithms are only useful for small problems.\n"
   ]
  },
  {
   "cell_type": "markdown",
   "id": "monetary-sucking",
   "metadata": {},
   "source": [
    "### Exercise\n",
    "\n",
    "Read the Wikipedia page on Big-O notation at\n",
    "<http://en.wikipedia.org/wiki/Big_O_notation> and answer the following\n",
    "questions:\n",
    "\n",
    "1.  What is the order of growth of $n^3 + n^2$? What about\n",
    "    $1000000 n^3 + n^2$? What about $n^3 + 1000000 n^2$?\n",
    "\n",
    "2.  What is the order of growth of $(n^2 + n) \\cdot (n + 1)$? Before you\n",
    "    start multiplying, remember that you only need the leading term.\n",
    "\n",
    "3.  If $f$ is in $O(g)$, for some unspecified function $g$, what can we\n",
    "    say about $af+b$, where $a$ and $b$ are constants?\n",
    "\n",
    "4.  If $f_1$ and $f_2$ are in $O(g)$, what can we say about $f_1 + f_2$?\n",
    "\n",
    "5.  If $f_1$ is in $O(g)$ and $f_2$ is in $O(h)$, what can we say about\n",
    "    $f_1 + f_2$?\n",
    "\n",
    "6.  If $f_1$ is in $O(g)$ and $f_2$ is in $O(h)$, what can we say about\n",
    "    $f_1 \\cdot f_2$?"
   ]
  },
  {
   "cell_type": "markdown",
   "id": "quality-china",
   "metadata": {},
   "source": [
    "Programmers who care about performance often find this kind of analysis\n",
    "hard to swallow. They have a point: sometimes the coefficients and the\n",
    "non-leading terms make a real difference. Sometimes the details of the\n",
    "hardware, the programming language, and the characteristics of the input\n",
    "make a big difference. And for small problems, order of growth is\n",
    "irrelevant.\n",
    "\n",
    "But if you keep those caveats in mind, algorithmic analysis is a useful\n",
    "tool. At least for large problems, the \"better\" algorithm is usually\n",
    "better, and sometimes it is *much* better. The difference between two\n",
    "algorithms with the same order of growth is usually a constant factor,\n",
    "but the difference between a good algorithm and a bad algorithm is\n",
    "unbounded!"
   ]
  },
  {
   "cell_type": "markdown",
   "id": "charitable-nurse",
   "metadata": {},
   "source": [
    "## Example: Adding the elements of a list\n",
    "\n",
    "In Python, most arithmetic operations are constant time; multiplication usually takes longer than addition and subtraction, and division takes even longer, but these run times don't depend on the magnitude of the operands. Very large integers are an exception; in that case the run time increases with the number of digits.\n",
    "\n",
    "A `for` loop that iterates a list is linear, as long as all of the operations in the body of the loop are constant time. For example, adding up the elements of a list is linear:"
   ]
  },
  {
   "cell_type": "code",
   "execution_count": 4,
   "id": "infrared-theater",
   "metadata": {},
   "outputs": [],
   "source": [
    "def compute_sum(t):\n",
    "    total = 0\n",
    "    for x in t:\n",
    "        total += x\n",
    "    return total"
   ]
  },
  {
   "cell_type": "code",
   "execution_count": 5,
   "id": "alternative-mixer",
   "metadata": {},
   "outputs": [],
   "source": [
    "t = range(10)\n",
    "compute_sum(t)"
   ]
  },
  {
   "cell_type": "markdown",
   "id": "modular-theater",
   "metadata": {},
   "source": [
    "The built-in function `sum` is also linear because it does the same thing, but it tends to be faster because it is a more efficient implementation; in the language of algorithmic analysis, it has a smaller leading coefficient."
   ]
  },
  {
   "cell_type": "code",
   "execution_count": 6,
   "id": "developmental-century",
   "metadata": {},
   "outputs": [],
   "source": [
    "%timeit compute_sum(t)"
   ]
  },
  {
   "cell_type": "code",
   "execution_count": 7,
   "id": "sharing-cologne",
   "metadata": {},
   "outputs": [],
   "source": [
    "%timeit sum(t)"
   ]
  },
  {
   "cell_type": "markdown",
   "id": "tender-nevada",
   "metadata": {},
   "source": [
    "## Example: Sorting\n",
    "\n",
    "Python provides a list method, `sort`, that modifies a list in place, and a function, `sorted` that makes a new list.\n",
    "\n",
    "Read the Wikipedia page on sorting algorithms at\n",
    "<http://en.wikipedia.org/wiki/Sorting_algorithm> and answer the\n",
    "following questions:\n",
    "\n",
    "1.  What is a \"comparison sort?\" What is the best worst-case order of growth for a comparison sort? What is the best worst-case order of growth for any sort algorithm?\n",
    "\n",
    "2.  What is the order of growth of bubble sort, and why does Barack Obama think it is \"the wrong way to go?\"\n",
    "\n",
    "3.  What is the order of growth of radix sort? What preconditions do we need to use it?\n",
    "\n",
    "4.  What is a stable sort and why might it matter in practice?\n",
    "\n",
    "5.  What is the worst sorting algorithm (that has a name)?\n",
    "\n",
    "6.  What sort algorithm does the C library use? What sort algorithm does Python use? Are these algorithms stable? You might have to Google around to find these answers.\n",
    "\n",
    "7.  Many of the non-comparison sorts are linear, so why does Python use an $O(n \\log n)$ comparison sort?"
   ]
  },
  {
   "cell_type": "markdown",
   "id": "e2022e27",
   "metadata": {},
   "source": [
    "*Data Structures and Information Retrieval in Python*\n",
    "\n",
    "Copyright 2021 Allen Downey\n",
    "\n",
    "License: [Creative Commons Attribution-NonCommercial-ShareAlike 4.0 International](https://creativecommons.org/licenses/by-nc-sa/4.0/)"
   ]
  }
 ],
 "metadata": {
  "kernelspec": {
   "display_name": "Python 3 (ipykernel)",
   "language": "python",
   "name": "python3"
  },
  "language_info": {
   "codemirror_mode": {
    "name": "ipython",
    "version": 3
   },
   "file_extension": ".py",
   "mimetype": "text/x-python",
   "name": "python",
   "nbconvert_exporter": "python",
   "pygments_lexer": "ipython3",
   "version": "3.10.1"
  }
 },
 "nbformat": 4,
 "nbformat_minor": 5
}

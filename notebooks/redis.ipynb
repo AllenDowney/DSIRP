{
 "cells": [
  {
   "cell_type": "markdown",
   "id": "aa5e8813",
   "metadata": {},
   "source": [
    "# Redis"
   ]
  },
  {
   "cell_type": "markdown",
   "id": "40482793",
   "metadata": {},
   "source": [
    "[Click here to run this chapter on Colab](https://colab.research.google.com/github/AllenDowney/DSIRP/blob/main/notebooks/redis.ipynb)"
   ]
  },
  {
   "cell_type": "code",
   "execution_count": 1,
   "id": "23dd7f0c",
   "metadata": {
    "tags": []
   },
   "outputs": [],
   "source": [
    "from os.path import basename, exists\n",
    "\n",
    "def download(url):\n",
    "    filename = basename(url)\n",
    "    if not exists(filename):\n",
    "        from urllib.request import urlretrieve\n",
    "        local, _ = urlretrieve(url, filename)\n",
    "        print('Downloaded ' + local)\n",
    "    \n",
    "# download('https://github.com/AllenDowney/DSIRP/raw/main/utils.py')"
   ]
  },
  {
   "cell_type": "markdown",
   "id": "dc6addc3",
   "metadata": {},
   "source": [
    "[Click here to run this chapter on Colab](https://colab.research.google.com/github/AllenDowney/DSIRP/blob/main/notebooks/chap01.ipynb)"
   ]
  },
  {
   "cell_type": "markdown",
   "id": "d87322f9",
   "metadata": {},
   "source": [
    "## Persistence\n",
    "\n",
    "Data stored only in the memory of a running program is called \"volatile\", because it disappears when the program ends.\n",
    "\n",
    "Data that still exists after the program that created it ends is called\n",
    "\"persistent\". In general, files stored in a file system are persistent,\n",
    "as well as data stored in databases.\n",
    "\n",
    "A simple way to make data persistent is to store it in a file. For example, before the program ends, it could translate its data structures into a format like [JSON](https://en.wikipedia.org/wiki/JSON) and then write them into a file.\n",
    "When it starts again, it could read the file and rebuild the data\n",
    "structures."
   ]
  },
  {
   "cell_type": "markdown",
   "id": "51a08837",
   "metadata": {},
   "source": [
    "But there are several problems with this solution:\n",
    "\n",
    "1.  Reading and writing large data structures (like a Web index) would\n",
    "    be slow.\n",
    "\n",
    "2.  The entire data structure might not fit into the memory of a single\n",
    "    running program.\n",
    "\n",
    "3.  If a program ends unexpectedly (for example, due to a power outage),\n",
    "    any changes made since the program last started would be lost.\n",
    "\n",
    "A better alternative is a database that provides persistent storage and\n",
    "the ability to read and write parts of the database without reading and\n",
    "writing the whole thing."
   ]
  },
  {
   "cell_type": "markdown",
   "id": "cc6e276f",
   "metadata": {},
   "source": [
    "There are many kinds of [database management systems](https://en.wikipedia.org/wiki/Database) (DBMS) that provide\n",
    "these capabilities.\n",
    "\n",
    "The database we'll use is Redis, which organizes data in structures that are similar to Python data structures.\n",
    "Among others, it provides lists, hashes (similar to Python dictionaries), and sets.\n",
    "\n",
    "Redis is a \"key-value database\", which means that it represents a mapping from keys to values.\n",
    "In Redis, the keys are strings and the values can be one of several types."
   ]
  },
  {
   "cell_type": "markdown",
   "id": "125315e1",
   "metadata": {},
   "source": [
    "## Redis clients and servers\n",
    "\n",
    "Redis is usually run as a remote service; in fact, the name stands for\n",
    "\"REmote DIctionary Server\". To use Redis, you have to run the Redis\n",
    "server somewhere and then connect to it using a Redis client. \n",
    "\n",
    "To get started, we'll run the Redis server on the same machine where we run the Jupyter server.\n",
    "This will let us get started quickly, but if we are running Jupyter on Colab, the database lives in a Colab runtime environment, which disappears when we shut down the notebook.\n",
    "So it's not really persistent.\n",
    "\n",
    "Later we will use [RedisToGo](http://thinkdast.com/redistogo), which runs Redis in the cloud.\n",
    "Databases on RedisToGo are persistent.\n",
    "\n",
    "The following cell installs the Redis server and starts it with the `daemonize` options, which runs it in the background so the Jupyter server can resume."
   ]
  },
  {
   "cell_type": "code",
   "execution_count": 2,
   "id": "d61c0efd",
   "metadata": {},
   "outputs": [],
   "source": [
    "import sys\n",
    "\n",
    "IN_COLAB = 'google.colab' in sys.modules\n",
    "\n",
    "if IN_COLAB:\n",
    "    !curl -fsSL https://packages.redis.io/redis-stack/redis-stack-server-6.2.6-v7.focal.x86_64.tar.gz -o redis-stack-server.tar.gz",
    "    !tar -xvf redis-stack-server.tar.gz",
    "    !./redis-stack-server-6.2.6-v7/bin/redis-stack-server --daemonize yes",
    "else:\n",
    "    !redis-server --daemonize yes"
   ]
  },
  {
   "cell_type": "markdown",
   "id": "9d0fc0ee",
   "metadata": {},
   "source": [
    "## redis-py\n",
    "\n",
    "To talk to the Redis server, we'll use [redis-py](https://redis-py.readthedocs.io/en/stable/index.html).\n",
    "Here's how we use it to connect to the Redis server."
   ]
  },
  {
   "cell_type": "code",
   "execution_count": 3,
   "id": "26817fb9",
   "metadata": {},
   "outputs": [],
   "source": [
    "try:\n",
    "    import redis\n",
    "except ImportError:\n",
    "    !pip install redis"
   ]
  },
  {
   "cell_type": "code",
   "execution_count": 4,
   "id": "3f57e1b8-91f2-4426-ada4-e7bcb1f4ce9a",
   "metadata": {
    "tags": []
   },
   "outputs": [],
   "source": [
    "import redis\n",
    "\n",
    "r = redis.Redis()"
   ]
  },
  {
   "cell_type": "markdown",
   "id": "f3090b9f",
   "metadata": {},
   "source": [
    "The `set` method adds a key-value pair to the database.\n",
    "In the following example, the key and value are both strings."
   ]
  },
  {
   "cell_type": "code",
   "execution_count": 5,
   "id": "dc7520a8",
   "metadata": {
    "tags": []
   },
   "outputs": [],
   "source": [
    "r.set('key', 'value')"
   ]
  },
  {
   "cell_type": "markdown",
   "id": "e5119b8a",
   "metadata": {},
   "source": [
    "The `get` method looks up a key and returns the corresponding value."
   ]
  },
  {
   "cell_type": "code",
   "execution_count": 6,
   "id": "041d4241",
   "metadata": {
    "tags": []
   },
   "outputs": [],
   "source": [
    "r.get('key')"
   ]
  },
  {
   "cell_type": "markdown",
   "id": "4e8305ab",
   "metadata": {},
   "source": [
    "The result is not actually a string; it is a [bytearray](https://stackoverflow.com/questions/6224052/what-is-the-difference-between-a-string-and-a-byte-string).\n",
    "\n",
    "For many purposes, a bytearray behaves like a string so for now we will treat it like a string and deal with differences as they arise."
   ]
  },
  {
   "cell_type": "markdown",
   "id": "6891ab32",
   "metadata": {},
   "source": [
    "The values can be integers or floating-point numbers."
   ]
  },
  {
   "cell_type": "code",
   "execution_count": 7,
   "id": "f5ab34fd",
   "metadata": {
    "tags": []
   },
   "outputs": [],
   "source": [
    "r.set('x', 5)"
   ]
  },
  {
   "cell_type": "markdown",
   "id": "5b7a7dc2",
   "metadata": {},
   "source": [
    "And Redis provides some functions that understand numbers, like `incr`."
   ]
  },
  {
   "cell_type": "code",
   "execution_count": 8,
   "id": "a0f73515",
   "metadata": {
    "tags": []
   },
   "outputs": [],
   "source": [
    "r.incr('x')"
   ]
  },
  {
   "cell_type": "markdown",
   "id": "3d85042a",
   "metadata": {},
   "source": [
    "But if you `get` a numeric value, the result is a bytearray."
   ]
  },
  {
   "cell_type": "code",
   "execution_count": 9,
   "id": "3c5c3140",
   "metadata": {
    "tags": []
   },
   "outputs": [],
   "source": [
    "value = r.get('x')\n",
    "value"
   ]
  },
  {
   "cell_type": "markdown",
   "id": "9d223530",
   "metadata": {},
   "source": [
    "If you want to do math with it, you have to convert it back to a number."
   ]
  },
  {
   "cell_type": "code",
   "execution_count": 10,
   "id": "e5d8f568",
   "metadata": {
    "tags": []
   },
   "outputs": [],
   "source": [
    "int(value)"
   ]
  },
  {
   "cell_type": "markdown",
   "id": "e34e0936",
   "metadata": {},
   "source": [
    "If you want to set more than one value at a time, you can pass a dictionary to `mset`."
   ]
  },
  {
   "cell_type": "code",
   "execution_count": 11,
   "id": "c16bae89-5dab-490e-9fbe-28d963cd19ab",
   "metadata": {
    "tags": []
   },
   "outputs": [],
   "source": [
    "d = dict(x=5, y='string', z=1.23)\n",
    "r.mset(d)"
   ]
  },
  {
   "cell_type": "code",
   "execution_count": 12,
   "id": "b9b3092c-a26e-4e61-b499-64c1cd5f3a20",
   "metadata": {
    "tags": []
   },
   "outputs": [],
   "source": [
    "r.get('y')"
   ]
  },
  {
   "cell_type": "code",
   "execution_count": 13,
   "id": "696af4fe",
   "metadata": {
    "tags": []
   },
   "outputs": [],
   "source": [
    "r.get('z')"
   ]
  },
  {
   "cell_type": "markdown",
   "id": "f688dc8c",
   "metadata": {},
   "source": [
    "If you try to store any other type in a Redis database, you get an error."
   ]
  },
  {
   "cell_type": "code",
   "execution_count": 14,
   "id": "657984fe",
   "metadata": {
    "tags": []
   },
   "outputs": [],
   "source": [
    "from redis import DataError\n",
    "\n",
    "t = [1, 2, 3]\n",
    "\n",
    "try:\n",
    "    r.set('t', t)\n",
    "except DataError as e:\n",
    "    print(e)"
   ]
  },
  {
   "cell_type": "markdown",
   "id": "8ca3330d",
   "metadata": {},
   "source": [
    "We could use the `repr` function to create a string representation of a list, but that representation is Python-specific.\n",
    "It would be better to make a database that can work with any language.\n",
    "To do that, we can use JSON to create a string representation.\n",
    "\n",
    "The `json` module provides a function `dumps`, that creates a language-independent representation of most Python objects."
   ]
  },
  {
   "cell_type": "code",
   "execution_count": 15,
   "id": "89093ef2",
   "metadata": {
    "jupyter": {
     "source_hidden": true
    },
    "tags": []
   },
   "outputs": [],
   "source": [
    "import json\n",
    "\n",
    "t = [1, 2, 3]\n",
    "s = json.dumps(t)\n",
    "s"
   ]
  },
  {
   "cell_type": "markdown",
   "id": "644aa2c5",
   "metadata": {},
   "source": [
    "When we read one of these strings back, we can use `loads` to convert it back to a Python object."
   ]
  },
  {
   "cell_type": "code",
   "execution_count": 16,
   "id": "9cce7b07",
   "metadata": {
    "tags": []
   },
   "outputs": [],
   "source": [
    "t = json.loads(s)\n",
    "t"
   ]
  },
  {
   "cell_type": "markdown",
   "id": "f7961d5e",
   "metadata": {},
   "source": [
    "**Exercise:** Create a dictionary with a few items, including keys and values with different types. Use `json` to make a string representation of the dictionary, then store it as a value in the Redis database. Retrieve it and convert it back to a dictionary."
   ]
  },
  {
   "cell_type": "code",
   "execution_count": 17,
   "id": "ebcea4bf",
   "metadata": {},
   "outputs": [],
   "source": []
  },
  {
   "cell_type": "code",
   "execution_count": 18,
   "id": "a8371aaf",
   "metadata": {},
   "outputs": [],
   "source": []
  },
  {
   "cell_type": "markdown",
   "id": "def5bc71",
   "metadata": {},
   "source": [
    "## Redis Data Types\n",
    "\n",
    "JSON can represent most Python objects, so we could use it to store arbitrary data structures in Redis. But in that case Redis only knows that they are strings; it can't work with them as data structures. For example, if we store a data structure in JSON, the only way to modify it would be to:\n",
    "\n",
    "1. Get the entire structure, which might be large,\n",
    "\n",
    "2. Load it back into a Python structure,\n",
    "\n",
    "3. Modify the Python structure,\n",
    "\n",
    "4. Dump it back into a JSON string, and\n",
    "\n",
    "5. Replace the old value in the database with the new value.\n",
    "\n",
    "That's not very efficient. A better alternative is to use the data types Redis provides, which you can read about in the\n",
    "[Redis Data Types Intro](https://redis.io/topics/data-types-intro)."
   ]
  },
  {
   "cell_type": "markdown",
   "id": "5f79e4c8-15cf-40be-a357-5a854a3cf72b",
   "metadata": {},
   "source": [
    "# Lists\n",
    "\n",
    "The `rpush` method adds new elements to the end of a list (the `r` indicates the right-hand side of the list)."
   ]
  },
  {
   "cell_type": "code",
   "execution_count": 19,
   "id": "8420b95c",
   "metadata": {
    "tags": []
   },
   "outputs": [],
   "source": [
    "r.rpush('t', 1, 2, 3)"
   ]
  },
  {
   "cell_type": "markdown",
   "id": "b34b39dd",
   "metadata": {},
   "source": [
    "You don't have to do anything special to create a list; if it doesn't exist, Redis creates it.\n",
    "\n",
    "`llen` returns the length of the list."
   ]
  },
  {
   "cell_type": "code",
   "execution_count": 20,
   "id": "fe62de32",
   "metadata": {
    "tags": []
   },
   "outputs": [],
   "source": [
    "r.llen('t')"
   ]
  },
  {
   "cell_type": "markdown",
   "id": "cc0a1778",
   "metadata": {},
   "source": [
    "`lrange` gets elements from a list. With the indices `0` and `-1`, it gets all of the elements."
   ]
  },
  {
   "cell_type": "code",
   "execution_count": 21,
   "id": "73af1d78",
   "metadata": {
    "tags": []
   },
   "outputs": [],
   "source": [
    "r.lrange('t', 0, -1)"
   ]
  },
  {
   "cell_type": "markdown",
   "id": "e8bd4156",
   "metadata": {},
   "source": [
    "The result is a Python list, but the elements are bytestrings.\n",
    "\n",
    "`rpop` removes elements from the end of the list."
   ]
  },
  {
   "cell_type": "code",
   "execution_count": 22,
   "id": "c90abe67",
   "metadata": {
    "tags": []
   },
   "outputs": [],
   "source": [
    "r.rpop('t')"
   ]
  },
  {
   "cell_type": "markdown",
   "id": "31d8d762",
   "metadata": {},
   "source": [
    "You can read more about the other list methods in the [Redis documentation](https://redis.io/commands#list).\n",
    "\n",
    "And you can read about the [redis-py API here](https://redis-py.readthedocs.io/en/stable/index.html#redis.Redis.rpush).\n",
    "\n",
    "In general, the documentation of Redis is very good; the documentation of `redis-py` is a little rough around the edges."
   ]
  },
  {
   "cell_type": "markdown",
   "id": "0d1d32c7",
   "metadata": {},
   "source": [
    "**Exercise:** Use `lpush` to add elements to the beginning of the list and `lpop` to remove them.\n",
    "\n",
    "Note: Redis lists behave like linked lists, so you can add and remove elements from either end in constant time."
   ]
  },
  {
   "cell_type": "code",
   "execution_count": 23,
   "id": "70397a78",
   "metadata": {
    "tags": []
   },
   "outputs": [],
   "source": [
    "r.lpush('t', -3, -2, -1)"
   ]
  },
  {
   "cell_type": "code",
   "execution_count": 24,
   "id": "6677cca8",
   "metadata": {
    "tags": []
   },
   "outputs": [],
   "source": [
    "r.lpop('t')"
   ]
  },
  {
   "cell_type": "markdown",
   "id": "0a93b321",
   "metadata": {},
   "source": [
    "## Hash\n",
    "\n",
    "A [Redis hash](https://redis.io/commands#hash) is similar to a Python dictionary, but just to make things confusing the nomenclature is a little different.\n",
    "\n",
    "What we would call a \"key\" in a Python dictionary is called a \"field\" in a Redis hash.\n",
    "\n",
    "The `hset` method sets a field-value pair in a hash:"
   ]
  },
  {
   "cell_type": "code",
   "execution_count": 25,
   "id": "95880c71",
   "metadata": {
    "tags": []
   },
   "outputs": [],
   "source": [
    "r.hset('h', 'field', 'value')"
   ]
  },
  {
   "cell_type": "markdown",
   "id": "5761a245",
   "metadata": {},
   "source": [
    "The `hget` method looks up a field and returns the corresponding value."
   ]
  },
  {
   "cell_type": "code",
   "execution_count": 26,
   "id": "4c7a92b4",
   "metadata": {
    "tags": []
   },
   "outputs": [],
   "source": [
    "r.hget('h', 'field')"
   ]
  },
  {
   "cell_type": "markdown",
   "id": "20a65f13",
   "metadata": {},
   "source": [
    "`hset` can also take a Python dictionary as a parameter:"
   ]
  },
  {
   "cell_type": "code",
   "execution_count": 27,
   "id": "1fe45ce3",
   "metadata": {
    "tags": []
   },
   "outputs": [],
   "source": [
    "d = dict(a=1, b=2, c=3)\n",
    "r.hset('h', mapping=d)"
   ]
  },
  {
   "cell_type": "markdown",
   "id": "10173aab",
   "metadata": {},
   "source": [
    "To iterate the elements of a hash, we can use `hscan_iter`:"
   ]
  },
  {
   "cell_type": "code",
   "execution_count": 28,
   "id": "5fa8de8e",
   "metadata": {
    "tags": []
   },
   "outputs": [],
   "source": [
    "for field, value in r.hscan_iter('h'):\n",
    "    print(field, value)"
   ]
  },
  {
   "cell_type": "markdown",
   "id": "99ae76f4",
   "metadata": {},
   "source": [
    "The results are bytestrings for both the fields and values."
   ]
  },
  {
   "cell_type": "markdown",
   "id": "46636979",
   "metadata": {},
   "source": [
    "**Exercise:** To add multiple items to a hash, you can use `hset` with the keyword `mapping` and a dictionary (or other mapping type).\n",
    "\n",
    "Use the `Counter` object from the `collections` module to count the letters in a string, then use `hset` to store the results in a Redis hash.\n",
    "\n",
    "Then use `hscan_iter` to display the results."
   ]
  },
  {
   "cell_type": "code",
   "execution_count": 29,
   "id": "be52d3e4",
   "metadata": {},
   "outputs": [],
   "source": []
  },
  {
   "cell_type": "code",
   "execution_count": 30,
   "id": "31966444",
   "metadata": {},
   "outputs": [],
   "source": []
  },
  {
   "cell_type": "markdown",
   "id": "8f6ed112",
   "metadata": {},
   "source": [
    "## Deleting\n",
    "\n",
    "Before we go on, let's clean up the database by deleting all of the key-value pairs."
   ]
  },
  {
   "cell_type": "code",
   "execution_count": 31,
   "id": "3b96060a-de5e-4ba6-baa9-bb2646d84d5e",
   "metadata": {
    "tags": []
   },
   "outputs": [],
   "source": [
    "for key in r.keys():\n",
    "    r.delete(key)"
   ]
  },
  {
   "cell_type": "markdown",
   "id": "2f7a3a07-471c-4e8a-bb35-b61cfc4ce404",
   "metadata": {},
   "source": [
    "## Anagrams (again!)\n",
    "\n",
    "In a previous notebook, we made sets of words that are anagrams of each other by building a dictionary where they keys are sorted strings of letters and the values are lists of words.\n",
    "\n",
    "We'll start by solving this problem again using Python data structures; then we'll translate it into Redis.\n",
    "\n",
    "The following cell downloads a file that contains the list of words."
   ]
  },
  {
   "cell_type": "code",
   "execution_count": 32,
   "id": "901814e8-fb97-4297-973f-bf1111962ce4",
   "metadata": {},
   "outputs": [],
   "source": [
    "from os.path import basename, exists\n",
    "\n",
    "def download(url):\n",
    "    filename = basename(url)\n",
    "    if not exists(filename):\n",
    "        from urllib.request import urlretrieve\n",
    "        local, _ = urlretrieve(url, filename)\n",
    "        print('Downloaded ' + local)\n",
    "    \n",
    "download('https://github.com/AllenDowney/DSIRP/raw/main/american-english')"
   ]
  },
  {
   "cell_type": "markdown",
   "id": "cc4311a6",
   "metadata": {},
   "source": [
    "And here's a generator function that reads the words in the file and yields them one at a time."
   ]
  },
  {
   "cell_type": "code",
   "execution_count": 33,
   "id": "0dc6f19d-b19d-449b-9c7a-61a4597eb1a5",
   "metadata": {},
   "outputs": [],
   "source": [
    "def iterate_words(filename):\n",
    "    \"\"\"Read lines from a file and split them into words.\"\"\"\n",
    "    for line in open(filename):\n",
    "        for word in line.split():\n",
    "            yield word.strip()"
   ]
  },
  {
   "cell_type": "markdown",
   "id": "20b35676",
   "metadata": {},
   "source": [
    "The \"signature\" of a word is a string that contains the letter of the word in sorted order.\n",
    "So if two words are anagrams, they have the same signature."
   ]
  },
  {
   "cell_type": "code",
   "execution_count": 34,
   "id": "0575084b",
   "metadata": {},
   "outputs": [],
   "source": [
    "def signature(word):\n",
    "    return ''.join(sorted(word))"
   ]
  },
  {
   "cell_type": "markdown",
   "id": "d1000678",
   "metadata": {},
   "source": [
    "The following loop makes a dictionary of anagram lists."
   ]
  },
  {
   "cell_type": "code",
   "execution_count": 35,
   "id": "97fd40cf-d277-4f5d-ab47-60414181ec15",
   "metadata": {},
   "outputs": [],
   "source": [
    "anagram_dict = {}\n",
    "for word in iterate_words('american-english'):\n",
    "    key = signature(word)\n",
    "    anagram_dict.setdefault(key, []).append(word)"
   ]
  },
  {
   "cell_type": "markdown",
   "id": "6c6003da",
   "metadata": {},
   "source": [
    "The following loop prints all anagram lists with 6 or more words"
   ]
  },
  {
   "cell_type": "code",
   "execution_count": 36,
   "id": "46255a02-1d46-4026-ac45-4ac0a7b5728c",
   "metadata": {},
   "outputs": [],
   "source": [
    "for v in anagram_dict.values():\n",
    "    if len(v) >= 6:\n",
    "        print(len(v), v)"
   ]
  },
  {
   "cell_type": "markdown",
   "id": "96d261f0",
   "metadata": {},
   "source": [
    "Now, to do the same thing in Redis, we have two options:\n",
    "\n",
    "* We can store the anagram lists using Redis lists, using the signatures as keys.\n",
    "\n",
    "* We can store the whole data structure in a Redis hash.\n",
    "\n",
    "A problem with the first option is that the keys in a Redis database are like global variables. If we create a large number of keys, we are likely to run into name conflicts.\n",
    "We can mitigate this problem by giving each key a prefix that identifies its purpose.\n",
    "\n",
    "The following loop implements the first option, using \"Anagram\" as a prefix for the keys."
   ]
  },
  {
   "cell_type": "code",
   "execution_count": 37,
   "id": "d8486f47-9a07-45f7-ba7c-26dfcfa26bca",
   "metadata": {
    "tags": []
   },
   "outputs": [],
   "source": [
    "for word in iterate_words('american-english'):\n",
    "    key = f'Anagram:{signature(word)}'\n",
    "    r.rpush(key, word)"
   ]
  },
  {
   "cell_type": "markdown",
   "id": "59113bde",
   "metadata": {},
   "source": [
    "An advantage of this option is that it makes good use of Redis lists. A drawback is that makes many small database transactions, so it is relatively slow. \n",
    "\n",
    "We can use `keys` to get a list of all keys with a given prefix."
   ]
  },
  {
   "cell_type": "code",
   "execution_count": 38,
   "id": "742676c5-e432-4029-9717-5dfebcdac346",
   "metadata": {
    "tags": []
   },
   "outputs": [],
   "source": [
    "keys = r.keys('Anagram*')\n",
    "len(keys)"
   ]
  },
  {
   "cell_type": "markdown",
   "id": "fad3d245",
   "metadata": {},
   "source": [
    "**Exercise:** Write a loop that iterates through `keys`, uses `llen` to get the length of each list, and prints the elements of all lists with 6 or more elements."
   ]
  },
  {
   "cell_type": "code",
   "execution_count": 39,
   "id": "66183e66-e68c-4c00-8a60-cec3f0210774",
   "metadata": {},
   "outputs": [],
   "source": []
  },
  {
   "cell_type": "markdown",
   "id": "4460b911",
   "metadata": {},
   "source": [
    "Before we go on, we can delete the keys from the database like this."
   ]
  },
  {
   "cell_type": "code",
   "execution_count": 40,
   "id": "386cf754",
   "metadata": {
    "tags": []
   },
   "outputs": [],
   "source": [
    "r.delete(*keys)"
   ]
  },
  {
   "cell_type": "markdown",
   "id": "abd053f2",
   "metadata": {},
   "source": [
    "The second option is to compute the dictionary of anagram lists locally and then store it as a Redis hash.\n",
    "\n",
    "The following function uses `dumps` to convert lists to strings that can be stored as values in a Redis hash."
   ]
  },
  {
   "cell_type": "code",
   "execution_count": 41,
   "id": "eb099968-6f26-4546-b2dd-c81ac966720c",
   "metadata": {
    "jupyter": {
     "source_hidden": true
    },
    "tags": []
   },
   "outputs": [],
   "source": [
    "hash_key = 'AnagramHash'\n",
    "for field, t in anagram_dict.items():\n",
    "    value = json.dumps(t)\n",
    "    r.hset(hash_key, field, value)"
   ]
  },
  {
   "cell_type": "markdown",
   "id": "a4e0e9a9",
   "metadata": {},
   "source": [
    "We can do the same thing faster if we convert all of the lists to JSON locally and store all of the field-value pairs with one `hset` command.\n",
    "\n",
    "First, I'll delete the hash we just created."
   ]
  },
  {
   "cell_type": "code",
   "execution_count": 42,
   "id": "731da84a",
   "metadata": {
    "tags": []
   },
   "outputs": [],
   "source": [
    "r.delete(hash_key)"
   ]
  },
  {
   "cell_type": "markdown",
   "id": "2ed88099",
   "metadata": {},
   "source": [
    "**Exercise:** Make a Python dictionary that contains the items from `anagram_dict` but with the values converted to JSON. Use `hset` with the `mapping` keyword to store it as a Redis hash."
   ]
  },
  {
   "cell_type": "code",
   "execution_count": 43,
   "id": "9af731bd",
   "metadata": {},
   "outputs": [],
   "source": []
  },
  {
   "cell_type": "markdown",
   "id": "bd8bc514",
   "metadata": {},
   "source": [
    "**Exercise:** Write a loop that iterates through the field-value pairs, converts each value back to a Python list, and prints the lists with 6 or more elements."
   ]
  },
  {
   "cell_type": "code",
   "execution_count": 44,
   "id": "f51f2796",
   "metadata": {},
   "outputs": [],
   "source": []
  },
  {
   "cell_type": "markdown",
   "id": "c4646cdb",
   "metadata": {},
   "source": [
    "## Shut down\n",
    "\n",
    "If you are running this notebook on your own computer, you can use the following command to shut down the Redis server.\n",
    "\n",
    "If you are running on Colab, it's not really necessary: the Redis server will get shut down when the Colab runtime shuts down (and everything stored in it will disappear)."
   ]
  },
  {
   "cell_type": "code",
   "execution_count": 45,
   "id": "087fb87a",
   "metadata": {},
   "outputs": [],
   "source": [
    "!killall redis-server"
   ]
  },
  {
   "cell_type": "markdown",
   "id": "048dc60c",
   "metadata": {},
   "source": [
    "*Data Structures and Information Retrieval in Python*\n",
    "\n",
    "Copyright 2021 Allen Downey\n",
    "\n",
    "License: [Creative Commons Attribution-NonCommercial-ShareAlike 4.0 International](https://creativecommons.org/licenses/by-nc-sa/4.0/)"
   ]
  }
 ],
 "metadata": {
  "celltoolbar": "Tags",
  "kernelspec": {
   "display_name": "Python 3 (ipykernel)",
   "language": "python",
   "name": "python3"
  },
  "language_info": {
   "codemirror_mode": {
    "name": "ipython",
    "version": 3
   },
   "file_extension": ".py",
   "mimetype": "text/x-python",
   "name": "python",
   "nbconvert_exporter": "python",
   "pygments_lexer": "ipython3",
   "version": "3.10.1"
  }
 },
 "nbformat": 4,
 "nbformat_minor": 5
}

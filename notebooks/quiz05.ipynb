{
 "cells": [
  {
   "cell_type": "markdown",
   "metadata": {},
   "source": [
    "# Quiz 5\n",
    "\n",
    "BEFORE YOU START THIS QUIZ:\n",
    "\n",
    "1. Click on \"Copy to Drive\" to make a copy of the quiz,\n",
    "\n",
    "2. Click on \"Share\",\n",
    "    \n",
    "3. Click on \"Change\" and select \"Anyone with this link can edit\"\n",
    "    \n",
    "4. Click \"Copy link\" and\n",
    "\n",
    "5. Paste the link into [this Canvas assignment](https://canvas.olin.edu/courses/313/assignments/5075). "
   ]
  },
  {
   "cell_type": "markdown",
   "metadata": {},
   "source": [
    "This quiz is open notes, open internet. \n",
    "\n",
    "* You can ask for help from the instructor, but not from anyone else.\n",
    "\n",
    "* You can use code you find on the internet, but if you use more than a couple of lines from a single source, you should attribute the source.\n",
    "\n"
   ]
  },
  {
   "cell_type": "markdown",
   "metadata": {},
   "source": [
    "## Install and Start Redis\n",
    "\n",
    "For this quiz, we will run Redis on Colab. The following cells install and start the server, install the client, and instantiate a `Redis` object."
   ]
  },
  {
   "cell_type": "code",
   "execution_count": null,
   "metadata": {},
   "outputs": [],
   "source": [
    "import sys\n",
    "\n",
    "IN_COLAB = 'google.colab' in sys.modules\n",
    "\n",
    "if IN_COLAB:\n",
    "    !pip install redis-server\n",
    "    !/usr/local/lib/python*/dist-packages/redis_server/bin/redis-server --daemonize yes\n",
    "else:\n",
    "    !redis-server --daemonize yes"
   ]
  },
  {
   "cell_type": "code",
   "execution_count": null,
   "metadata": {},
   "outputs": [],
   "source": [
    "try:\n",
    "    import redis\n",
    "except ImportError:\n",
    "    !pip install redis"
   ]
  },
  {
   "cell_type": "code",
   "execution_count": null,
   "metadata": {},
   "outputs": [],
   "source": [
    "import redis\n",
    "\n",
    "r = redis.Redis()"
   ]
  },
  {
   "cell_type": "markdown",
   "metadata": {},
   "source": [
    "## Linda the Banker\n",
    "\n",
    "In a [famous experiment](https://en.wikipedia.org/wiki/Conjunction_fallacy), Tversky and Kahneman posed the following question:\n",
    "\n",
    "> Linda is 31 years old, single, outspoken, and very bright. She majored in philosophy. As a student, she was deeply concerned with issues of discrimination and social justice, and also participated in anti-nuclear demonstrations.  Which is more probable?\n",
    "> 1. Linda is a bank teller.\n",
    "> 2. Linda is a bank teller and is active in the feminist movement.\n",
    "\n",
    "Many people choose the second answer, presumably because it seems more consistent with the description.  It seems uncharacteristic if Linda is *just* a bank teller; it seems more consistent if she is also a feminist."
   ]
  },
  {
   "cell_type": "markdown",
   "metadata": {},
   "source": [
    "But the second answer cannot be \"more probable\", as the question asks.\n",
    "To see why, let's explore some data.\n",
    "The following cell downloads data from the [General Social Survey](http://www.gss.norc.org/)."
   ]
  },
  {
   "cell_type": "code",
   "execution_count": null,
   "metadata": {},
   "outputs": [],
   "source": [
    "from os.path import basename, exists\n",
    "\n",
    "def download(url):\n",
    "    filename = basename(url)\n",
    "    if not exists(filename):\n",
    "        from urllib.request import urlretrieve\n",
    "        local, _ = urlretrieve(url, filename)\n",
    "        print('Downloaded ' + local)\n",
    "    \n",
    "download('https://github.com/AllenDowney/BiteSizeBayes/raw/master/gss_bayes.csv')"
   ]
  },
  {
   "cell_type": "markdown",
   "metadata": {},
   "source": [
    "The following cell loads the data into a Pandas `DataFrame`. If you are not familiar with Pandas, I will explain what you need to know."
   ]
  },
  {
   "cell_type": "code",
   "execution_count": null,
   "metadata": {},
   "outputs": [],
   "source": [
    "import pandas as pd\n",
    "\n",
    "gss = pd.read_csv('gss_bayes.csv', index_col=0)\n",
    "gss.index = pd.Index(range(len(gss)), name='caseid')\n",
    "gss.head()"
   ]
  },
  {
   "cell_type": "markdown",
   "metadata": {},
   "source": [
    "The `DataFrame` has one row for each person surveyed, called a \"respondent\", and one column for each variable I selected.\n",
    "The columns are:\n",
    "\n",
    "* `caseid`: Identification number for the respondent.\n",
    "\n",
    "* `year`: Year when the respondent was surveyed.\n",
    "\n",
    "* `age`: Respondent's age when surveyed.\n",
    "\n",
    "* `sex`: Male or female.\n",
    "\n",
    "* `polviews`: Political views on a range from liberal to conservative.\n",
    "\n",
    "* `partyid`: Political party affiliation, Democrat, Independent, or Republican.\n",
    "\n",
    "* `indus10`: [Code](https://www.census.gov/cgi-bin/sssd/naics/naicsrch?chart=2007) for the industry the respondent works in."
   ]
  },
  {
   "cell_type": "markdown",
   "metadata": {},
   "source": [
    "We will use Redis sets to explore the relationships among these variables.\n",
    "Specifically, we will answer the following questions related to the \"Linda problem\".\n",
    "\n",
    "* The number of respondents who are female bankers,\n",
    "\n",
    "* The number of respondents who are liberal female banker.\n",
    "\n",
    "And we will see that the second number is smaller than the first."
   ]
  },
  {
   "cell_type": "markdown",
   "metadata": {},
   "source": [
    "## Iterating rows\n",
    "\n",
    "The following loop iterates the first 3 rows in the `DataFrame` and prints the `caseid` and the contents of the row."
   ]
  },
  {
   "cell_type": "code",
   "execution_count": null,
   "metadata": {
    "tags": []
   },
   "outputs": [],
   "source": [
    "for caseid, row in gss.iterrows():\n",
    "    print(caseid)\n",
    "    print(row)\n",
    "    if caseid >= 3:\n",
    "        break"
   ]
  },
  {
   "cell_type": "markdown",
   "metadata": {},
   "source": [
    "The following loop iterates through the `DataFrame` and makes a set containing the `caseid` for the rows where the industry code is 6870, which indicates that the respondent works in banking."
   ]
  },
  {
   "cell_type": "code",
   "execution_count": null,
   "metadata": {
    "tags": []
   },
   "outputs": [],
   "source": [
    "bankers = set()\n",
    "\n",
    "for caseid, row in gss.iterrows():\n",
    "    if row.indus10 == 6870:\n",
    "        bankers.add(caseid)\n",
    "        \n",
    "len(bankers)"
   ]
  },
  {
   "cell_type": "markdown",
   "metadata": {},
   "source": [
    "Now let's do the same thing using a Redis set."
   ]
  },
  {
   "cell_type": "markdown",
   "metadata": {},
   "source": [
    "## Question 1\n",
    "\n",
    "The following loop creates a Redis set that contains the `caseid` for all respondents whose `indus10` is `6870`."
   ]
  },
  {
   "cell_type": "code",
   "execution_count": null,
   "metadata": {
    "tags": []
   },
   "outputs": [],
   "source": [
    "banker_key = 'gss_set:bankers'\n",
    "\n",
    "for caseid, row in gss.iterrows():\n",
    "    if row.indus10 == 6870:\n",
    "        r.sadd(banker_key, caseid)"
   ]
  },
  {
   "cell_type": "markdown",
   "metadata": {},
   "source": [
    "Write a Redis command to get the number of elements in the resulting set.\n",
    "\n",
    "Here's the [documentation for Redis set commands](https://redis.io/commands#set).\n"
   ]
  },
  {
   "cell_type": "code",
   "execution_count": null,
   "metadata": {
    "tags": []
   },
   "outputs": [],
   "source": []
  },
  {
   "cell_type": "markdown",
   "metadata": {},
   "source": [
    "## Question 2\n",
    "\n",
    "The following cell makes a Python set that contains the `caseid` of all respondents who identify as female."
   ]
  },
  {
   "cell_type": "code",
   "execution_count": null,
   "metadata": {
    "tags": []
   },
   "outputs": [],
   "source": [
    "female = set()\n",
    "\n",
    "for caseid, row in gss.iterrows():\n",
    "    if row.sex == 2:\n",
    "        female.add(caseid)\n",
    "        \n",
    "len(female)"
   ]
  },
  {
   "cell_type": "markdown",
   "metadata": {},
   "source": [
    "The following cell makes a Python set that includes the `caseid` for people who self-identify as \"Extremely liberal\", \"Liberal\", or \"Slightly liberal\"."
   ]
  },
  {
   "cell_type": "code",
   "execution_count": null,
   "metadata": {
    "tags": []
   },
   "outputs": [],
   "source": [
    "liberal = set()\n",
    "\n",
    "for caseid, row in gss.iterrows():\n",
    "    if row.polviews <= 3:\n",
    "        liberal.add(caseid)\n",
    "        \n",
    "len(liberal)"
   ]
  },
  {
   "cell_type": "markdown",
   "metadata": {},
   "source": [
    "Write versions of these loops that create these sets on Redis, and display the number of elements in each set.\n",
    "For the keys, use the following strings:"
   ]
  },
  {
   "cell_type": "code",
   "execution_count": null,
   "metadata": {
    "tags": []
   },
   "outputs": [],
   "source": [
    "female_key = 'gss_set:female'\n",
    "liberal_key = 'gss_set:liberal'"
   ]
  },
  {
   "cell_type": "code",
   "execution_count": null,
   "metadata": {
    "tags": []
   },
   "outputs": [],
   "source": []
  },
  {
   "cell_type": "code",
   "execution_count": null,
   "metadata": {
    "tags": []
   },
   "outputs": [],
   "source": []
  },
  {
   "cell_type": "markdown",
   "metadata": {},
   "source": [
    "Before you go on, make sure you have three sets on Redis, and the number of elements in each set is consistent with the results we got with Python sets.\n",
    "\n",
    "If you make a mistake, you can use `delete` to start with a fresh, empty set.\n",
    "Or you can use the following loop to start with a fresh, empty database."
   ]
  },
  {
   "cell_type": "code",
   "execution_count": null,
   "metadata": {},
   "outputs": [],
   "source": [
    "#for key in r.keys():\n",
    "#    r.delete(key)"
   ]
  },
  {
   "cell_type": "markdown",
   "metadata": {},
   "source": [
    "## Question 3\n",
    "\n",
    "One of the strengths of Redis is that it provides functions that perform computations on the server, including a function that computes the intersection of two or more sets.\n",
    "\n",
    "Write Redis commands to compute:\n",
    "\n",
    "1) A set of `caseid` values for respondents who are female bankers.\n",
    "\n",
    "2) A set of `caseid` values for respondents who are liberal female bankers.\n",
    "\n",
    "Confirm that the second set is, in fact, smaller than the first."
   ]
  },
  {
   "cell_type": "code",
   "execution_count": null,
   "metadata": {},
   "outputs": [],
   "source": []
  },
  {
   "cell_type": "code",
   "execution_count": null,
   "metadata": {},
   "outputs": [],
   "source": []
  },
  {
   "cell_type": "code",
   "execution_count": null,
   "metadata": {},
   "outputs": [],
   "source": []
  },
  {
   "cell_type": "code",
   "execution_count": null,
   "metadata": {},
   "outputs": [],
   "source": []
  },
  {
   "cell_type": "markdown",
   "metadata": {},
   "source": [
    "## Question 4\n",
    "\n",
    "Now suppose you want to look up a `caseid` and find all of the sets it belongs to.\n",
    "\n",
    "Write a function called `find_tags` that takes a `caseid` and returns a set of strings, where each string is the key of a set that contains the `caseid`.\n",
    "\n",
    "For example, if the `caseid` is 33, the result should be the set\n",
    "\n",
    "```\n",
    "{b'gss_set:bankers', b'gss_set:female'}\n",
    "```\n",
    "\n",
    "which indicates that this respondent is a female banker (but not liberal)."
   ]
  },
  {
   "cell_type": "code",
   "execution_count": null,
   "metadata": {},
   "outputs": [],
   "source": []
  },
  {
   "cell_type": "markdown",
   "metadata": {},
   "source": [
    "You can use the following examples to test your function. You should find that the respondent with `caseid` 33 is a female banker."
   ]
  },
  {
   "cell_type": "code",
   "execution_count": null,
   "metadata": {},
   "outputs": [],
   "source": [
    "find_tags(33)"
   ]
  },
  {
   "cell_type": "markdown",
   "metadata": {},
   "source": [
    "And the respondent with `caseid` 451 is a liberal female banker."
   ]
  },
  {
   "cell_type": "code",
   "execution_count": null,
   "metadata": {},
   "outputs": [],
   "source": [
    "find_tags(451)"
   ]
  },
  {
   "cell_type": "markdown",
   "metadata": {},
   "source": [
    "## Just For Fun Extra Question\n",
    "\n",
    "Suppose there are a large number of sets and you often want to look up a `caseid` and find the sets it belongs to.\n",
    "\n",
    "Iterate through the sets we've defined so far and make a reverse index that maps from each `caseid` to a list of keys for the sets it belongs to."
   ]
  },
  {
   "cell_type": "code",
   "execution_count": null,
   "metadata": {},
   "outputs": [],
   "source": []
  },
  {
   "cell_type": "code",
   "execution_count": null,
   "metadata": {},
   "outputs": [],
   "source": []
  },
  {
   "cell_type": "code",
   "execution_count": null,
   "metadata": {},
   "outputs": [],
   "source": []
  },
  {
   "cell_type": "markdown",
   "metadata": {},
   "source": [
    "*Data Structures and Information Retrieval in Python*\n",
    "\n",
    "Copyright 2021 Allen Downey\n",
    "\n",
    "License: [Creative Commons Attribution-NonCommercial-ShareAlike 4.0 International](https://creativecommons.org/licenses/by-nc-sa/4.0/)"
   ]
  },
  {
   "cell_type": "code",
   "execution_count": null,
   "metadata": {},
   "outputs": [],
   "source": []
  }
 ],
 "metadata": {
  "kernelspec": {
   "display_name": "Python 3 (ipykernel)",
   "language": "python",
   "name": "python3"
  },
  "language_info": {
   "codemirror_mode": {
    "name": "ipython",
    "version": 3
   },
   "file_extension": ".py",
   "mimetype": "text/x-python",
   "name": "python",
   "nbconvert_exporter": "python",
   "pygments_lexer": "ipython3",
   "version": "3.9.7"
  }
 },
 "nbformat": 4,
 "nbformat_minor": 4
}

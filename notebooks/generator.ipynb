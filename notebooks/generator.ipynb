{
 "cells": [
  {
   "cell_type": "markdown",
   "id": "isolated-storm",
   "metadata": {},
   "source": [
    "# Generators and Iterators"
   ]
  },
  {
   "cell_type": "markdown",
   "id": "planned-young",
   "metadata": {},
   "source": [
    "[Click here to run this chapter on Colab](https://colab.research.google.com/github/AllenDowney/DSIRP/blob/main/notebooks/generator.ipynb)"
   ]
  },
  {
   "cell_type": "markdown",
   "id": "recreational-remark",
   "metadata": {},
   "source": [
    "This chapter introduces generator functions, which are functions that yield a stream of values, rather than returning a single value.\n",
    "\n",
    "To demonstrate their use, we'll explore Cartesian products, permutations, and combinations, using playing cards as an example."
   ]
  },
  {
   "cell_type": "markdown",
   "id": "historic-rally",
   "metadata": {},
   "source": [
    "## Generators\n",
    "\n",
    "As a first example, we'll write a generator function that generates the playing cards in a standard 52-card deck.\n",
    "This example is inspired by an example in Peter Norvig's [\"A Concrete Introduction to Probability (using Python)\"](https://nbviewer.ipython.org/url/norvig.com/ipython/Probability.ipynb).\n",
    "\n",
    "Here are Unicode strings that represent the set of suits and the set of ranks."
   ]
  },
  {
   "cell_type": "code",
   "execution_count": 1,
   "id": "racial-nylon",
   "metadata": {},
   "outputs": [],
   "source": [
    "suits = u'♠♥♦♣'\n",
    "ranks = u'AKQJ⑽98765432'"
   ]
  },
  {
   "cell_type": "markdown",
   "id": "received-secondary",
   "metadata": {},
   "source": [
    "And here's a nested for loop that enumerates all pairings of a rank with a suit."
   ]
  },
  {
   "cell_type": "code",
   "execution_count": 2,
   "id": "figured-mission",
   "metadata": {},
   "outputs": [],
   "source": []
  },
  {
   "cell_type": "markdown",
   "id": "packed-python",
   "metadata": {},
   "source": [
    "This set of pairs is the [Cartesian product](https://en.wikipedia.org/wiki/Cartesian_product) of the set of ranks and the set of suits.\n",
    "\n",
    "The following function encapsulates the loops and uses the `yield` statement to generate a stream of cards."
   ]
  },
  {
   "cell_type": "code",
   "execution_count": 3,
   "id": "angry-reception",
   "metadata": {},
   "outputs": [],
   "source": []
  },
  {
   "cell_type": "markdown",
   "id": "resident-chrome",
   "metadata": {},
   "source": [
    "Because this function includes a `yield` statement, it is a generator function. When we call it, the return value is a generator object."
   ]
  },
  {
   "cell_type": "code",
   "execution_count": 4,
   "id": "unable-procedure",
   "metadata": {},
   "outputs": [],
   "source": []
  },
  {
   "cell_type": "markdown",
   "id": "liable-ministry",
   "metadata": {},
   "source": [
    "The generator object is iterable, so we can use `next` to get the first element of the stream."
   ]
  },
  {
   "cell_type": "code",
   "execution_count": 5,
   "id": "unavailable-smell",
   "metadata": {},
   "outputs": [],
   "source": []
  },
  {
   "cell_type": "markdown",
   "id": "dynamic-lexington",
   "metadata": {},
   "source": [
    "The first time we call `next`, the function runs until it hits the `yield` statement.\n",
    "If we call `next` again, the function resumes from where it left off and runs until it hits the `yield` statement again. "
   ]
  },
  {
   "cell_type": "code",
   "execution_count": 6,
   "id": "received-kidney",
   "metadata": {},
   "outputs": [],
   "source": []
  },
  {
   "cell_type": "markdown",
   "id": "actual-tradition",
   "metadata": {},
   "source": [
    "Because `it` is iterable, we can use it in a for loop to enumerate the remaining pairs."
   ]
  },
  {
   "cell_type": "code",
   "execution_count": 7,
   "id": "complimentary-coverage",
   "metadata": {},
   "outputs": [],
   "source": []
  },
  {
   "cell_type": "markdown",
   "id": "cosmetic-entrepreneur",
   "metadata": {},
   "source": [
    "When the flow of control reaches the end of the function, the generator object raises and exception, which causes the for loop to end."
   ]
  },
  {
   "cell_type": "markdown",
   "id": "infectious-tension",
   "metadata": {},
   "source": [
    "## itertools\n",
    "\n",
    "The `itertools` library provides function for working with iterators, including `product`, which is a generator function that takes iterators as arguments at yields their Cartesian product.\n",
    "We'll use `itertools.product` in the next few sections; then we'll see how to implement it.\n",
    "\n",
    "Here's a loop that uses `itertools.product` to generate the playing cards again."
   ]
  },
  {
   "cell_type": "code",
   "execution_count": 8,
   "id": "surrounded-roads",
   "metadata": {},
   "outputs": [],
   "source": []
  },
  {
   "cell_type": "markdown",
   "id": "competent-annex",
   "metadata": {},
   "source": [
    "**Exercise:** Encapsulate the previous loop in a generator function called `card_generator2` that yields the playing  cards. Then call your function and use it to print the cards."
   ]
  },
  {
   "cell_type": "code",
   "execution_count": 9,
   "id": "global-lesbian",
   "metadata": {},
   "outputs": [],
   "source": []
  },
  {
   "cell_type": "code",
   "execution_count": 10,
   "id": "included-enclosure",
   "metadata": {},
   "outputs": [],
   "source": []
  },
  {
   "cell_type": "markdown",
   "id": "stunning-islam",
   "metadata": {},
   "source": [
    "## Enumerating all pairs\n",
    "\n",
    "Now that we have playing cards, let's deal a few hands. In fact, let's deal all the hands.\n",
    "\n",
    "First, I'll create two card generators."
   ]
  },
  {
   "cell_type": "code",
   "execution_count": 11,
   "id": "caroline-aberdeen",
   "metadata": {},
   "outputs": [],
   "source": []
  },
  {
   "cell_type": "markdown",
   "id": "connected-revolution",
   "metadata": {},
   "source": [
    "Now we can use `product` to generate all pairs of cards."
   ]
  },
  {
   "cell_type": "code",
   "execution_count": 12,
   "id": "billion-rebel",
   "metadata": {},
   "outputs": [],
   "source": []
  },
  {
   "cell_type": "markdown",
   "id": "certain-studio",
   "metadata": {},
   "source": [
    "To check whether it's working correctly, it will be useful to count the number of elements in an iterator, which is what `ilen` does.\n",
    "This idiom is discussed [on Stack Overflow](https://stackoverflow.com/questions/390852/is-there-any-built-in-way-to-get-the-length-of-an-iterable-in-python)."
   ]
  },
  {
   "cell_type": "code",
   "execution_count": 13,
   "id": "apart-courtesy",
   "metadata": {},
   "outputs": [],
   "source": []
  },
  {
   "cell_type": "markdown",
   "id": "moderate-plate",
   "metadata": {},
   "source": [
    "Now we can use it to count the pairs of cards."
   ]
  },
  {
   "cell_type": "code",
   "execution_count": 14,
   "id": "destroyed-differential",
   "metadata": {},
   "outputs": [],
   "source": [
    "it1 = card_generator(ranks, suits)\n",
    "it2 = card_generator(ranks, suits)\n",
    "ilen(product(it1, it2))"
   ]
  },
  {
   "cell_type": "markdown",
   "id": "split-guinea",
   "metadata": {},
   "source": [
    "If things have gone according to plan, the number of pairs should be $52^2$."
   ]
  },
  {
   "cell_type": "code",
   "execution_count": 15,
   "id": "alternate-cooking",
   "metadata": {},
   "outputs": [],
   "source": [
    "52**2"
   ]
  },
  {
   "cell_type": "markdown",
   "id": "later-forth",
   "metadata": {},
   "source": [
    "Notice that we have to create new card iterators every time, because once they are used up, they behave like an empty list.\n",
    "Here's what happens if we try to use them again."
   ]
  },
  {
   "cell_type": "code",
   "execution_count": 16,
   "id": "general-nickname",
   "metadata": {},
   "outputs": [],
   "source": [
    "ilen(product(it1, it2))"
   ]
  },
  {
   "cell_type": "markdown",
   "id": "shaped-cyprus",
   "metadata": {},
   "source": [
    "That's also why we had to create two card iterators.\n",
    "If you create one and try to use it twice, it doesn't work."
   ]
  },
  {
   "cell_type": "code",
   "execution_count": 17,
   "id": "enhanced-estonia",
   "metadata": {},
   "outputs": [],
   "source": [
    "it = card_generator(ranks, suits)\n",
    "ilen(product(it, it))"
   ]
  },
  {
   "cell_type": "markdown",
   "id": "blocked-softball",
   "metadata": {},
   "source": [
    "However, you can get around this limitation by calling `product` with the `repeat` argument, which makes it possible to use a single iterator to generate a Cartesian product."
   ]
  },
  {
   "cell_type": "code",
   "execution_count": 18,
   "id": "demographic-kelly",
   "metadata": {},
   "outputs": [],
   "source": [
    "it = card_generator(ranks, suits)\n",
    "ilen(product(it, repeat=2))"
   ]
  },
  {
   "cell_type": "markdown",
   "id": "failing-biotechnology",
   "metadata": {},
   "source": [
    "## Permutations\n",
    "\n",
    "In the previous section, you might have noticed that some of the hands we generated are impossible because they contain the same card more than once.\n",
    "\n",
    "One way to solve this problem is to generate all pairs and then eliminate the ones that contain duplicates."
   ]
  },
  {
   "cell_type": "code",
   "execution_count": 19,
   "id": "racial-breach",
   "metadata": {},
   "outputs": [],
   "source": []
  },
  {
   "cell_type": "markdown",
   "id": "planned-sentence",
   "metadata": {},
   "source": [
    "**Exercise:** Write a generator function called `permutations` that takes an iterator and and integer, `r`, as arguments. It should generate tuples that represent all subsets of the elements in the iterator with size `r` and no duplicates.\n",
    "\n",
    "Test your function by generating and printing all hands with two distinct cards.\n",
    "Then use `ilen` to count how many there are, and confirm that it's `52 * 51`."
   ]
  },
  {
   "cell_type": "code",
   "execution_count": 20,
   "id": "distant-management",
   "metadata": {},
   "outputs": [],
   "source": []
  },
  {
   "cell_type": "code",
   "execution_count": 21,
   "id": "detected-thumb",
   "metadata": {},
   "outputs": [],
   "source": []
  },
  {
   "cell_type": "code",
   "execution_count": 22,
   "id": "organizational-public",
   "metadata": {},
   "outputs": [],
   "source": []
  },
  {
   "cell_type": "code",
   "execution_count": 23,
   "id": "median-wildlife",
   "metadata": {},
   "outputs": [],
   "source": []
  },
  {
   "cell_type": "markdown",
   "id": "close-diabetes",
   "metadata": {},
   "source": [
    "The `itertools` library provides a function called `permutations` that does the same thing."
   ]
  },
  {
   "cell_type": "code",
   "execution_count": 24,
   "id": "packed-galaxy",
   "metadata": {},
   "outputs": [],
   "source": []
  },
  {
   "cell_type": "markdown",
   "id": "maritime-dream",
   "metadata": {},
   "source": [
    "## Combinations\n",
    "\n",
    "At this point we are generating legitimate hands in the sense that the same card never appears twice.\n",
    "But we end up generating the same hand more than once, in the sense that the order of the cards does not matter.\n",
    "So we consider `(card1, card2)` to be the same hand as `(card2, card1)`.\n",
    "To avoid that, we can generate all permutations and then filter out the ones that are not in sorted order.\n",
    "\n",
    "It doesn't really matter which order is considered \"sorted\"; it's just a way to choose one ordering we consider \"canonical\".\n",
    "\n",
    "That's what the following loop does."
   ]
  },
  {
   "cell_type": "code",
   "execution_count": 25,
   "id": "alert-designer",
   "metadata": {},
   "outputs": [],
   "source": []
  },
  {
   "cell_type": "markdown",
   "id": "armed-intent",
   "metadata": {},
   "source": [
    "**Exercise:** Write a generator function called `combinations` that takes an iterator and and integer, `r`, as arguments. It should generate tuples that represent all *sorted* subsets of the elements in the iterator with size `r` and no duplicates.\n",
    "\n",
    "Test your function by generating and printing all hands with two distinct cards.\n",
    "Then use `ilen` to count how many there are, and confirm that it's `52 * 51 / 2`."
   ]
  },
  {
   "cell_type": "code",
   "execution_count": 26,
   "id": "southwest-anthropology",
   "metadata": {},
   "outputs": [],
   "source": []
  },
  {
   "cell_type": "code",
   "execution_count": 27,
   "id": "coordinate-inspiration",
   "metadata": {},
   "outputs": [],
   "source": []
  },
  {
   "cell_type": "code",
   "execution_count": 28,
   "id": "gorgeous-reader",
   "metadata": {},
   "outputs": [],
   "source": []
  },
  {
   "cell_type": "code",
   "execution_count": 29,
   "id": "massive-genome",
   "metadata": {},
   "outputs": [],
   "source": []
  },
  {
   "cell_type": "markdown",
   "id": "decimal-shopping",
   "metadata": {},
   "source": [
    "The `itertools` library provides a function called `combinations` that does the same thing."
   ]
  },
  {
   "cell_type": "code",
   "execution_count": 30,
   "id": "charged-referral",
   "metadata": {},
   "outputs": [],
   "source": []
  },
  {
   "cell_type": "markdown",
   "id": "exact-lawsuit",
   "metadata": {},
   "source": [
    "## Generating hands\n",
    "\n",
    "We can use `combinations ` to write a generator that yields all valid hands with `n` playing cards, where \"valid\" means that the cards are in sorted order with no duplicates."
   ]
  },
  {
   "cell_type": "code",
   "execution_count": 31,
   "id": "verified-kennedy",
   "metadata": {},
   "outputs": [],
   "source": []
  },
  {
   "cell_type": "code",
   "execution_count": 32,
   "id": "established-cornell",
   "metadata": {},
   "outputs": [],
   "source": [
    "ilen(hand_generator(2))"
   ]
  },
  {
   "cell_type": "markdown",
   "id": "capital-warner",
   "metadata": {},
   "source": [
    "If you ever find yourself looping through an iterator and yielding all of the elements, you can simplify the code using `yield from`."
   ]
  },
  {
   "cell_type": "code",
   "execution_count": 33,
   "id": "capable-brain",
   "metadata": {},
   "outputs": [],
   "source": []
  },
  {
   "cell_type": "code",
   "execution_count": 34,
   "id": "christian-cutting",
   "metadata": {},
   "outputs": [],
   "source": [
    "ilen(hand_generator(2))"
   ]
  },
  {
   "cell_type": "markdown",
   "id": "sealed-reason",
   "metadata": {},
   "source": [
    "Now let's see how many hands there are with 3, 4, and (maybe) 5 cards."
   ]
  },
  {
   "cell_type": "code",
   "execution_count": 35,
   "id": "lesser-reggae",
   "metadata": {},
   "outputs": [],
   "source": [
    "ilen(hand_generator(3))"
   ]
  },
  {
   "cell_type": "code",
   "execution_count": 36,
   "id": "delayed-proceeding",
   "metadata": {},
   "outputs": [],
   "source": [
    "ilen(hand_generator(4))"
   ]
  },
  {
   "cell_type": "markdown",
   "id": "devoted-subcommittee",
   "metadata": {},
   "source": [
    "I'm not patient enough to let this one finish."
   ]
  },
  {
   "cell_type": "code",
   "execution_count": 37,
   "id": "acceptable-spouse",
   "metadata": {},
   "outputs": [],
   "source": [
    "# ilen(hand_generator(5))"
   ]
  },
  {
   "cell_type": "markdown",
   "id": "amended-hundred",
   "metadata": {},
   "source": [
    "But if we only care about the number of combinations, we can use [`math.comb`](https://docs.python.org/3/library/math.html)."
   ]
  },
  {
   "cell_type": "code",
   "execution_count": 38,
   "id": "sensitive-while",
   "metadata": {},
   "outputs": [],
   "source": []
  },
  {
   "cell_type": "markdown",
   "id": "valued-laundry",
   "metadata": {},
   "source": [
    "## How many flushes?\n",
    "\n",
    "In poker, a \"flush\" is a hand where all cards have the same suit.\n",
    "To check whether a hand is a flush, it is convenient to extract the suit part of the cards and make a set."
   ]
  },
  {
   "cell_type": "code",
   "execution_count": 39,
   "id": "sought-frost",
   "metadata": {},
   "outputs": [],
   "source": []
  },
  {
   "cell_type": "code",
   "execution_count": 40,
   "id": "higher-milwaukee",
   "metadata": {},
   "outputs": [],
   "source": []
  },
  {
   "cell_type": "markdown",
   "id": "fossil-subscriber",
   "metadata": {},
   "source": [
    "**Exercise:** Write a function called `is_flush` that takes a hand as an argument and returns `True` if all cards are the same suit.\n",
    "\n",
    "Then write a generator function called `flush_generator` that takes an integer `n` and return all hands with `n` cards that are flushes.\n",
    "\n",
    "What fraction of hands with 3, 4, and 5 cards are flushes?"
   ]
  },
  {
   "cell_type": "code",
   "execution_count": 41,
   "id": "sweet-olive",
   "metadata": {},
   "outputs": [],
   "source": []
  },
  {
   "cell_type": "code",
   "execution_count": 42,
   "id": "documented-network",
   "metadata": {},
   "outputs": [],
   "source": []
  },
  {
   "cell_type": "code",
   "execution_count": 43,
   "id": "distinct-birthday",
   "metadata": {},
   "outputs": [],
   "source": []
  },
  {
   "cell_type": "code",
   "execution_count": 44,
   "id": "computational-storage",
   "metadata": {},
   "outputs": [],
   "source": []
  },
  {
   "cell_type": "code",
   "execution_count": 45,
   "id": "earlier-damages",
   "metadata": {},
   "outputs": [],
   "source": []
  },
  {
   "cell_type": "code",
   "execution_count": 46,
   "id": "celtic-wisconsin",
   "metadata": {},
   "outputs": [],
   "source": []
  },
  {
   "cell_type": "markdown",
   "id": "unauthorized-topic",
   "metadata": {},
   "source": [
    "## Write your own product\n",
    "\n",
    "So far we've been using `itertools.product`, but in the same way we wrote `permutations` and `combinations`, we can write our own `product`.\n",
    "\n",
    "If there are only two iterators, we can do it with nested `for` loops."
   ]
  },
  {
   "cell_type": "code",
   "execution_count": 47,
   "id": "optional-default",
   "metadata": {},
   "outputs": [],
   "source": [
    "def product2(it1, it2):\n",
    "    for x in it1:\n",
    "        for y in it2:\n",
    "            yield x, y"
   ]
  },
  {
   "cell_type": "markdown",
   "id": "finnish-relation",
   "metadata": {},
   "source": [
    "So we can generate the cards like this."
   ]
  },
  {
   "cell_type": "code",
   "execution_count": 48,
   "id": "statistical-shepherd",
   "metadata": {},
   "outputs": [],
   "source": [
    "for t in product2(ranks, suits):\n",
    "    card = ''.join(t)\n",
    "    print(card, end=' ')"
   ]
  },
  {
   "cell_type": "markdown",
   "id": "crucial-aviation",
   "metadata": {},
   "source": [
    "Now, we might be tempted to write two-card hands like this."
   ]
  },
  {
   "cell_type": "code",
   "execution_count": 49,
   "id": "incident-reaction",
   "metadata": {},
   "outputs": [],
   "source": [
    "it1 = card_generator(ranks, suits)\n",
    "it2 = card_generator(ranks, suits)\n",
    "\n",
    "for hand in product2(it1, it2):\n",
    "    print(hand)"
   ]
  },
  {
   "cell_type": "markdown",
   "id": "attached-vault",
   "metadata": {},
   "source": [
    "But that doesn't work; it only generates the first 52 pairs.\n",
    "Before you go on, see if you can figure out why.\n",
    "\n",
    "We can solve this problem by making each iterator into a tuple; then we can loop through them more than once.\n",
    "The price we pay is that we have to store all of the elements of the iterators."
   ]
  },
  {
   "cell_type": "code",
   "execution_count": 50,
   "id": "polished-tutorial",
   "metadata": {},
   "outputs": [],
   "source": [
    "def product2(it1, it2):\n",
    "    t1 = tuple(it1)\n",
    "    t2 = tuple(it2)\n",
    "    for x in t1:\n",
    "        for y in t2:\n",
    "            yield x, y"
   ]
  },
  {
   "cell_type": "markdown",
   "id": "charming-machine",
   "metadata": {},
   "source": [
    "This version of `product2` works if the arguments are iterators."
   ]
  },
  {
   "cell_type": "code",
   "execution_count": 51,
   "id": "built-organization",
   "metadata": {},
   "outputs": [],
   "source": [
    "it1 = card_generator(ranks, suits)\n",
    "it2 = card_generator(ranks, suits)\n",
    "\n",
    "for hand in product2(it1, it2):\n",
    "    print(hand)"
   ]
  },
  {
   "cell_type": "code",
   "execution_count": 52,
   "id": "necessary-rendering",
   "metadata": {},
   "outputs": [],
   "source": [
    "it1 = card_generator(ranks, suits)\n",
    "it2 = card_generator(ranks, suits)\n",
    "\n",
    "ilen(product2(it1, it2))"
   ]
  },
  {
   "cell_type": "markdown",
   "id": "brilliant-equilibrium",
   "metadata": {},
   "source": [
    "Now let's take it up a notch. What if you want the product of more than two iterators.\n",
    "The version of `product` we got from `itertools` can handle this case."
   ]
  },
  {
   "cell_type": "code",
   "execution_count": 53,
   "id": "speaking-treat",
   "metadata": {
    "scrolled": true
   },
   "outputs": [],
   "source": [
    "import itertools\n",
    "\n",
    "for pair in itertools.product(range(2), range(3), range(4)):\n",
    "    print(pair)"
   ]
  },
  {
   "cell_type": "markdown",
   "id": "polished-friendship",
   "metadata": {},
   "source": [
    "**Exercise:** Write a generator function that takes an arbitrary number of iterables and yields their Cartesian product. Compare the results to `itertools.product`.\n",
    "\n",
    "Hint: I found it easiest to write this recursively."
   ]
  },
  {
   "cell_type": "code",
   "execution_count": 54,
   "id": "pressed-guest",
   "metadata": {},
   "outputs": [],
   "source": []
  },
  {
   "cell_type": "code",
   "execution_count": 55,
   "id": "dominant-girlfriend",
   "metadata": {},
   "outputs": [],
   "source": []
  },
  {
   "cell_type": "code",
   "execution_count": 56,
   "id": "senior-basic",
   "metadata": {},
   "outputs": [],
   "source": []
  },
  {
   "cell_type": "code",
   "execution_count": 57,
   "id": "colored-sympathy",
   "metadata": {},
   "outputs": [],
   "source": []
  },
  {
   "cell_type": "code",
   "execution_count": 58,
   "id": "pacific-finder",
   "metadata": {},
   "outputs": [],
   "source": []
  },
  {
   "cell_type": "markdown",
   "id": "a2607425",
   "metadata": {
    "tags": []
   },
   "source": [
    "*Data Structures and Information Retrieval in Python*\n",
    "\n",
    "Copyright 2021 Allen Downey\n",
    "\n",
    "License: [Creative Commons Attribution-NonCommercial-ShareAlike 4.0 International](https://creativecommons.org/licenses/by-nc-sa/4.0/)"
   ]
  }
 ],
 "metadata": {
  "kernelspec": {
   "display_name": "Python 3 (ipykernel)",
   "language": "python",
   "name": "python3"
  },
  "language_info": {
   "codemirror_mode": {
    "name": "ipython",
    "version": 3
   },
   "file_extension": ".py",
   "mimetype": "text/x-python",
   "name": "python",
   "nbconvert_exporter": "python",
   "pygments_lexer": "ipython3",
   "version": "3.10.1"
  }
 },
 "nbformat": 4,
 "nbformat_minor": 5
}

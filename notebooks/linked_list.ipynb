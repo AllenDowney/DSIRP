{
 "cells": [
  {
   "cell_type": "markdown",
   "id": "af0fce85",
   "metadata": {},
   "source": [
    "# Linked List"
   ]
  },
  {
   "cell_type": "markdown",
   "id": "c91bcf8f",
   "metadata": {},
   "source": [
    "[Click here to run this chapter on Colab](https://colab.research.google.com/github/AllenDowney/DSIRP/blob/main/notebooks/linked_list.ipynb)"
   ]
  },
  {
   "cell_type": "markdown",
   "id": "394c2889",
   "metadata": {},
   "source": [
    "## Linked Lists\n",
    "\n",
    "Implementing operations on linked lists is a staple of programming classes and technical interviews.\n",
    "\n",
    "I resist them because it is unlikely that you will ever have to implement a linked list in your professional work. And if you do, someone has made a bad decision.\n",
    "\n",
    "However, they can be good études, that is, pieces that you practice in order to learn, but never perform."
   ]
  },
  {
   "cell_type": "markdown",
   "id": "b33cc740",
   "metadata": {},
   "source": [
    "For many of these problems, there are several possible solutions, depending on the requirements:\n",
    "\n",
    "* Are you allowed to modify an existing list, or do you have to create a new one?\n",
    "\n",
    "* If you modify an existing structure, are you also supposed to return a reference to it?\n",
    "\n",
    "* Are you allowed to allocate temporary structures, or do you have to perform all operations in place?\n",
    "\n",
    "And for all of these problems, you could write a solution iteratively or recursively. So there are many possible solutions for each."
   ]
  },
  {
   "cell_type": "markdown",
   "id": "36900610",
   "metadata": {},
   "source": [
    "As we consider alternatives, some of the factors to keep in mind are:\n",
    "\n",
    "* Performance in terms of time and space.\n",
    "\n",
    "* Readability and demonstrably correctness.\n",
    "\n",
    "In general, performance should be asymptotically efficient; for example, if there is a constant time solution, a linear solution would not be acceptable.\n",
    "But we might be willing to pay some overhead to achieve bulletproof correctness."
   ]
  },
  {
   "cell_type": "markdown",
   "id": "7aa7d3f6",
   "metadata": {},
   "source": [
    "Here's the class we'll use to represent the nodes in a list."
   ]
  },
  {
   "cell_type": "code",
   "execution_count": 1,
   "id": "c3eda892",
   "metadata": {},
   "outputs": [],
   "source": [
    "class Node:\n",
    "    def __init__(self, data, next=None):\n",
    "        self.data = data\n",
    "        self.next = next\n",
    "        \n",
    "    def __repr__(self):\n",
    "        return f'Node({self.data}, {repr(self.next)})'"
   ]
  },
  {
   "cell_type": "markdown",
   "id": "bbf5ad6f",
   "metadata": {},
   "source": [
    "We can create nodes like this:"
   ]
  },
  {
   "cell_type": "code",
   "execution_count": 2,
   "id": "3eb18535",
   "metadata": {
    "tags": []
   },
   "outputs": [],
   "source": [
    "node1 = Node(1)\n",
    "node2 = Node(2)\n",
    "node3 = Node(3)\n",
    "\n",
    "node1"
   ]
  },
  {
   "cell_type": "markdown",
   "id": "fdfd0222",
   "metadata": {},
   "source": [
    "And then link them up, like this:"
   ]
  },
  {
   "cell_type": "code",
   "execution_count": 3,
   "id": "80748b5d",
   "metadata": {
    "tags": []
   },
   "outputs": [],
   "source": [
    "node1.next = node2\n",
    "node2.next = node3"
   ]
  },
  {
   "cell_type": "code",
   "execution_count": 4,
   "id": "29a7ebcc",
   "metadata": {},
   "outputs": [],
   "source": [
    "node1"
   ]
  },
  {
   "cell_type": "markdown",
   "id": "c0568a9b",
   "metadata": {},
   "source": [
    "There are two ways to think about what `node1` is:\n",
    "\n",
    "* It is \"just\" a node object, which happens to contain a link to another node.\n",
    "\n",
    "* It is the first node of a linked list of nodes.\n",
    "\n",
    "When we pass a node as a parameter, sometimes we think of it as a node and sometimes we think of it as the beginning of a list."
   ]
  },
  {
   "cell_type": "markdown",
   "id": "f21575f6",
   "metadata": {},
   "source": [
    "## LinkedList objects\n",
    "\n",
    "For some operations, it will be convenient to have another object that represents the whole list (as opposed to one of its nodes).\n",
    "\n",
    "Here's the class definition."
   ]
  },
  {
   "cell_type": "code",
   "execution_count": 5,
   "id": "f1c32da2",
   "metadata": {},
   "outputs": [],
   "source": [
    "class LinkedList:\n",
    "    def __init__(self, head=None):\n",
    "        self.head = head\n",
    "        \n",
    "    def __repr__(self):\n",
    "        return f'LinkedList({repr(self.head)})'"
   ]
  },
  {
   "cell_type": "markdown",
   "id": "c41fb536",
   "metadata": {},
   "source": [
    "If we create a `LinkedList` with a reference to `node1`, we can think of the result as a list with three elements."
   ]
  },
  {
   "cell_type": "code",
   "execution_count": 6,
   "id": "f8def755",
   "metadata": {
    "tags": []
   },
   "outputs": [],
   "source": [
    "t = LinkedList(node1)\n",
    "t"
   ]
  },
  {
   "cell_type": "markdown",
   "id": "e38e3c31",
   "metadata": {},
   "source": [
    "## Search\n",
    "\n",
    "**Exercise:** Write a function called `find` that takes a `LinkedList` and a target value; if the target value appears in the `LinkedList`, it should return the `Node` that contains it; otherwise it should return `None`."
   ]
  },
  {
   "cell_type": "code",
   "execution_count": 7,
   "id": "0ce358f1",
   "metadata": {},
   "outputs": [],
   "source": []
  },
  {
   "cell_type": "markdown",
   "id": "c2261efc",
   "metadata": {},
   "source": [
    "You can use these examples to test your code."
   ]
  },
  {
   "cell_type": "code",
   "execution_count": 8,
   "id": "415369b0",
   "metadata": {},
   "outputs": [],
   "source": [
    "find(t, 1)"
   ]
  },
  {
   "cell_type": "code",
   "execution_count": 9,
   "id": "320aa238",
   "metadata": {},
   "outputs": [],
   "source": [
    "find(t, 3)"
   ]
  },
  {
   "cell_type": "code",
   "execution_count": 10,
   "id": "70165057",
   "metadata": {},
   "outputs": [],
   "source": [
    "find(t, 5)"
   ]
  },
  {
   "cell_type": "markdown",
   "id": "44af708a",
   "metadata": {},
   "source": [
    "## Push and Pop\n",
    "\n",
    "Adding and removing elements from the *left* side of a linked list is relatively easy:"
   ]
  },
  {
   "cell_type": "code",
   "execution_count": 11,
   "id": "7b522c71",
   "metadata": {
    "tags": []
   },
   "outputs": [],
   "source": [
    "def lpush(t, value):\n",
    "    t.head = Node(value, t.head)"
   ]
  },
  {
   "cell_type": "code",
   "execution_count": 12,
   "id": "9ee37b46",
   "metadata": {
    "tags": []
   },
   "outputs": [],
   "source": [
    "t = LinkedList()\n",
    "lpush(t, 3)\n",
    "lpush(t, 2)\n",
    "lpush(t, 1)\n",
    "t"
   ]
  },
  {
   "cell_type": "code",
   "execution_count": 13,
   "id": "541d2764",
   "metadata": {
    "tags": []
   },
   "outputs": [],
   "source": [
    "def lpop(t):\n",
    "    if t.head is None:\n",
    "        raise ValueError('Tried to pop from empty LinkedList')\n",
    "    node = t.head\n",
    "    t.head = node.next\n",
    "    return node.data"
   ]
  },
  {
   "cell_type": "code",
   "execution_count": 14,
   "id": "091cf27c",
   "metadata": {
    "tags": []
   },
   "outputs": [],
   "source": [
    "lpop(t), lpop(t), lpop(t)"
   ]
  },
  {
   "cell_type": "code",
   "execution_count": 15,
   "id": "23ac16de",
   "metadata": {
    "tags": []
   },
   "outputs": [],
   "source": [
    "t"
   ]
  },
  {
   "cell_type": "markdown",
   "id": "82eaab11",
   "metadata": {},
   "source": [
    "Adding and removing from the end right side take longer because we have to traverse the list.\n",
    "\n",
    "**Exercise:** Write `rpush` and `rpop`."
   ]
  },
  {
   "cell_type": "code",
   "execution_count": 16,
   "id": "0830b88e",
   "metadata": {},
   "outputs": [],
   "source": []
  },
  {
   "cell_type": "code",
   "execution_count": 17,
   "id": "4a6d6869",
   "metadata": {},
   "outputs": [],
   "source": []
  },
  {
   "cell_type": "markdown",
   "id": "03468ac4",
   "metadata": {},
   "source": [
    "You can use the following example to test your code."
   ]
  },
  {
   "cell_type": "code",
   "execution_count": 18,
   "id": "e598b176",
   "metadata": {},
   "outputs": [],
   "source": [
    "t = LinkedList()\n",
    "rpush(t, 1)\n",
    "t"
   ]
  },
  {
   "cell_type": "code",
   "execution_count": 19,
   "id": "40c86ff1",
   "metadata": {},
   "outputs": [],
   "source": [
    "rpush(t, 2)\n",
    "t"
   ]
  },
  {
   "cell_type": "code",
   "execution_count": 20,
   "id": "e0f844f6",
   "metadata": {},
   "outputs": [],
   "source": [
    "rpop(t)"
   ]
  },
  {
   "cell_type": "code",
   "execution_count": 21,
   "id": "53af610c",
   "metadata": {},
   "outputs": [],
   "source": [
    "rpop(t)"
   ]
  },
  {
   "cell_type": "code",
   "execution_count": 22,
   "id": "860a382c",
   "metadata": {},
   "outputs": [],
   "source": [
    "try:\n",
    "    rpop(t)\n",
    "except ValueError as e:\n",
    "    print(e)"
   ]
  },
  {
   "cell_type": "markdown",
   "id": "4c3b6a6c",
   "metadata": {},
   "source": [
    "## Reverse\n",
    "\n",
    "Reversing a linked list is a classic interview question, although at this point it is so classic you will probably never encounter it.\n",
    "\n",
    "But it is still a good exercise, in part because there are so many ways to do it. My solutions here are based on [this tutorial](https://www.geeksforgeeks.org/reverse-a-linked-list/)."
   ]
  },
  {
   "cell_type": "markdown",
   "id": "0c1dc751",
   "metadata": {},
   "source": [
    "If you are allowed to make a new list, you can traverse the old list and `lpush` the elements onto the new list:"
   ]
  },
  {
   "cell_type": "code",
   "execution_count": 23,
   "id": "8e09adea",
   "metadata": {},
   "outputs": [],
   "source": [
    "def reverse(t):\n",
    "    t2 = LinkedList()\n",
    "    node = t.head\n",
    "    while node:\n",
    "        lpush(t2, node.data)\n",
    "        node = node.next\n",
    "\n",
    "    return t2"
   ]
  },
  {
   "cell_type": "code",
   "execution_count": 24,
   "id": "fd9fcc52",
   "metadata": {},
   "outputs": [],
   "source": [
    "t = LinkedList(Node(1, Node(2, Node(3, None))))\n",
    "reverse(t)"
   ]
  },
  {
   "cell_type": "markdown",
   "id": "650cd970",
   "metadata": {},
   "source": [
    "Here's a recursive version that doesn't allocate anything"
   ]
  },
  {
   "cell_type": "code",
   "execution_count": 25,
   "id": "39ecaac5",
   "metadata": {},
   "outputs": [],
   "source": [
    "def reverse(t):\n",
    "    t.head = reverse_rec(t.head)\n",
    "    \n",
    "def reverse_rec(node):\n",
    " \n",
    "    # if there are 0 or 1 nodes\n",
    "    if node is None or node.next is None:\n",
    "        return node\n",
    "\n",
    "    # reverse the rest LinkedList\n",
    "    rest = reverse_rec(node.next)\n",
    "\n",
    "    # Put first element at the end\n",
    "    node.next.next = node\n",
    "    node.next = None\n",
    "\n",
    "    return rest"
   ]
  },
  {
   "cell_type": "code",
   "execution_count": 26,
   "id": "a1b1c5b4",
   "metadata": {},
   "outputs": [],
   "source": [
    "t = LinkedList(Node(1, Node(2, Node(3, None))))\n",
    "reverse(t)\n",
    "t"
   ]
  },
  {
   "cell_type": "markdown",
   "id": "24e735a0",
   "metadata": {},
   "source": [
    "And finally an iterative version that doesn't allocate anything."
   ]
  },
  {
   "cell_type": "code",
   "execution_count": 27,
   "id": "a99a76d9",
   "metadata": {},
   "outputs": [],
   "source": [
    "def reverse(t):\n",
    "    prev = None\n",
    "    current = t.head\n",
    "    while current :\n",
    "        next = current.next\n",
    "        current.next = prev\n",
    "        prev = current\n",
    "        current = next\n",
    "    t.head = prev"
   ]
  },
  {
   "cell_type": "code",
   "execution_count": 28,
   "id": "bfe8841a",
   "metadata": {},
   "outputs": [],
   "source": [
    "t = LinkedList(Node(1, Node(2, Node(3, None))))\n",
    "reverse(t)\n",
    "t"
   ]
  },
  {
   "cell_type": "markdown",
   "id": "cf2e89ec",
   "metadata": {},
   "source": [
    "## Remove\n",
    "\n",
    "One of the advantages of a linked list (compared to an array list) is that we can add and remove elements from the middle of the list in constant time.\n",
    "\n",
    "For example, the following function takes a node and removes the node that follows it."
   ]
  },
  {
   "cell_type": "code",
   "execution_count": 29,
   "id": "9b7d0ef5",
   "metadata": {},
   "outputs": [],
   "source": [
    "def remove_after(node):\n",
    "    removed = node.next\n",
    "    node.next = node.next.next\n",
    "    return removed.data"
   ]
  },
  {
   "cell_type": "markdown",
   "id": "2e0f3d2b",
   "metadata": {},
   "source": [
    "Here's an example:"
   ]
  },
  {
   "cell_type": "code",
   "execution_count": 30,
   "id": "fbb1598d",
   "metadata": {},
   "outputs": [],
   "source": [
    "t = LinkedList(Node(1, Node(2, Node(3, None))))\n",
    "remove_after(t.head)\n",
    "t"
   ]
  },
  {
   "cell_type": "markdown",
   "id": "2208f44f",
   "metadata": {},
   "source": [
    "**Exercise:** Write a function called `remove` that takes a LinkedList and a target value. It should remove the first node that contains the value, or raise a `ValueError` if it is not found.\n",
    "\n",
    "Hint: This one is a little tricky."
   ]
  },
  {
   "cell_type": "code",
   "execution_count": 31,
   "id": "aaa399ce",
   "metadata": {},
   "outputs": [],
   "source": []
  },
  {
   "cell_type": "markdown",
   "id": "1a61ed4d",
   "metadata": {},
   "source": [
    "You can use this example to test your code."
   ]
  },
  {
   "cell_type": "code",
   "execution_count": 32,
   "id": "f8038acf",
   "metadata": {},
   "outputs": [],
   "source": [
    "t = LinkedList(Node(1, Node(2, Node(3, None))))\n",
    "remove(t, 2)\n",
    "t"
   ]
  },
  {
   "cell_type": "code",
   "execution_count": 33,
   "id": "0531d0b5",
   "metadata": {},
   "outputs": [],
   "source": [
    "remove(t, 1)\n",
    "t"
   ]
  },
  {
   "cell_type": "code",
   "execution_count": 34,
   "id": "191c9489",
   "metadata": {},
   "outputs": [],
   "source": [
    "try:\n",
    "    remove(t, 4)\n",
    "except ValueError as e:\n",
    "    print(e)"
   ]
  },
  {
   "cell_type": "code",
   "execution_count": 35,
   "id": "41214410",
   "metadata": {},
   "outputs": [],
   "source": [
    "remove(t, 3)\n",
    "t"
   ]
  },
  {
   "cell_type": "code",
   "execution_count": 36,
   "id": "99aecad6",
   "metadata": {},
   "outputs": [],
   "source": [
    "try:\n",
    "    remove(t, 5)\n",
    "except ValueError as e:\n",
    "    print(e)"
   ]
  },
  {
   "cell_type": "markdown",
   "id": "db955d01",
   "metadata": {},
   "source": [
    "Although `remove_after` is constant time, `remove` is not. Because we have to iterate through the nodes to find the target, `remove` takes linear time."
   ]
  },
  {
   "cell_type": "markdown",
   "id": "ab7f0a6a",
   "metadata": {},
   "source": [
    "## Insert Sorted\n",
    "\n",
    "Similarly, you can insert an element into the middle of a linked list in constant time.\n",
    "\n",
    "The following function inserts `data` after the given node in a list."
   ]
  },
  {
   "cell_type": "code",
   "execution_count": 37,
   "id": "3e754808",
   "metadata": {},
   "outputs": [],
   "source": [
    "def insert_after(node, data):\n",
    "    node.next = Node(data, node.next)"
   ]
  },
  {
   "cell_type": "code",
   "execution_count": 38,
   "id": "c8022b07",
   "metadata": {},
   "outputs": [],
   "source": [
    "t = LinkedList(Node(1, Node(2, Node(3, None))))\n",
    "insert_after(t.head, 5)\n",
    "t"
   ]
  },
  {
   "cell_type": "markdown",
   "id": "5f2a2a1c",
   "metadata": {},
   "source": [
    "**Exercise:** Write a function called `insert_sorted` (also known as `insort`) that takes a linked list and a value and inserts the value in the list in the first place where it will be in increasing sorted order, that is, with the smallest element at the beginning."
   ]
  },
  {
   "cell_type": "code",
   "execution_count": 39,
   "id": "ec6634e9",
   "metadata": {},
   "outputs": [],
   "source": [
    "def insert_sorted(t, data):\n",
    "    if t.head is None or t.head.data > data:\n",
    "        lpush(t, data)\n",
    "        return\n",
    "    \n",
    "    node = t.head\n",
    "    while node.next:\n",
    "        if node.next.data > data:\n",
    "            insert_after(node, data)\n",
    "            return\n",
    "        node = node.next\n",
    "    \n",
    "    insert_after(node, data)"
   ]
  },
  {
   "cell_type": "markdown",
   "id": "7de8e7f1",
   "metadata": {},
   "source": [
    "You can use the following example to test your code."
   ]
  },
  {
   "cell_type": "code",
   "execution_count": 40,
   "id": "57cb85bf",
   "metadata": {},
   "outputs": [],
   "source": [
    "t = LinkedList()\n",
    "insert_sorted(t, 1)\n",
    "t"
   ]
  },
  {
   "cell_type": "code",
   "execution_count": 41,
   "id": "aff32ed5",
   "metadata": {},
   "outputs": [],
   "source": [
    "insert_sorted(t, 3)\n",
    "t"
   ]
  },
  {
   "cell_type": "code",
   "execution_count": 42,
   "id": "14fd6809",
   "metadata": {},
   "outputs": [],
   "source": [
    "insert_sorted(t, 0)\n",
    "t"
   ]
  },
  {
   "cell_type": "code",
   "execution_count": 43,
   "id": "f612292f",
   "metadata": {},
   "outputs": [],
   "source": [
    "insert_sorted(t, 2)\n",
    "t"
   ]
  },
  {
   "cell_type": "markdown",
   "id": "007dd1d1",
   "metadata": {},
   "source": [
    "Although `insert_after` is constant time, `insert_sorted` is not. Because we have to iterate through the nodes to find the insertion point, `insert_sorted` takes linear time."
   ]
  },
  {
   "cell_type": "markdown",
   "id": "7386a9b5",
   "metadata": {},
   "source": [
    "*Data Structures and Information Retrieval in Python*\n",
    "\n",
    "Copyright 2021 Allen Downey\n",
    "\n",
    "License: [Creative Commons Attribution-NonCommercial-ShareAlike 4.0 International](https://creativecommons.org/licenses/by-nc-sa/4.0/)"
   ]
  }
 ],
 "metadata": {
  "celltoolbar": "Tags",
  "kernelspec": {
   "display_name": "Python 3 (ipykernel)",
   "language": "python",
   "name": "python3"
  },
  "language_info": {
   "codemirror_mode": {
    "name": "ipython",
    "version": 3
   },
   "file_extension": ".py",
   "mimetype": "text/x-python",
   "name": "python",
   "nbconvert_exporter": "python",
   "pygments_lexer": "ipython3",
   "version": "3.10.1"
  }
 },
 "nbformat": 4,
 "nbformat_minor": 5
}

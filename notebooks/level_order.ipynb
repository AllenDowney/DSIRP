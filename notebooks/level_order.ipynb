{
 "cells": [
  {
   "cell_type": "markdown",
   "metadata": {},
   "source": [
    "# Level Order Traversal"
   ]
  },
  {
   "cell_type": "markdown",
   "metadata": {},
   "source": [
    "[Click here to run this chapter on Colab](https://colab.research.google.com/github/AllenDowney/DSIRP/blob/main/notebooks/level_order.ipynb)"
   ]
  },
  {
   "cell_type": "markdown",
   "metadata": {},
   "source": [
    "## More tree traversal\n",
    "\n",
    "In a previous notebook we wrote two versions of a depth-first search in a tree.\n",
    "Now we are working toward depth-first search, but we're going to make a stop along the way: level-order traversal.\n",
    "\n",
    "One application of level-order traversal is searching through directories (aka folders) in a file system.\n",
    "Since directories can contain other directories, which can contains other directories, and so on, we can think of a file system as a tree.\n",
    "\n",
    "In this notebook, we'll start by making a tree of directories and fake data files.\n",
    "Then we'll traverse it several ways.\n",
    "\n",
    "And while we're at it, we'll learn about the `os` module, which provides functions for interacting with the operating system, especially the file system.\n",
    "\n"
   ]
  },
  {
   "cell_type": "markdown",
   "metadata": {},
   "source": [
    "The `os` module provides `mkdir`, which creates a directory. It raises an exception if the directory exists, so I'm going to wrap it in a `try` statement."
   ]
  },
  {
   "cell_type": "code",
   "execution_count": 1,
   "metadata": {},
   "outputs": [],
   "source": [
    "import os\n",
    "\n",
    "def mkdir(dirname):\n",
    "    try:\n",
    "        os.mkdir(dirname)\n",
    "        print('made', dirname)\n",
    "    except FileExistsError:\n",
    "        print(dirname, 'exists')"
   ]
  },
  {
   "cell_type": "markdown",
   "metadata": {},
   "source": [
    "Now I'll create the directory where we'll put the fake data."
   ]
  },
  {
   "cell_type": "code",
   "execution_count": 2,
   "metadata": {
    "tags": []
   },
   "outputs": [],
   "source": [
    "mkdir('level_data')"
   ]
  },
  {
   "cell_type": "markdown",
   "metadata": {},
   "source": [
    "Inside `level_data`, I want to make a subdirectory named `2021`.\n",
    "It is tempting to write something like:\n",
    "\n",
    "```\n",
    "year_dir = `level_data/2021`\n",
    "```\n",
    "\n",
    "This path would work on Unix operating systems (including MacOS), but not Windows, which uses `\\` rather than `/` between names in a path.\n",
    "\n",
    "We can avoid this problem by using `os.path.join`, which joins names in a path with whatever character the operating system wants."
   ]
  },
  {
   "cell_type": "code",
   "execution_count": 3,
   "metadata": {
    "tags": []
   },
   "outputs": [],
   "source": [
    "year_dir = os.path.join('level_data', '2021')\n",
    "mkdir(year_dir)"
   ]
  },
  {
   "cell_type": "markdown",
   "metadata": {},
   "source": [
    "To make the fake data files, I'll use the following function, which opens a file for writing and puts the word `data` into it."
   ]
  },
  {
   "cell_type": "code",
   "execution_count": 4,
   "metadata": {},
   "outputs": [],
   "source": [
    "def make_datafile(dirname, filename):\n",
    "    filename = os.path.join(dirname, filename)\n",
    "    open(filename, 'w').write('data\\n')\n",
    "    print('made', filename)"
   ]
  },
  {
   "cell_type": "markdown",
   "metadata": {},
   "source": [
    "So let's start by putting a data file in `year_dir`, imagining that this file contains summary data for the whole year."
   ]
  },
  {
   "cell_type": "code",
   "execution_count": 5,
   "metadata": {
    "tags": []
   },
   "outputs": [],
   "source": [
    "make_datafile(year_dir, 'year.csv')"
   ]
  },
  {
   "cell_type": "markdown",
   "metadata": {},
   "source": [
    "The following function \n",
    "\n",
    "1. Makes a subdirectory that represents one month of the year, \n",
    "\n",
    "2. Makes a data file we imagine contains summary data for the month, and\n",
    "\n",
    "3. Calls `make_day` (below) to make subdirectories each day of the month (in a world where all months have 30 days)."
   ]
  },
  {
   "cell_type": "code",
   "execution_count": 6,
   "metadata": {},
   "outputs": [],
   "source": [
    "def make_month(i, year_dir):\n",
    "    month = '%.2d' % i\n",
    "    month_dir = os.path.join(year_dir, month) \n",
    "    mkdir(month_dir)\n",
    "    make_datafile(month_dir, 'month.csv')\n",
    "    \n",
    "    for j in range(1, 31):\n",
    "        make_day(j, month_dir)"
   ]
  },
  {
   "cell_type": "markdown",
   "metadata": {},
   "source": [
    "`make_day` makes a sub-subdirectory for a given day of the month, and puts a data file in it."
   ]
  },
  {
   "cell_type": "code",
   "execution_count": 7,
   "metadata": {},
   "outputs": [],
   "source": [
    "def make_day(j, month_dir):\n",
    "    day = '%.2d' % j\n",
    "    day_dir = os.path.join(month_dir, day) \n",
    "    mkdir(day_dir)\n",
    "    make_datafile(day_dir, 'day.csv')"
   ]
  },
  {
   "cell_type": "markdown",
   "metadata": {},
   "source": [
    "The following loop makes a directory for each month."
   ]
  },
  {
   "cell_type": "code",
   "execution_count": 8,
   "metadata": {
    "tags": []
   },
   "outputs": [],
   "source": [
    "for i in range(1, 13):\n",
    "    make_month(i, year_dir)"
   ]
  },
  {
   "cell_type": "markdown",
   "metadata": {},
   "source": [
    "## Walking a Directory\n",
    "\n",
    "The `os` module provides `walk`, which is a generator function that traverses a directory and all its subdirectories, and all their subdirectories, and so on.\n",
    "\n",
    "\n",
    "For each directory, it yields:\n",
    "\n",
    "* dirpath, which is the name of the directory.\n",
    "\n",
    "* dirnames, which is a list of subdirectories it contains, and \n",
    "\n",
    "* filenames, which is a list of files it contains.\n",
    "\n",
    "Here's how we can use it to print the paths of all files in the directory we created."
   ]
  },
  {
   "cell_type": "code",
   "execution_count": 9,
   "metadata": {
    "tags": []
   },
   "outputs": [],
   "source": [
    "for dirpath, dirnames, filenames in os.walk('level_data'):\n",
    "    for filename in filenames:\n",
    "        path = os.path.join(dirpath, filename)\n",
    "        print(path)"
   ]
  },
  {
   "cell_type": "markdown",
   "metadata": {},
   "source": [
    "One quirk of `os.walk` is that the directories and files don't appear in any particular order.\n",
    "Of course, we can store the results and sort them in whatever order we want.\n",
    "\n",
    "But as an exercise, we can write our own version of `walk`.\n",
    "We'll need two functions:\n",
    "\n",
    "* `os.listdir`, which takes a directory and list the directories and files it contains, and \n",
    "\n",
    "* `os.path.isfile`, which takes a path and returns `True` if it is a file, and `False` if it is a directory or something else.\n",
    "\n",
    "You might notice that some file-related functions are in the submodule `os.path`.\n",
    "There is some logic to this organization, but it is not always obvious why a particular function is in this submodule or not.\n",
    "\n",
    "Anyway, here is a recursive version of `walk`:"
   ]
  },
  {
   "cell_type": "code",
   "execution_count": 10,
   "metadata": {},
   "outputs": [],
   "source": [
    "def walk(dirname):\n",
    "    for name in sorted(os.listdir(dirname)):\n",
    "        path = os.path.join(dirname, name)\n",
    "        if os.path.isfile(path):\n",
    "            print(path)\n",
    "        else:\n",
    "            walk(path)"
   ]
  },
  {
   "cell_type": "code",
   "execution_count": 11,
   "metadata": {},
   "outputs": [],
   "source": [
    "walk(year_dir)"
   ]
  },
  {
   "cell_type": "markdown",
   "metadata": {},
   "source": [
    "**Exercise:** Write a version of `walk` called `walk_gen` that is a generator function; that is, it should yield the paths it finds rather than printing them. "
   ]
  },
  {
   "cell_type": "code",
   "execution_count": 12,
   "metadata": {},
   "outputs": [],
   "source": []
  },
  {
   "cell_type": "markdown",
   "metadata": {},
   "source": [
    "You can use the following loop to test your code."
   ]
  },
  {
   "cell_type": "code",
   "execution_count": 13,
   "metadata": {},
   "outputs": [],
   "source": [
    "for path in walk_gen(year_dir):\n",
    "    print(path)"
   ]
  },
  {
   "cell_type": "markdown",
   "metadata": {},
   "source": [
    "**Exercise:** Write a version of `walk_gen` called `walk_dfs` that traverses the given directory and yields the file it contains, but it should use a stack and run iteratively, rather than recursively."
   ]
  },
  {
   "cell_type": "code",
   "execution_count": 14,
   "metadata": {},
   "outputs": [],
   "source": []
  },
  {
   "cell_type": "markdown",
   "metadata": {},
   "source": [
    "You can use the following loop to test your code."
   ]
  },
  {
   "cell_type": "code",
   "execution_count": 15,
   "metadata": {},
   "outputs": [],
   "source": [
    "for path in walk_dfs(year_dir):\n",
    "    print(path)"
   ]
  },
  {
   "cell_type": "markdown",
   "metadata": {},
   "source": [
    "Notice that the order the files are discovered is \"depth-first\". For example, it yields all files from the first month before any of the files for the second month.\n",
    "\n",
    "An alternative is a level-order traversal, which yields all files at the first level (the annual summary), then all the files at the second level (the monthly summaries), then the files at the third level.\n",
    "\n",
    "To implement a level-order traversal, we can make a minimal change to `walk_dfs`: replace the stack with a FIFO queue.\n",
    "To implement the queue efficiently, we can use `collections.deque`.\n",
    "\n",
    "**Exercise:** Write a generator function called `walk_level` that takes a directory and yields its files in level order."
   ]
  },
  {
   "cell_type": "code",
   "execution_count": 16,
   "metadata": {},
   "outputs": [],
   "source": []
  },
  {
   "cell_type": "markdown",
   "metadata": {},
   "source": [
    "Use the following loop to test your code."
   ]
  },
  {
   "cell_type": "code",
   "execution_count": 17,
   "metadata": {},
   "outputs": [],
   "source": [
    "for path in walk_level(year_dir):\n",
    "    print(path)"
   ]
  },
  {
   "cell_type": "markdown",
   "metadata": {},
   "source": [
    "If you are looking for a file in a large file system, a level-order search might be useful if you think the file is more likely to be near the root, rather than deep in a nested subdirectory."
   ]
  },
  {
   "cell_type": "markdown",
   "metadata": {},
   "source": [
    "*Data Structures and Information Retrieval in Python*\n",
    "\n",
    "Copyright 2021 Allen Downey\n",
    "\n",
    "License: [Creative Commons Attribution-NonCommercial-ShareAlike 4.0 International](https://creativecommons.org/licenses/by-nc-sa/4.0/)"
   ]
  }
 ],
 "metadata": {
  "anaconda-cloud": {},
  "celltoolbar": "Tags",
  "kernelspec": {
   "display_name": "Python 3 (ipykernel)",
   "language": "python",
   "name": "python3"
  },
  "language_info": {
   "codemirror_mode": {
    "name": "ipython",
    "version": 3
   },
   "file_extension": ".py",
   "mimetype": "text/x-python",
   "name": "python",
   "nbconvert_exporter": "python",
   "pygments_lexer": "ipython3",
   "version": "3.10.1"
  }
 },
 "nbformat": 4,
 "nbformat_minor": 1
}

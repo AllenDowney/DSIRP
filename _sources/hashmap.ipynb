{
 "cells": [
  {
   "cell_type": "markdown",
   "id": "01e4585f",
   "metadata": {},
   "source": [
    "# Implementing Mapping Types\n"
   ]
  },
  {
   "cell_type": "markdown",
   "id": "89a6216c",
   "metadata": {},
   "source": [
    "[Click here to run this chapter on Colab](https://colab.research.google.com/github/AllenDowney/DSIRP/blob/main/notebooks/hashmap.ipynb)"
   ]
  },
  {
   "cell_type": "markdown",
   "id": "74f51d96",
   "metadata": {},
   "source": [
    "## Analysis of search algorithms\n",
    "\n",
    "A **search** is an algorithm that takes a collection and a target item\n",
    "and determines whether the target is in the collection, often returning\n",
    "the index of the target.\n",
    "\n",
    "The simplest search algorithm is a \"linear search\", which traverses the\n",
    "items of the collection in order, stopping if it finds the target. In\n",
    "the worst case it has to traverse the entire collection, so the run time\n",
    "is linear.\n",
    "\n",
    "The `in` operator for sequences uses a linear search; so do string\n",
    "methods like `find` and `count`."
   ]
  },
  {
   "cell_type": "markdown",
   "id": "a25f1e33",
   "metadata": {},
   "source": [
    "If the elements of the sequence are in order, you can use a **bisection\n",
    "search**, which is $O(\\log n)$. Bisection search is similar to the\n",
    "algorithm you might use to look a word up in a dictionary (a paper\n",
    "dictionary, not the data structure). Instead of starting at the\n",
    "beginning and checking each item in order, you start with the item in\n",
    "the middle and check whether the word you are looking for comes before\n",
    "or after. If it comes before, then you search the first half of the\n",
    "sequence. Otherwise you search the second half. Either way, you cut the\n",
    "number of remaining items in half.\n",
    "\n",
    "If the sequence has 1,000,000 items, it will take about 20 steps to find\n",
    "the word or conclude that it's not there. So that's about 50,000 times\n",
    "faster than a linear search.\n",
    "\n",
    "Bisection search can be much faster than linear search, but it requires\n",
    "the sequence to be in order, which might require extra work."
   ]
  },
  {
   "cell_type": "markdown",
   "id": "f7b2fff0",
   "metadata": {},
   "source": [
    "There is another data structure, called a **hashtable** that is even\n",
    "faster---it can do a search in constant time---and it doesn't require\n",
    "the items to be sorted. Python dictionaries are implemented using\n",
    "hashtables, which is why most dictionary operations, including the `in`\n",
    "operator, are constant time."
   ]
  },
  {
   "cell_type": "markdown",
   "id": "eb5ae63c",
   "metadata": {},
   "source": [
    "## LinearMap\n",
    "\n",
    "To explain how hashtables work and why their performance is so good, I\n",
    "start with a simple implementation of a map and gradually improve it\n",
    "until it's a hashtable.\n",
    "\n",
    "I use Python to demonstrate these implementations, but in real life you\n",
    "wouldn't write code like this in Python; you would just use a\n",
    "dictionary! So this notebook, you have to imagine that\n",
    "dictionaries don't exist and you want to implement a data structure that\n",
    "maps from keys to values. \n",
    "\n",
    "The operations we'll implement are:\n",
    "\n",
    "* `add(k, v)`: Add a new item that maps from key `k` to value `v`. With a Python dictionary, `d`, this operation is written `d[k] = v`.\n",
    "\n",
    "* `get(k)`: Look up and return the value that corresponds to key `k`. With a Python dictionary, `d`, this operation is written `d[k]` or `d.get(k)`.\n",
    "\n",
    "For now, I assume that each key only appears once. \n",
    "\n",
    "Here's a simple implementation of this interface using a list of tuples, where each tuple is a key-value pair."
   ]
  },
  {
   "cell_type": "code",
   "execution_count": 1,
   "id": "1e22e259",
   "metadata": {
    "tags": [
     "fill-in"
    ]
   },
   "outputs": [
    {
     "name": "stdout",
     "output_type": "stream",
     "text": [
      "2\n"
     ]
    }
   ],
   "source": [
    "items = []\n",
    "\n",
    "key = 'a'\n",
    "value = 1\n",
    "items.append((key, value))\n",
    "\n",
    "items.append(('b', 2))\n",
    "\n",
    "target = 'b'\n",
    "for k, v in items:\n",
    "    if k == target:\n",
    "        print(v)\n",
    "\n"
   ]
  },
  {
   "cell_type": "code",
   "execution_count": 2,
   "id": "337c499d",
   "metadata": {
    "tags": [
     "fill-in"
    ]
   },
   "outputs": [
    {
     "name": "stdout",
     "output_type": "stream",
     "text": [
      "2\n"
     ]
    }
   ],
   "source": [
    "items = []\n",
    "\n",
    "def add(k, v):\n",
    "    items.append((k, v))\n",
    "\n",
    "add('a', 1)\n",
    "add('b', 2)\n",
    "\n",
    "def get(target):\n",
    "    for key, val in items:\n",
    "        if key == target:\n",
    "            print(val)\n",
    "\n",
    "get('b')\n"
   ]
  },
  {
   "cell_type": "code",
   "execution_count": 3,
   "id": "efe5b9af",
   "metadata": {
    "tags": [
     "fill-in"
    ]
   },
   "outputs": [
    {
     "data": {
      "text/plain": [
       "[]"
      ]
     },
     "execution_count": 3,
     "metadata": {},
     "output_type": "execute_result"
    }
   ],
   "source": [
    "class LinearMap:\n",
    "    def __init__(self):\n",
    "        self.items = []\n",
    "        \n",
    "lmap = LinearMap()\n",
    "lmap.items"
   ]
  },
  {
   "cell_type": "code",
   "execution_count": 4,
   "id": "af522fcc",
   "metadata": {
    "tags": [
     "fill-in"
    ]
   },
   "outputs": [],
   "source": [
    "class LinearMap:\n",
    "\n",
    "    def __init__(self):\n",
    "        self.items = []\n",
    "\n",
    "    def add(self, k, v):\n",
    "        self.items.append((k, v))\n",
    "\n",
    "    def get(self, target):\n",
    "        for k, v in self.items:\n",
    "            if k == target:\n",
    "                return v\n",
    "        raise KeyError(f'{target} not found')"
   ]
  },
  {
   "cell_type": "markdown",
   "id": "44593b6e",
   "metadata": {},
   "source": [
    "`__init__` creates a new map with an empty list of items, so that's constant time.\n",
    "\n",
    "`add` appends a key-value tuple to the list of items, which takes\n",
    "constant time.\n",
    "\n",
    "`get` uses a `for` loop to search the list: if it finds the target key\n",
    "it returns the corresponding value; otherwise it raises a `KeyError`. So\n",
    "`get` is linear.\n",
    "\n",
    "Let's try out this implementation."
   ]
  },
  {
   "cell_type": "code",
   "execution_count": 5,
   "id": "4f4fc669",
   "metadata": {
    "tags": [
     "fill-in"
    ]
   },
   "outputs": [
    {
     "data": {
      "text/plain": [
       "23"
      ]
     },
     "execution_count": 5,
     "metadata": {},
     "output_type": "execute_result"
    }
   ],
   "source": [
    "import string\n",
    "\n",
    "lmap = LinearMap()\n",
    "\n",
    "for i, c in enumerate(string.ascii_lowercase):\n",
    "    lmap.add(c, i)\n",
    "\n",
    "lmap.get('x')"
   ]
  },
  {
   "cell_type": "markdown",
   "id": "e044fc4e",
   "metadata": {},
   "source": [
    "An alternative is to keep the list sorted by key. Then `get` could use a\n",
    "bisection search, which is $O(\\log n)$. But inserting a new item in the\n",
    "middle of a list is linear, so this might not be the best option. \n",
    "\n",
    "We could also use a binary search tree, which can implement ` add` and `get` in log time, but that's still not as good as constant time, so let's move on."
   ]
  },
  {
   "cell_type": "markdown",
   "id": "6d66fd9e",
   "metadata": {},
   "source": [
    "## BetterMap\n",
    "\n",
    "One way to improve `LinearMap` is to break the list of key-value pairs\n",
    "into smaller lists. Here's an implementation called `BetterMap`, which\n",
    "is a list of 100 LinearMaps. As we'll see in a second, the order of\n",
    "growth for `get` is still linear, but `BetterMap` is a step on the path\n",
    "toward hashtables:"
   ]
  },
  {
   "cell_type": "code",
   "execution_count": 6,
   "id": "4680a639",
   "metadata": {
    "tags": [
     "fill-in"
    ]
   },
   "outputs": [],
   "source": [
    "class BetterMap:\n",
    "\n",
    "    def __init__(self, n=100):\n",
    "        self.maps = [LinearMap() for i in range(100)]\n",
    "\n",
    "    def find_map(self, k):\n",
    "        index = hash(k) % len(self.maps)\n",
    "        return self.maps[index]\n",
    "\n",
    "    def add(self, k, v):\n",
    "        m = self.find_map(k)\n",
    "        m.add(k, v)\n",
    "\n",
    "    def get(self, k):\n",
    "        m = self.find_map(k)\n",
    "        return m.get(k)"
   ]
  },
  {
   "cell_type": "markdown",
   "id": "a8eb0aa4",
   "metadata": {},
   "source": [
    "`__init__` makes a list of `LinearMap` objects.\n",
    "\n",
    "`find_map` is used by `add` and `get` to figure out which map to put the\n",
    "new item in, or which map to search.\n",
    "\n",
    "`find_map` uses the built-in function `hash`, which takes almost any\n",
    "Python object and returns an integer. A limitation of this\n",
    "implementation is that it only works with hashable keys. Mutable types\n",
    "like lists and dictionaries are unhashable.\n",
    "\n",
    "Hashable objects that are considered equivalent return the same hash\n",
    "value, but the converse is not necessarily true: two objects with\n",
    "different values can return the same hash value."
   ]
  },
  {
   "cell_type": "markdown",
   "id": "52415e0e",
   "metadata": {},
   "source": [
    "`find_map` uses the modulus operator to wrap the hash values into the\n",
    "range from 0 to `len(self.maps)`, so the result is a legal index into\n",
    "the list. Of course, this means that many different hash values will\n",
    "wrap onto the same index. But if the hash function spreads things out\n",
    "pretty evenly (which is what hash functions are designed to do), then we\n",
    "expect $n/100$ items per `LinearMap`.\n",
    "\n",
    "Let's try it out:"
   ]
  },
  {
   "cell_type": "code",
   "execution_count": 7,
   "id": "969d7902",
   "metadata": {},
   "outputs": [
    {
     "data": {
      "text/plain": [
       "23"
      ]
     },
     "execution_count": 7,
     "metadata": {},
     "output_type": "execute_result"
    }
   ],
   "source": [
    "bmap = BetterMap()\n",
    "\n",
    "for i, c in enumerate(string.ascii_lowercase):\n",
    "    bmap.add(c, i)\n",
    "\n",
    "bmap.get('x')"
   ]
  },
  {
   "cell_type": "code",
   "execution_count": 8,
   "id": "b7e4c082",
   "metadata": {
    "tags": [
     "fill-in"
    ]
   },
   "outputs": [
    {
     "name": "stdout",
     "output_type": "stream",
     "text": [
      "0\n",
      "0\n",
      "0\n",
      "0\n",
      "0\n",
      "1\n",
      "0\n",
      "0\n",
      "0\n",
      "1\n",
      "1\n",
      "0\n",
      "0\n",
      "1\n",
      "0\n",
      "0\n",
      "0\n",
      "0\n",
      "0\n",
      "0\n",
      "0\n",
      "0\n",
      "1\n",
      "0\n",
      "0\n",
      "0\n",
      "0\n",
      "0\n",
      "0\n",
      "0\n",
      "0\n",
      "0\n",
      "1\n",
      "1\n",
      "1\n",
      "1\n",
      "0\n",
      "0\n",
      "0\n",
      "0\n",
      "0\n",
      "0\n",
      "0\n",
      "1\n",
      "0\n",
      "0\n",
      "0\n",
      "0\n",
      "0\n",
      "0\n",
      "0\n",
      "0\n",
      "2\n",
      "1\n",
      "0\n",
      "1\n",
      "0\n",
      "0\n",
      "0\n",
      "0\n",
      "0\n",
      "1\n",
      "2\n",
      "0\n",
      "0\n",
      "0\n",
      "0\n",
      "1\n",
      "1\n",
      "2\n",
      "0\n",
      "0\n",
      "1\n",
      "0\n",
      "1\n",
      "0\n",
      "0\n",
      "0\n",
      "0\n",
      "0\n",
      "0\n",
      "0\n",
      "0\n",
      "0\n",
      "0\n",
      "0\n",
      "0\n",
      "0\n",
      "0\n",
      "0\n",
      "0\n",
      "2\n",
      "0\n",
      "0\n",
      "0\n",
      "0\n",
      "0\n",
      "0\n",
      "0\n",
      "1\n"
     ]
    }
   ],
   "source": [
    "for lmap in bmap.maps:\n",
    "    print(len(lmap.items))"
   ]
  },
  {
   "cell_type": "markdown",
   "id": "f5d4cf32",
   "metadata": {},
   "source": [
    "Since the run time of `LinearMap.get` is proportional to the number of\n",
    "items, we expect BetterMap to be about 100 times faster than LinearMap.\n",
    "The order of growth is still linear, but the leading coefficient is\n",
    "smaller."
   ]
  },
  {
   "cell_type": "markdown",
   "id": "99438c30",
   "metadata": {},
   "source": [
    "## Hash Functions\n",
    "\n",
    "`BetterMap.find_map` uses the [built-in function `hash`](https://docs.python.org/3/library/functions.html#hash), which takes any hashable object and returns an integer:\n",
    "\n",
    "\n",
    "> `hash(object)`\n",
    ">\n",
    "> Return the hash value of the object (if it has one). Hash values are integers. They are used to quickly compare dictionary keys during a dictionary lookup. Numeric values that compare equal have the same hash value (even if they are of different types, as is the case for 1 and 1.0)."
   ]
  },
  {
   "cell_type": "code",
   "execution_count": 9,
   "id": "7c36dd49",
   "metadata": {
    "tags": [
     "fill-in"
    ]
   },
   "outputs": [
    {
     "data": {
      "text/plain": [
       "(2, 2, 2, 2)"
      ]
     },
     "execution_count": 9,
     "metadata": {},
     "output_type": "execute_result"
    }
   ],
   "source": [
    "from fractions import Fraction\n",
    "\n",
    "hash(2), hash(2.0), hash(2 + 0j), hash(Fraction(4, 2))"
   ]
  },
  {
   "cell_type": "code",
   "execution_count": 10,
   "id": "40f660a6",
   "metadata": {
    "tags": [
     "fill-in"
    ]
   },
   "outputs": [
    {
     "data": {
      "text/plain": [
       "6909455589863252355"
      ]
     },
     "execution_count": 10,
     "metadata": {},
     "output_type": "execute_result"
    }
   ],
   "source": [
    "t = 2,\n",
    "hash(t)"
   ]
  },
  {
   "cell_type": "code",
   "execution_count": 11,
   "id": "7c07c26a",
   "metadata": {
    "tags": [
     "fill-in"
    ]
   },
   "outputs": [
    {
     "name": "stdout",
     "output_type": "stream",
     "text": [
      "unhashable type: 'list'\n"
     ]
    }
   ],
   "source": [
    "try:\n",
    "    hash([2])\n",
    "except TypeError as e:\n",
    "    print(e)"
   ]
  },
  {
   "cell_type": "code",
   "execution_count": 12,
   "id": "43f10a57",
   "metadata": {
    "tags": [
     "fill-in"
    ]
   },
   "outputs": [
    {
     "data": {
      "text/plain": [
       "133118177212449111"
      ]
     },
     "execution_count": 12,
     "metadata": {},
     "output_type": "execute_result"
    }
   ],
   "source": [
    "hash('2')"
   ]
  },
  {
   "cell_type": "markdown",
   "id": "e4d7a447",
   "metadata": {},
   "source": [
    "## HashMap\n",
    "\n",
    "Here (finally) is the crucial idea that makes hashtables fast: if you\n",
    "can keep the maximum length of the LinearMaps bounded, ` LinearMap.get`\n",
    "is constant time. All you have to do is keep track of the number of\n",
    "items and when the number of items per LinearMap exceeds a threshold,\n",
    "resize the hashtable by adding more LinearMaps."
   ]
  },
  {
   "cell_type": "markdown",
   "id": "4239bf06",
   "metadata": {},
   "source": [
    "Here is an implementation of a hashtable:"
   ]
  },
  {
   "cell_type": "code",
   "execution_count": 13,
   "id": "007b46fa",
   "metadata": {
    "tags": [
     "fill-in"
    ]
   },
   "outputs": [],
   "source": [
    "class HashMap:\n",
    "\n",
    "    def __init__(self):\n",
    "        self.bmap = BetterMap(2)\n",
    "        self.num = 0\n",
    "\n",
    "    def get(self, k):\n",
    "        return self.bmap.get(k)\n",
    "\n",
    "    def add(self, k, v):\n",
    "        if self.num == len(self.bmap.maps):\n",
    "            self.resize()\n",
    "\n",
    "        self.bmap.add(k, v)\n",
    "        self.num += 1\n",
    "\n",
    "    def resize(self):\n",
    "        new_bmap = BetterMap(len(self.bmap.maps) * 2)\n",
    "\n",
    "        for m in self.bmap.maps:\n",
    "            for k, v in m.items:\n",
    "                new_bmap.add(k, v)\n",
    "\n",
    "        self.bmap = new_bmap"
   ]
  },
  {
   "cell_type": "markdown",
   "id": "e06f05e2",
   "metadata": {},
   "source": [
    "`__init__` creates a `BetterMap` and initializes `num`, which keeps\n",
    "track of the number of items.\n",
    "\n",
    "`get` just invokes `BetterMap.get`, which uses `find_map` to figure out which `LinearMap` to search. \n",
    "\n",
    "The real work happens in `add`, which checks the number of items and the size of the `BetterMap`: if they are equal, the average number of items per LinearMap is 1, so it calls `resize`.\n",
    "\n",
    "`resize` makes a new `BetterMap`, twice as big as the previous one, and\n",
    "then \"rehashes\" the items from the old map to the new."
   ]
  },
  {
   "cell_type": "code",
   "execution_count": 14,
   "id": "39750247",
   "metadata": {},
   "outputs": [
    {
     "data": {
      "text/plain": [
       "23"
      ]
     },
     "execution_count": 14,
     "metadata": {},
     "output_type": "execute_result"
    }
   ],
   "source": [
    "hmap = HashMap()\n",
    "\n",
    "for i, c in enumerate(string.ascii_lowercase):\n",
    "    hmap.add(c, i)\n",
    "\n",
    "hmap.get('x')"
   ]
  },
  {
   "cell_type": "markdown",
   "id": "5416d162",
   "metadata": {},
   "source": [
    "Rehashing is necessary because changing the number of `LinearMap` objects changes the denominator of the modulus operator in `find_map`. That means that some objects that used to hash into the same LinearMap will get split up (which is what we wanted, right?).\n",
    "\n",
    "Rehashing is linear, so `resize` is linear, which might seem bad, since\n",
    "I promised that `add` would be constant time. But remember that we don't\n",
    "have to resize every time, so `add` is usually constant time and only\n",
    "occasionally linear. The total amount of work to run `add` $n$ times is\n",
    "proportional to $n$, so the average time of each `add` is constant time!"
   ]
  },
  {
   "cell_type": "markdown",
   "id": "cf32b118",
   "metadata": {},
   "source": [
    "To see how this works, think about starting with an empty `HashTable` and adding a sequence of items. We start with 2 `LinearMap` objects, so the first 2 adds are fast (no resizing required). Let's say that they take one unit of work each. The next add requires a resize, so we have to rehash the first two items (let's call that 2 more units of work) and then add the third item (one more unit). Adding the next item costs 1 unit, so the total so far is 6 units of work for 4 items.\n",
    "\n",
    "The next `add` costs 5 units, but the next three are only one unit each,\n",
    "so the total is 14 units for the first 8 adds.\n",
    "\n",
    "The next `add` costs 9 units, but then we can add 7 more before the next\n",
    "resize, so the total is 30 units for the first 16 adds.\n",
    "\n",
    "After 32 adds, the total cost is 62 units, and I hope you are starting\n",
    "to see a pattern. After $n$ adds, where $n$ is a power of two, the total\n",
    "cost is $2n-2$ units, so the average work per add is a little less than\n",
    "2 units. When $n$ is a power of two, that's the best case; for other\n",
    "values of $n$ the average work is a little higher, but that's not\n",
    "important. The important thing is that it is $O(1)$."
   ]
  },
  {
   "cell_type": "markdown",
   "id": "e00b5831",
   "metadata": {},
   "source": [
    "The following figure shows\n",
    "how this works graphically. Each block represents a unit of work. The\n",
    "columns show the total work for each add in order from left to right:\n",
    "the first two adds cost 1 unit each, the third costs 3 units, etc.\n",
    "\n",
    "![](https://github.com/AllenDowney/DSIRP/raw/main/figs/towers.png)\n",
    "\n",
    "The extra work of rehashing appears as a sequence of increasingly tall\n",
    "towers with increasing space between them. Now if you knock over the\n",
    "towers, spreading the cost of resizing over all adds, you can see\n",
    "graphically that the total cost after $n$ adds is $2n - 2$.\n",
    "\n",
    "An important feature of this algorithm is that when we resize the\n",
    "`HashTable` it grows geometrically; that is, we multiply the size by a\n",
    "constant. If you increase the size arithmetically---adding a fixed\n",
    "number each time---the average time per `add` is linear.\n"
   ]
  },
  {
   "cell_type": "markdown",
   "id": "80fa54a7",
   "metadata": {},
   "source": [
    "## Run Time\n",
    "\n",
    "For the implementation of a dictionary, a good hash function is one that spreads out the values so the number of items in each of the `LinearMap` objects is about the same.\n",
    "\n",
    "In the worst case, if the hash function returns the same value for all objects, they would all be in the same `LinearMap`, and the `get` operation would be linear."
   ]
  },
  {
   "cell_type": "markdown",
   "id": "41982958",
   "metadata": {},
   "source": [
    "Hash functions can be expensive to compute, especially if the keys are large objects (like long strings, for example).\n",
    "So dictionaries are \"fast\" because the operations are constant time, but they can be \"slow\" because the leading constant is relatively high.\n",
    "\n",
    "If the number of items in the dictionary is small, other implementations might be faster."
   ]
  },
  {
   "cell_type": "markdown",
   "id": "292350f2",
   "metadata": {},
   "source": [
    "**Exercise:** What are the orders of growth for these two functions? Which one is faster when the words are 11 letters long?"
   ]
  },
  {
   "cell_type": "code",
   "execution_count": 15,
   "id": "2f09836d",
   "metadata": {},
   "outputs": [],
   "source": [
    "from collections import Counter\n",
    "\n",
    "def is_anagram2(word1, word2):\n",
    "    return Counter(word1) == Counter(word2)"
   ]
  },
  {
   "cell_type": "code",
   "execution_count": 16,
   "id": "a93058d3",
   "metadata": {},
   "outputs": [],
   "source": [
    "def is_anagram3(word1, word2):\n",
    "    return sorted(word1) == sorted(word2)"
   ]
  },
  {
   "cell_type": "code",
   "execution_count": 17,
   "id": "9be127f7",
   "metadata": {},
   "outputs": [
    {
     "name": "stdout",
     "output_type": "stream",
     "text": [
      "4.84 µs ± 144 ns per loop (mean ± std. dev. of 7 runs, 100000 loops each)\n"
     ]
    }
   ],
   "source": [
    "%timeit is_anagram2('tachymetric', 'mccarthyite')"
   ]
  },
  {
   "cell_type": "code",
   "execution_count": 18,
   "id": "6ec67459",
   "metadata": {},
   "outputs": [
    {
     "name": "stdout",
     "output_type": "stream",
     "text": [
      "758 ns ± 13.9 ns per loop (mean ± std. dev. of 7 runs, 1000000 loops each)\n"
     ]
    }
   ],
   "source": [
    "%timeit is_anagram3('tachymetric', 'mccarthyite')"
   ]
  },
  {
   "cell_type": "code",
   "execution_count": 19,
   "id": "0709791a",
   "metadata": {
    "tags": [
     "remove-cell"
    ]
   },
   "outputs": [
    {
     "name": "stdout",
     "output_type": "stream",
     "text": [
      "15.8 µs ± 643 ns per loop (mean ± std. dev. of 7 runs, 100000 loops each)\n"
     ]
    }
   ],
   "source": [
    "# Solution\n",
    "\n",
    "s = 'the quick brown fox jumps over the lazy dog' * 3\n",
    "\n",
    "%timeit is_anagram2(s, s)"
   ]
  },
  {
   "cell_type": "code",
   "execution_count": 20,
   "id": "147d3e69",
   "metadata": {
    "tags": [
     "remove-cell"
    ]
   },
   "outputs": [
    {
     "name": "stdout",
     "output_type": "stream",
     "text": [
      "10.4 µs ± 146 ns per loop (mean ± std. dev. of 7 runs, 100000 loops each)\n"
     ]
    }
   ],
   "source": [
    "# Solution\n",
    "\n",
    "%timeit is_anagram3(s, s)"
   ]
  },
  {
   "cell_type": "markdown",
   "id": "0a07e8fd",
   "metadata": {},
   "source": [
    "*Data Structures and Information Retrieval in Python*\n",
    "\n",
    "Copyright 2021 Allen Downey\n",
    "\n",
    "License: [Creative Commons Attribution-NonCommercial-ShareAlike 4.0 International](https://creativecommons.org/licenses/by-nc-sa/4.0/)"
   ]
  }
 ],
 "metadata": {
  "celltoolbar": "Tags",
  "kernelspec": {
   "display_name": "Python 3 (ipykernel)",
   "language": "python",
   "name": "python3"
  },
  "language_info": {
   "codemirror_mode": {
    "name": "ipython",
    "version": 3
   },
   "file_extension": ".py",
   "mimetype": "text/x-python",
   "name": "python",
   "nbconvert_exporter": "python",
   "pygments_lexer": "ipython3",
   "version": "3.10.1"
  }
 },
 "nbformat": 4,
 "nbformat_minor": 5
}

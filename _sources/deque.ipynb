{
 "cells": [
  {
   "cell_type": "markdown",
   "id": "af0fce85",
   "metadata": {},
   "source": [
    "# Deque"
   ]
  },
  {
   "cell_type": "markdown",
   "id": "c91bcf8f",
   "metadata": {},
   "source": [
    "[Click here to run this chapter on Colab](https://colab.research.google.com/github/AllenDowney/DSIRP/blob/main/chapters/deque.ipynb)"
   ]
  },
  {
   "cell_type": "markdown",
   "id": "394c2889",
   "metadata": {},
   "source": [
    "## Double-ended Queue\n",
    "\n",
    "With Python lists, we can add and remove elements from the *end* of the list in constant time, but adding and removing from the beginning takes linear time.\n",
    "That's because Python lists are implemented using arrays that grow dynamically. \n",
    "\n",
    "With linked lists, we can add and remove elements from the *beginning* of the list in constant time, but adding and removing from the end takes linear time.\n",
    "\n",
    "With either of these implementations, it is easy to make a stack, that is, a collection where the first element we add is the last element we remove. A stack is also called a \"first-in, last-out\" queue, abbreviated FILO.\n",
    "\n",
    "But it is not easy to implement a \"first-in, first-out\" queue, that is, a collection where the first element we add is the *first* element we remove.\n",
    "\n",
    "Fortunately, there are ways to implement lists that can add and remove elements from both ends in constant time.\n",
    "A collection that has this property is called a double-ended queue, abbreviated \"deque\" and pronounced like \"deck\".\n",
    "\n",
    "One way to implement a deque is a doubly-linked list, also known as a \"head-tail linked list\".\n",
    "Each node in a doubly-linked list has a reference to the previous node in the list as well as the next element, which I will call `left` and `right`.\n"
   ]
  },
  {
   "cell_type": "code",
   "execution_count": 1,
   "id": "c3eda892",
   "metadata": {},
   "outputs": [],
   "source": [
    "class Node:\n",
    "    def __init__(self, data, left=None, right=None):\n",
    "        self.data = data\n",
    "        self.left = left\n",
    "        self.right = right\n",
    "        \n",
    "    def __repr__(self):\n",
    "        return f'Node({self.data})'"
   ]
  },
  {
   "cell_type": "markdown",
   "id": "bbf5ad6f",
   "metadata": {},
   "source": [
    "We can create nodes like this:"
   ]
  },
  {
   "cell_type": "code",
   "execution_count": 2,
   "id": "3eb18535",
   "metadata": {
    "tags": [
     "fill-in"
    ]
   },
   "outputs": [
    {
     "data": {
      "text/plain": [
       "Node(1)"
      ]
     },
     "execution_count": 2,
     "metadata": {},
     "output_type": "execute_result"
    }
   ],
   "source": [
    "node1 = Node(1)\n",
    "node2 = Node(2)\n",
    "node3 = Node(3)\n",
    "\n",
    "node1"
   ]
  },
  {
   "cell_type": "markdown",
   "id": "fdfd0222",
   "metadata": {},
   "source": [
    "And then link them up, like this:"
   ]
  },
  {
   "cell_type": "code",
   "execution_count": 3,
   "id": "80748b5d",
   "metadata": {
    "tags": [
     "fill-in"
    ]
   },
   "outputs": [],
   "source": [
    "node1.right = node2\n",
    "node2.right = node3\n",
    "\n",
    "node2.left = node1\n",
    "node3.left = node2"
   ]
  },
  {
   "cell_type": "markdown",
   "id": "889fdd16",
   "metadata": {},
   "source": [
    "To traverse the list from left to right, we can start at the beginning and follow the `right` links."
   ]
  },
  {
   "cell_type": "code",
   "execution_count": 4,
   "id": "ca630b64",
   "metadata": {},
   "outputs": [
    {
     "name": "stdout",
     "output_type": "stream",
     "text": [
      "Node(1)\n",
      "Node(2)\n",
      "Node(3)\n"
     ]
    }
   ],
   "source": [
    "node = node1\n",
    "while node:\n",
    "    print(node)\n",
    "    node = node.right"
   ]
  },
  {
   "cell_type": "markdown",
   "id": "016025b3",
   "metadata": {},
   "source": [
    "To traverse from right to left, we start and the end and follow the `left` links."
   ]
  },
  {
   "cell_type": "code",
   "execution_count": 5,
   "id": "a259cbd5",
   "metadata": {},
   "outputs": [
    {
     "name": "stdout",
     "output_type": "stream",
     "text": [
      "Node(3)\n",
      "Node(2)\n",
      "Node(1)\n"
     ]
    }
   ],
   "source": [
    "node = node3\n",
    "while node:\n",
    "    print(node)\n",
    "    node = node.left"
   ]
  },
  {
   "cell_type": "markdown",
   "id": "f21575f6",
   "metadata": {},
   "source": [
    "## Deque objects\n",
    "\n",
    "For some operations, it will be convenient to have another object that represents the whole list (as opposed to one of its nodes).\n",
    "\n",
    "Here's the class definition."
   ]
  },
  {
   "cell_type": "code",
   "execution_count": 6,
   "id": "f1c32da2",
   "metadata": {},
   "outputs": [],
   "source": [
    "class Deque:\n",
    "    def __init__(self, head=None, tail=None):\n",
    "        self.head = head\n",
    "        self.tail = tail\n",
    "        \n",
    "    def __repr__(self):\n",
    "        return f'LinkedList({self.head}, {self.tail})'"
   ]
  },
  {
   "cell_type": "markdown",
   "id": "c41fb536",
   "metadata": {},
   "source": [
    "Now we can create a `Deque` with references to `node1` and `node3`:"
   ]
  },
  {
   "cell_type": "code",
   "execution_count": 7,
   "id": "f8def755",
   "metadata": {
    "tags": [
     "fill-in"
    ]
   },
   "outputs": [
    {
     "data": {
      "text/plain": [
       "LinkedList(Node(1), Node(3))"
      ]
     },
     "execution_count": 7,
     "metadata": {},
     "output_type": "execute_result"
    }
   ],
   "source": [
    "deque = Deque(node1, node3)\n",
    "deque"
   ]
  },
  {
   "cell_type": "markdown",
   "id": "d6828e7f",
   "metadata": {},
   "source": [
    "For debugging purposes, I'll use the following function, which prints the list from right to left and then left to right, which confirms that all of the links are correct."
   ]
  },
  {
   "cell_type": "code",
   "execution_count": 8,
   "id": "c89bece9",
   "metadata": {},
   "outputs": [],
   "source": [
    "def print_deque(deque):\n",
    "    node = deque.head\n",
    "    while node:\n",
    "        print(node.data, end=', ')\n",
    "        node = node.right\n",
    "    print()\n",
    "    \n",
    "    node = deque.tail\n",
    "    while node:\n",
    "        print(node.data, end=', ')\n",
    "        node = node.left\n",
    "    print()"
   ]
  },
  {
   "cell_type": "markdown",
   "id": "2f9532f2",
   "metadata": {},
   "source": [
    "Here's an example."
   ]
  },
  {
   "cell_type": "code",
   "execution_count": 9,
   "id": "c246a024",
   "metadata": {},
   "outputs": [
    {
     "name": "stdout",
     "output_type": "stream",
     "text": [
      "1, 2, 3, \n",
      "3, 2, 1, \n"
     ]
    }
   ],
   "source": [
    "print_deque(deque)"
   ]
  },
  {
   "cell_type": "markdown",
   "id": "44af708a",
   "metadata": {},
   "source": [
    "## Push\n",
    "\n",
    "Now let's see how we can add and remove elements from the beginning and end in constant time.\n",
    "We'll start with the push operations.\n",
    "\n",
    "If we start with an empty deque, adding the first node is a special case, so I'll pull that into a function."
   ]
  },
  {
   "cell_type": "code",
   "execution_count": 10,
   "id": "7b522c71",
   "metadata": {
    "tags": [
     "fill-in"
    ]
   },
   "outputs": [],
   "source": [
    "def push_first(deque, value):\n",
    "    deque.head = deque.tail = Node(value, None, None)"
   ]
  },
  {
   "cell_type": "markdown",
   "id": "79c720b4",
   "metadata": {},
   "source": [
    "Here's an example."
   ]
  },
  {
   "cell_type": "code",
   "execution_count": 11,
   "id": "9ee37b46",
   "metadata": {
    "tags": [
     "fill-in"
    ]
   },
   "outputs": [
    {
     "name": "stdout",
     "output_type": "stream",
     "text": [
      "1, \n",
      "1, \n"
     ]
    }
   ],
   "source": [
    "deque = Deque()\n",
    "push_first(deque, 1)\n",
    "print_deque(deque)"
   ]
  },
  {
   "cell_type": "markdown",
   "id": "a83f633d",
   "metadata": {},
   "source": [
    "**Exercise:**  Write `left_push`, which takes a `Deque` object and a new value, and adds the value to the beginning of the deque.\n",
    "\n",
    "If the queue is empty, it should call `push_first` to handle the special case; otherwise it should handle the general case."
   ]
  },
  {
   "cell_type": "code",
   "execution_count": 12,
   "id": "541d2764",
   "metadata": {
    "tags": [
     "remove-cell"
    ]
   },
   "outputs": [],
   "source": [
    "# Solution\n",
    "\n",
    "def left_push(deque, value):\n",
    "    if deque.head is None:\n",
    "        return push_first(deque, value)\n",
    "    \n",
    "    head = deque.head\n",
    "    deque.head = head.left = Node(value, None, head)"
   ]
  },
  {
   "cell_type": "markdown",
   "id": "df6d86a0",
   "metadata": {},
   "source": [
    "You can use the following examples to test your function:"
   ]
  },
  {
   "cell_type": "code",
   "execution_count": 13,
   "id": "b57d9562",
   "metadata": {},
   "outputs": [
    {
     "name": "stdout",
     "output_type": "stream",
     "text": [
      "2, \n",
      "2, \n"
     ]
    }
   ],
   "source": [
    "deque = Deque()\n",
    "left_push(deque, 2)\n",
    "print_deque(deque)"
   ]
  },
  {
   "cell_type": "code",
   "execution_count": 14,
   "id": "511a9f52",
   "metadata": {},
   "outputs": [
    {
     "name": "stdout",
     "output_type": "stream",
     "text": [
      "1, 2, \n",
      "2, 1, \n"
     ]
    }
   ],
   "source": [
    "left_push(deque, 1)\n",
    "print_deque(deque)"
   ]
  },
  {
   "cell_type": "markdown",
   "id": "fe3c572e",
   "metadata": {},
   "source": [
    "**Exercise:**  Write `right_push`, which takes a `Deque` object and a new value, and adds the value to the end of the deque.\n",
    "\n",
    "If the queue is empty, it should call `push_first` to handle the special case; otherwise it should handle the general case."
   ]
  },
  {
   "cell_type": "code",
   "execution_count": 15,
   "id": "091cf27c",
   "metadata": {
    "tags": [
     "remove-cell"
    ]
   },
   "outputs": [],
   "source": [
    "# Solution\n",
    "\n",
    "def right_push(deque, value):\n",
    "    if deque.head is None:\n",
    "        return push_first(deque, value)\n",
    "    \n",
    "    tail = deque.tail\n",
    "    deque.tail = tail.right = Node(value, tail, None)"
   ]
  },
  {
   "cell_type": "markdown",
   "id": "05942662",
   "metadata": {},
   "source": [
    "You can use the following examples to test your function:"
   ]
  },
  {
   "cell_type": "code",
   "execution_count": 16,
   "id": "7d3e7688",
   "metadata": {},
   "outputs": [
    {
     "name": "stdout",
     "output_type": "stream",
     "text": [
      "3, \n",
      "3, \n"
     ]
    }
   ],
   "source": [
    "deque = Deque()\n",
    "right_push(deque, 3)\n",
    "print_deque(deque)"
   ]
  },
  {
   "cell_type": "code",
   "execution_count": 17,
   "id": "23ac16de",
   "metadata": {},
   "outputs": [
    {
     "name": "stdout",
     "output_type": "stream",
     "text": [
      "3, 4, \n",
      "4, 3, \n"
     ]
    }
   ],
   "source": [
    "right_push(deque, 4)\n",
    "print_deque(deque)"
   ]
  },
  {
   "cell_type": "markdown",
   "id": "82eaab11",
   "metadata": {},
   "source": [
    "## Pop\n",
    "\n",
    "To pop elements from the deque, we have to handle two special cases:\n",
    "\n",
    "* If `head` and `tail` are both `None`, the deque is empty and we should raise a `ValueError`.\n",
    "\n",
    "* If `head` and `tail` refer to the same `Node`, there is only one element, so we should remove it and leave the deque empty.\n",
    "\n",
    "The following function handles these cases."
   ]
  },
  {
   "cell_type": "code",
   "execution_count": 35,
   "id": "0830b88e",
   "metadata": {
    "tags": [
     "fill-in"
    ]
   },
   "outputs": [],
   "source": [
    "def pop_last(deque):\n",
    "    if deque.head is None:\n",
    "        raise ValueError('Tried to pop from empty deque')\n",
    "    \n",
    "    old_head = deque.head\n",
    "    deque.head = deque.tail = None\n",
    "    return old_head.data"
   ]
  },
  {
   "cell_type": "markdown",
   "id": "8be920cb",
   "metadata": {},
   "source": [
    "We can test it like this:"
   ]
  },
  {
   "cell_type": "code",
   "execution_count": 36,
   "id": "2b79c2a5",
   "metadata": {
    "tags": [
     "fill-in"
    ]
   },
   "outputs": [
    {
     "data": {
      "text/plain": [
       "1"
      ]
     },
     "execution_count": 36,
     "metadata": {},
     "output_type": "execute_result"
    }
   ],
   "source": [
    "deque = Deque()\n",
    "left_push(deque, 1)\n",
    "pop_last(deque)"
   ]
  },
  {
   "cell_type": "code",
   "execution_count": 37,
   "id": "466cbad6",
   "metadata": {
    "tags": [
     "fill-in"
    ]
   },
   "outputs": [
    {
     "name": "stdout",
     "output_type": "stream",
     "text": [
      "\n",
      "\n"
     ]
    }
   ],
   "source": [
    "print_deque(deque)"
   ]
  },
  {
   "cell_type": "markdown",
   "id": "ac600f8a",
   "metadata": {},
   "source": [
    "**Exercise:**  Write `left_pop`, which takes a `Deque` object, remove the first node, and return the first data value.\n",
    "\n",
    "If the queue is empty or has a single element, it should call `pop_last` to handle the special case; otherwise it should handle the general case."
   ]
  },
  {
   "cell_type": "code",
   "execution_count": 49,
   "id": "4a6d6869",
   "metadata": {
    "tags": [
     "remove-cell"
    ]
   },
   "outputs": [],
   "source": [
    "# Solution\n",
    "\n",
    "def left_pop(deque):\n",
    "    if deque.head == deque.tail:\n",
    "        return pop_last(deque)\n",
    "    \n",
    "    old_head = deque.head\n",
    "    new_head = old_head.right\n",
    "    new_head.left = None\n",
    "    deque.head = new_head\n",
    "    return old_head.data"
   ]
  },
  {
   "cell_type": "markdown",
   "id": "03468ac4",
   "metadata": {},
   "source": [
    "You can use the following example to test your code."
   ]
  },
  {
   "cell_type": "code",
   "execution_count": 54,
   "id": "31aecffc",
   "metadata": {},
   "outputs": [
    {
     "name": "stdout",
     "output_type": "stream",
     "text": [
      "1, 2, \n",
      "2, 1, \n"
     ]
    }
   ],
   "source": [
    "deque = Deque()\n",
    "left_push(deque, 2)\n",
    "left_push(deque, 1)\n",
    "print_deque(deque)"
   ]
  },
  {
   "cell_type": "code",
   "execution_count": 55,
   "id": "e598b176",
   "metadata": {},
   "outputs": [
    {
     "data": {
      "text/plain": [
       "1"
      ]
     },
     "execution_count": 55,
     "metadata": {},
     "output_type": "execute_result"
    }
   ],
   "source": [
    "left_pop(deque)"
   ]
  },
  {
   "cell_type": "markdown",
   "id": "9a7bb10e",
   "metadata": {},
   "source": [
    "Check to see whether the remaining list is well-formed."
   ]
  },
  {
   "cell_type": "code",
   "execution_count": 56,
   "id": "854f03c7",
   "metadata": {},
   "outputs": [
    {
     "name": "stdout",
     "output_type": "stream",
     "text": [
      "2, \n",
      "2, \n"
     ]
    }
   ],
   "source": [
    "print_deque(deque)"
   ]
  },
  {
   "cell_type": "code",
   "execution_count": 57,
   "id": "40c86ff1",
   "metadata": {},
   "outputs": [
    {
     "data": {
      "text/plain": [
       "2"
      ]
     },
     "execution_count": 57,
     "metadata": {},
     "output_type": "execute_result"
    }
   ],
   "source": [
    "left_pop(deque)"
   ]
  },
  {
   "cell_type": "code",
   "execution_count": 58,
   "id": "e0f844f6",
   "metadata": {},
   "outputs": [
    {
     "name": "stdout",
     "output_type": "stream",
     "text": [
      "Tried to pop from empty deque\n"
     ]
    }
   ],
   "source": [
    "try:\n",
    "    left_pop(deque)\n",
    "except ValueError as e:\n",
    "    print(e)"
   ]
  },
  {
   "cell_type": "markdown",
   "id": "8f1e64ee",
   "metadata": {},
   "source": [
    "**Exercise:**  Write `right_pop`, which takes a `Deque` object, remove the last node, and return the last data value.\n",
    "\n",
    "If the queue is empty or has a single element, it should call `pop_last` to handle the special case; otherwise it should handle the general case."
   ]
  },
  {
   "cell_type": "code",
   "execution_count": 68,
   "id": "860a382c",
   "metadata": {
    "tags": [
     "remove-cell"
    ]
   },
   "outputs": [],
   "source": [
    "# Solution\n",
    "\n",
    "def right_pop(deque):\n",
    "    if deque.head == deque.tail:\n",
    "        return pop_last(deque)\n",
    "    \n",
    "    old_tail = deque.tail\n",
    "    new_tail = old_tail.left\n",
    "    new_tail.right = None\n",
    "    deque.tail = new_tail\n",
    "    return old_tail.data"
   ]
  },
  {
   "cell_type": "markdown",
   "id": "35867cbd",
   "metadata": {},
   "source": [
    "You can use the following examples to test your function."
   ]
  },
  {
   "cell_type": "code",
   "execution_count": 69,
   "id": "490ec809",
   "metadata": {},
   "outputs": [
    {
     "name": "stdout",
     "output_type": "stream",
     "text": [
      "LinkedList(Node(1), Node(2))\n"
     ]
    }
   ],
   "source": [
    "deque = Deque()\n",
    "left_push(deque, 2)\n",
    "left_push(deque, 1)\n",
    "print(deque)"
   ]
  },
  {
   "cell_type": "code",
   "execution_count": 70,
   "id": "df1579df",
   "metadata": {},
   "outputs": [
    {
     "data": {
      "text/plain": [
       "2"
      ]
     },
     "execution_count": 70,
     "metadata": {},
     "output_type": "execute_result"
    }
   ],
   "source": [
    "right_pop(deque)"
   ]
  },
  {
   "cell_type": "code",
   "execution_count": 71,
   "id": "e9ede434",
   "metadata": {},
   "outputs": [
    {
     "name": "stdout",
     "output_type": "stream",
     "text": [
      "1, \n",
      "1, \n"
     ]
    }
   ],
   "source": [
    "print_deque(deque)"
   ]
  },
  {
   "cell_type": "code",
   "execution_count": 72,
   "id": "28038595",
   "metadata": {},
   "outputs": [
    {
     "data": {
      "text/plain": [
       "1"
      ]
     },
     "execution_count": 72,
     "metadata": {},
     "output_type": "execute_result"
    }
   ],
   "source": [
    "right_pop(deque)"
   ]
  },
  {
   "cell_type": "code",
   "execution_count": 73,
   "id": "1bbbd530",
   "metadata": {},
   "outputs": [
    {
     "name": "stdout",
     "output_type": "stream",
     "text": [
      "Tried to pop from empty deque\n"
     ]
    }
   ],
   "source": [
    "try:\n",
    "    right_pop(deque)\n",
    "except ValueError as e:\n",
    "    print(e)"
   ]
  },
  {
   "cell_type": "markdown",
   "id": "2601cf79",
   "metadata": {},
   "source": [
    "## collections.deque\n",
    "\n",
    "The Python collections module provides an implementation of a deque.\n",
    "You can read the \n",
    "[documentation here](https://docs.python.org/3/library/collections.html#collections.deque)\n",
    "and the\n",
    "[source code here](https://github.com/python/cpython/blob/d943d19172aa93ce88bade15b9f23a0ce3bc72ff/Modules/_collectionsmodule.c).\n",
    "\n",
    "To confirm that it can add and remove elements from the beginning and end in constant time, let's run some timing tests."
   ]
  },
  {
   "cell_type": "code",
   "execution_count": 74,
   "id": "693d5e28",
   "metadata": {},
   "outputs": [],
   "source": [
    "from os.path import basename, exists\n",
    "\n",
    "def download(url):\n",
    "    filename = basename(url)\n",
    "    if not exists(filename):\n",
    "        from urllib.request import urlretrieve\n",
    "        local, _ = urlretrieve(url, filename)\n",
    "        print('Downloaded ' + local)\n",
    "    \n",
    "download('https://github.com/AllenDowney/DSIRP/raw/main/timing.py')"
   ]
  },
  {
   "cell_type": "code",
   "execution_count": 75,
   "id": "f2a0e363",
   "metadata": {},
   "outputs": [],
   "source": [
    "from collections import deque\n",
    "\n",
    "def appendleft(n):\n",
    "    d = deque()\n",
    "    [d.appendleft(x) for x in range(n)]"
   ]
  },
  {
   "cell_type": "code",
   "execution_count": 76,
   "id": "38d3e7a6",
   "metadata": {},
   "outputs": [],
   "source": [
    "def popleft(n):\n",
    "    d = deque()\n",
    "    [d.appendleft(x) for x in range(n)]    \n",
    "    [d.popleft() for _ in range(n)]"
   ]
  },
  {
   "cell_type": "code",
   "execution_count": 77,
   "id": "5b5de53e",
   "metadata": {},
   "outputs": [
    {
     "name": "stdout",
     "output_type": "stream",
     "text": [
      "1024 0.0\n",
      "2048 0.0\n",
      "4096 0.0\n",
      "8192 0.0\n",
      "16384 0.0\n",
      "32768 0.009999999999999787\n",
      "65536 0.0\n",
      "131072 0.010000000000000675\n",
      "262144 0.019999999999999574\n",
      "524288 0.03000000000000025\n",
      "1048576 0.07000000000000028\n",
      "2097152 0.11999999999999922\n",
      "4194304 0.27000000000000046\n",
      "8388608 0.54\n",
      "16777216 1.0700000000000003\n"
     ]
    }
   ],
   "source": [
    "from timing import run_timing_test\n",
    "\n",
    "ns, ts = run_timing_test(appendleft)"
   ]
  },
  {
   "cell_type": "code",
   "execution_count": 41,
   "id": "48d2628f",
   "metadata": {},
   "outputs": [],
   "source": [
    "def append(n):\n",
    "    d = deque()\n",
    "    [d.append(x) for x in range(n)]"
   ]
  },
  {
   "cell_type": "code",
   "execution_count": 78,
   "id": "2d1aad80",
   "metadata": {},
   "outputs": [
    {
     "data": {
      "image/png": "[encoded data removed]",
      "text/plain": [
       "<Figure size 432x288 with 1 Axes>"
      ]
     },
     "metadata": {
      "needs_background": "light"
     },
     "output_type": "display_data"
    }
   ],
   "source": [
    "from timing import plot_timing_test\n",
    "\n",
    "plot_timing_test(ns, ts, scale='linear')"
   ]
  },
  {
   "cell_type": "markdown",
   "id": "e2b4aef5",
   "metadata": {},
   "source": [
    "Running these operations `n` times is linear in `n`, which means that each one is constant time, at least on average."
   ]
  },
  {
   "cell_type": "markdown",
   "id": "33d085cd",
   "metadata": {},
   "source": [
    "**Exercise:** Modify the examples above to confirm that `append` and `pop` are also constant time."
   ]
  },
  {
   "cell_type": "markdown",
   "id": "ef58e92d",
   "metadata": {},
   "source": [
    "*Data Structures and Information Retrieval in Python*\n",
    "\n",
    "Copyright 2021 Allen Downey\n",
    "\n",
    "License: [Creative Commons Attribution-NonCommercial-ShareAlike 4.0 International](https://creativecommons.org/licenses/by-nc-sa/4.0/)"
   ]
  }
 ],
 "metadata": {
  "celltoolbar": "Tags",
  "kernelspec": {
   "display_name": "Python 3 (ipykernel)",
   "language": "python",
   "name": "python3"
  },
  "language_info": {
   "codemirror_mode": {
    "name": "ipython",
    "version": 3
   },
   "file_extension": ".py",
   "mimetype": "text/x-python",
   "name": "python",
   "nbconvert_exporter": "python",
   "pygments_lexer": "ipython3",
   "version": "3.10.1"
  }
 },
 "nbformat": 4,
 "nbformat_minor": 5
}

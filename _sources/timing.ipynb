{
 "cells": [
  {
   "cell_type": "markdown",
   "id": "absent-egypt",
   "metadata": {},
   "source": [
    "# Testing Order of Growth"
   ]
  },
  {
   "cell_type": "markdown",
   "id": "committed-editing",
   "metadata": {},
   "source": [
    "[Click here to run this chapter on Colab](https://colab.research.google.com/github/AllenDowney/DSIRP/blob/main/chapters/timing.ipynb)"
   ]
  },
  {
   "cell_type": "markdown",
   "id": "british-complex",
   "metadata": {},
   "source": [
    "Analysis of algorithms makes it possible to predict how run time will grow as the size of a problem increases.\n",
    "But this kind of analysis ignores leading coefficients and non-leading terms.\n",
    "So the behavior for small and medium problems might not be what the analysis predicts.\n",
    "\n",
    "To see how run time really behaves for a range of problem sizes, we can run the algorithm and measure.\n",
    "\n",
    "To do the measurement, we'll use the [times](https://docs.python.org/3/library/os.html#os.times) function from the `os` module."
   ]
  },
  {
   "cell_type": "code",
   "execution_count": 8,
   "id": "enhanced-choir",
   "metadata": {},
   "outputs": [],
   "source": [
    "import os\n",
    "\n",
    "def etime():\n",
    "    \"\"\"Measures user and system time this process has used.\n",
    "\n",
    "    Returns the sum of user and system time.\"\"\"\n",
    "    user, sys, chuser, chsys, real = os.times()\n",
    "    return user+sys"
   ]
  },
  {
   "cell_type": "code",
   "execution_count": 9,
   "id": "magnetic-standing",
   "metadata": {},
   "outputs": [
    {
     "data": {
      "text/plain": [
       "0.010000000000000009"
      ]
     },
     "execution_count": 9,
     "metadata": {},
     "output_type": "execute_result"
    }
   ],
   "source": [
    "start = etime()\n",
    "t = [x**2 for x in range(10000)]\n",
    "end = etime()\n",
    "end - start"
   ]
  },
  {
   "cell_type": "markdown",
   "id": "attempted-finnish",
   "metadata": {},
   "source": [
    "Exercise: Use `etime` to measure the computation time used by `sleep`."
   ]
  },
  {
   "cell_type": "code",
   "execution_count": 10,
   "id": "unauthorized-currency",
   "metadata": {},
   "outputs": [],
   "source": [
    "from time import sleep\n",
    "\n",
    "sleep(1)"
   ]
  },
  {
   "cell_type": "code",
   "execution_count": 11,
   "id": "welcome-wilderness",
   "metadata": {
    "tags": [
     "remove-cell"
    ]
   },
   "outputs": [
    {
     "data": {
      "text/plain": [
       "0.010000000000000009"
      ]
     },
     "execution_count": 11,
     "metadata": {},
     "output_type": "execute_result"
    }
   ],
   "source": [
    "# Solution\n",
    "\n",
    "start = etime()\n",
    "sleep(1)\n",
    "end = etime()\n",
    "end - start"
   ]
  },
  {
   "cell_type": "code",
   "execution_count": 12,
   "id": "supposed-carpet",
   "metadata": {},
   "outputs": [],
   "source": [
    "def time_func(func, n):\n",
    "    \"\"\"Run a function and return the elapsed time.\n",
    "\n",
    "    func: function\n",
    "    n: problem size, passed as an argument to func\n",
    "\n",
    "    returns: user+sys time in seconds\n",
    "    \"\"\"\n",
    "    start = etime()\n",
    "    func(n)\n",
    "    end = etime()\n",
    "    elapsed = end - start\n",
    "    return elapsed"
   ]
  },
  {
   "cell_type": "markdown",
   "id": "impressed-effort",
   "metadata": {},
   "source": [
    "One of the things that makes timing tricky is that many operations are too fast to measure accurately.\n",
    "\n",
    "`%timeit` handles this by running enough times get a precise estimate, even for things that run very fast.\n",
    "\n",
    "We'll handle it by running over a wide range of problem sizes, hoping to sizes that run long enough to measure, but not more than a few seconds."
   ]
  },
  {
   "cell_type": "markdown",
   "id": "ca63326a",
   "metadata": {},
   "source": [
    "\n",
    "The following function takes a size, `n`, creates an empty list, and calls `list.append` `n` times."
   ]
  },
  {
   "cell_type": "code",
   "execution_count": 13,
   "id": "adjustable-daniel",
   "metadata": {},
   "outputs": [],
   "source": [
    "def list_append(n):\n",
    "    t = []\n",
    "    [t.append(x) for x in range(n)]"
   ]
  },
  {
   "cell_type": "markdown",
   "id": "c92d719c",
   "metadata": {},
   "source": [
    "`timeit` can time this function accurately."
   ]
  },
  {
   "cell_type": "code",
   "execution_count": 14,
   "id": "later-updating",
   "metadata": {},
   "outputs": [
    {
     "name": "stdout",
     "output_type": "stream",
     "text": [
      "450 µs ± 751 ns per loop (mean ± std. dev. of 7 runs, 1000 loops each)\n"
     ]
    }
   ],
   "source": [
    "%timeit list_append(10000)"
   ]
  },
  {
   "cell_type": "markdown",
   "id": "nearby-netherlands",
   "metadata": {},
   "source": [
    "But our `time_func` is not that smart."
   ]
  },
  {
   "cell_type": "code",
   "execution_count": 15,
   "id": "cosmetic-bradford",
   "metadata": {},
   "outputs": [
    {
     "data": {
      "text/plain": [
       "0.0"
      ]
     },
     "execution_count": 15,
     "metadata": {},
     "output_type": "execute_result"
    }
   ],
   "source": [
    "time_func(list_append, 10000)"
   ]
  },
  {
   "cell_type": "markdown",
   "id": "headed-reducing",
   "metadata": {},
   "source": [
    "Exercise: Increase the number of iterations until the run time is measureable."
   ]
  },
  {
   "cell_type": "code",
   "execution_count": 16,
   "id": "documented-integration",
   "metadata": {
    "tags": [
     "remove-cell"
    ]
   },
   "outputs": [
    {
     "data": {
      "text/plain": [
       "0.0"
      ]
     },
     "execution_count": 16,
     "metadata": {},
     "output_type": "execute_result"
    }
   ],
   "source": [
    "# Solution\n",
    "\n",
    "time_func(list_append, 100000)"
   ]
  },
  {
   "cell_type": "markdown",
   "id": "assumed-spell",
   "metadata": {},
   "source": [
    "## List append\n",
    "\n",
    "The following function gradually increases `n` and records the total time."
   ]
  },
  {
   "cell_type": "code",
   "execution_count": 17,
   "id": "brown-princess",
   "metadata": {},
   "outputs": [],
   "source": [
    "def run_timing_test(func, max_time=1):\n",
    "    \"\"\"Tests the given function with a range of values for n.\n",
    "\n",
    "    func: function object\n",
    "\n",
    "    returns: list of ns and a list of run times.\n",
    "    \"\"\"\n",
    "    ns = []\n",
    "    ts = []\n",
    "    for i in range(10, 28):\n",
    "        n = 2**i\n",
    "        t = time_func(func, n)\n",
    "        print(n, t)\n",
    "        if t > 0:\n",
    "            ns.append(n)\n",
    "            ts.append(t)\n",
    "        if t > max_time:\n",
    "            break\n",
    "\n",
    "    return ns, ts"
   ]
  },
  {
   "cell_type": "code",
   "execution_count": 18,
   "id": "living-tamil",
   "metadata": {},
   "outputs": [
    {
     "name": "stdout",
     "output_type": "stream",
     "text": [
      "1024 0.0\n",
      "2048 0.0\n",
      "4096 0.0\n",
      "8192 0.0\n",
      "16384 0.0\n",
      "32768 0.0\n",
      "65536 0.0\n",
      "131072 0.009999999999999787\n",
      "262144 0.020000000000000462\n",
      "524288 0.040000000000000924\n",
      "1048576 0.0699999999999994\n",
      "2097152 0.15000000000000036\n",
      "4194304 0.2999999999999998\n",
      "8388608 0.5700000000000003\n",
      "16777216 1.0399999999999991\n"
     ]
    }
   ],
   "source": [
    "ns, ts = run_timing_test(list_append)"
   ]
  },
  {
   "cell_type": "code",
   "execution_count": 19,
   "id": "suspended-thanksgiving",
   "metadata": {},
   "outputs": [
    {
     "data": {
      "image/png": "[encoded data removed]",
      "text/plain": [
       "<Figure size 432x288 with 1 Axes>"
      ]
     },
     "metadata": {
      "needs_background": "light"
     },
     "output_type": "display_data"
    }
   ],
   "source": [
    "import matplotlib.pyplot as plt\n",
    "\n",
    "plt.plot(ns, ts, 'o-')\n",
    "plt.xlabel('Problem size (n)')\n",
    "plt.ylabel('Runtime (seconds)');"
   ]
  },
  {
   "cell_type": "markdown",
   "id": "tough-arbitration",
   "metadata": {},
   "source": [
    "This one looks pretty linear, but it won't always be so clear.\n",
    "It will help to plot a straight line that goes through the last data point."
   ]
  },
  {
   "cell_type": "code",
   "execution_count": 20,
   "id": "favorite-lightweight",
   "metadata": {},
   "outputs": [],
   "source": [
    "def fit(ns, ts, exp=1.0, index=-1):\n",
    "    \"\"\"Fits a curve with the given exponent.\n",
    "\n",
    "    ns: sequence of problem sizes\n",
    "    ts: sequence of times\n",
    "    exp: exponent of the fitted curve\n",
    "    index: index of the element the fitted line should go through\n",
    "\n",
    "    returns: sequence of fitted times\n",
    "\n",
    "\n",
    "    \"\"\"\n",
    "    # Use the element with the given index as a reference point,\n",
    "    # and scale all other points accordingly.\n",
    "    nref = ns[index]\n",
    "    tref = ts[index]\n",
    "\n",
    "    tfit = []\n",
    "    for n in ns:\n",
    "        ratio = n / nref\n",
    "        t = ratio**exp * tref\n",
    "        tfit.append(t)\n",
    "\n",
    "    return tfit"
   ]
  },
  {
   "cell_type": "code",
   "execution_count": 21,
   "id": "descending-gregory",
   "metadata": {},
   "outputs": [
    {
     "data": {
      "text/plain": [
       "[0.008124999999999993,\n",
       " 0.016249999999999987,\n",
       " 0.03249999999999997,\n",
       " 0.06499999999999995,\n",
       " 0.1299999999999999,\n",
       " 0.2599999999999998,\n",
       " 0.5199999999999996,\n",
       " 1.0399999999999991]"
      ]
     },
     "execution_count": 21,
     "metadata": {},
     "output_type": "execute_result"
    }
   ],
   "source": [
    "ts_fit = fit(ns, ts)\n",
    "ts_fit"
   ]
  },
  {
   "cell_type": "markdown",
   "id": "aquatic-sucking",
   "metadata": {},
   "source": [
    "The following function plots the actual results and the fitted line."
   ]
  },
  {
   "cell_type": "code",
   "execution_count": 22,
   "id": "similar-chapter",
   "metadata": {},
   "outputs": [],
   "source": [
    "def plot_timing_test(ns, ts, label='', color='C0', exp=1.0, scale='log'):\n",
    "    \"\"\"Plots data and a fitted curve.\n",
    "\n",
    "    ns: sequence of n (problem size)\n",
    "    ts: sequence of t (run time)\n",
    "    label: string label for the data curve\n",
    "    color: string color for the data curve\n",
    "    exp: exponent (slope) for the fitted curve\n",
    "    scale: string passed to xscale and yscale\n",
    "    \"\"\"\n",
    "    ts_fit = fit(ns, ts, exp)\n",
    "    fit_label = 'exp = %d' % exp\n",
    "    plt.plot(ns, ts_fit, label=fit_label, color='0.7', linestyle='dashed')\n",
    "    plt.plot(ns, ts, 'o-', label=label, color=color, alpha=0.7)\n",
    "    plt.xlabel('Problem size (n)')\n",
    "    plt.ylabel('Runtime (seconds)')\n",
    "    plt.xscale(scale)\n",
    "    plt.yscale(scale)\n",
    "    plt.legend()"
   ]
  },
  {
   "cell_type": "code",
   "execution_count": 23,
   "id": "particular-roots",
   "metadata": {},
   "outputs": [
    {
     "data": {
      "image/png": "[encoded data removed]",
      "text/plain": [
       "<Figure size 432x288 with 1 Axes>"
      ]
     },
     "metadata": {
      "needs_background": "light"
     },
     "output_type": "display_data"
    }
   ],
   "source": [
    "plot_timing_test(ns, ts, scale='linear')\n",
    "plt.title('list append');"
   ]
  },
  {
   "cell_type": "markdown",
   "id": "burning-exchange",
   "metadata": {},
   "source": [
    "From these results, what can we conclude about the order of growth of `list.append`?"
   ]
  },
  {
   "cell_type": "markdown",
   "id": "geographic-external",
   "metadata": {},
   "source": [
    "Before we go on, let's also look at the results on a log-log scale."
   ]
  },
  {
   "cell_type": "code",
   "execution_count": 24,
   "id": "thousand-processor",
   "metadata": {},
   "outputs": [
    {
     "data": {
      "image/png": "[encoded data removed]",
      "text/plain": [
       "<Figure size 432x288 with 1 Axes>"
      ]
     },
     "metadata": {
      "needs_background": "light"
     },
     "output_type": "display_data"
    }
   ],
   "source": [
    "plot_timing_test(ns, ts, scale='log')\n",
    "plt.title('list append');"
   ]
  },
  {
   "cell_type": "markdown",
   "id": "9b6bd334",
   "metadata": {},
   "source": [
    "Why might we prefer this scale?"
   ]
  },
  {
   "cell_type": "markdown",
   "id": "passive-agent",
   "metadata": {},
   "source": [
    "## List pop\n",
    "\n",
    "Now let's do the same for `list.pop` (which pops from the end of the list by default).\n",
    "\n",
    "Notice that we have to make the list before we pop things from it, so we will have to think about how to interpret the results."
   ]
  },
  {
   "cell_type": "code",
   "execution_count": 25,
   "id": "reliable-efficiency",
   "metadata": {},
   "outputs": [
    {
     "name": "stdout",
     "output_type": "stream",
     "text": [
      "1024 0.0\n",
      "2048 0.0\n",
      "4096 0.0\n",
      "8192 0.0\n",
      "16384 0.0\n",
      "32768 0.0\n",
      "65536 0.009999999999999787\n",
      "131072 0.019999999999999574\n",
      "262144 0.030000000000001137\n",
      "524288 0.05000000000000071\n",
      "1048576 0.11999999999999922\n",
      "2097152 0.2400000000000002\n",
      "4194304 0.46999999999999886\n",
      "8388608 0.9199999999999999\n",
      "16777216 1.7600000000000016\n"
     ]
    },
    {
     "data": {
      "image/png": "[encoded data removed]",
      "text/plain": [
       "<Figure size 432x288 with 1 Axes>"
      ]
     },
     "metadata": {
      "needs_background": "light"
     },
     "output_type": "display_data"
    }
   ],
   "source": [
    "def list_pop(n):\n",
    "    t = []\n",
    "    [t.append(x) for x in range(n)]\n",
    "    [t.pop() for _ in range(n)]\n",
    "\n",
    "ns, ts = run_timing_test(list_pop)\n",
    "plot_timing_test(ns, ts, scale='log')\n",
    "plt.title('list pop');"
   ]
  },
  {
   "cell_type": "markdown",
   "id": "regional-pearl",
   "metadata": {},
   "source": [
    "What can we conclude?\n",
    "\n",
    "What about `pop(0)`, which pops from the beginning of the list?\n",
    "\n",
    "Note: You might have to adjust `exp` to make the fitted line fit."
   ]
  },
  {
   "cell_type": "code",
   "execution_count": 31,
   "id": "destroyed-custody",
   "metadata": {},
   "outputs": [
    {
     "name": "stdout",
     "output_type": "stream",
     "text": [
      "1024 0.0\n",
      "2048 0.0\n",
      "4096 0.0\n",
      "8192 0.010000000000001563\n",
      "16384 0.029999999999997584\n",
      "32768 0.07000000000000028\n",
      "65536 0.4200000000000017\n",
      "131072 1.7799999999999976\n"
     ]
    },
    {
     "data": {
      "image/png": "[encoded data removed]",
      "text/plain": [
       "<Figure size 432x288 with 1 Axes>"
      ]
     },
     "metadata": {
      "needs_background": "light"
     },
     "output_type": "display_data"
    }
   ],
   "source": [
    "def list_pop0(n):\n",
    "    t = []\n",
    "    [t.append(x) for x in range(n)]\n",
    "    [t.pop(0) for _ in range(n)]\n",
    "\n",
    "ns, ts = run_timing_test(list_pop0)\n",
    "plot_timing_test(ns, ts, scale='log', exp=1)\n",
    "plt.title('list pop(0)');"
   ]
  },
  {
   "cell_type": "markdown",
   "id": "ceramic-honduras",
   "metadata": {},
   "source": [
    "## Searching a list\n",
    "\n",
    "`list.index` searches a list and returns the index of the first element that matches the target.\n",
    "\n",
    "What do we expect if we always search for the first element?"
   ]
  },
  {
   "cell_type": "code",
   "execution_count": 29,
   "id": "unusual-scholarship",
   "metadata": {},
   "outputs": [
    {
     "name": "stdout",
     "output_type": "stream",
     "text": [
      "1024 0.0\n",
      "2048 0.0\n",
      "4096 0.0\n",
      "8192 0.009999999999999787\n",
      "16384 0.0\n",
      "32768 0.009999999999999787\n",
      "65536 0.009999999999999787\n",
      "131072 0.030000000000001137\n",
      "262144 0.049999999999998934\n",
      "524288 0.08999999999999986\n",
      "1048576 0.1999999999999993\n",
      "2097152 0.40000000000000036\n",
      "4194304 0.8000000000000007\n",
      "8388608 1.5700000000000003\n"
     ]
    },
    {
     "data": {
      "image/png": "[encoded data removed]",
      "text/plain": [
       "<Figure size 432x288 with 1 Axes>"
      ]
     },
     "metadata": {
      "needs_background": "light"
     },
     "output_type": "display_data"
    }
   ],
   "source": [
    "def list_index0(n):\n",
    "    t = []\n",
    "    [t.append(x) for x in range(n)]\n",
    "    [t.index(0) for _ in range(n)]\n",
    "\n",
    "ns, ts = run_timing_test(list_index0)\n",
    "\n",
    "plot_timing_test(ns, ts, scale='log', exp=1)\n",
    "plt.title('list index(0)');"
   ]
  },
  {
   "cell_type": "markdown",
   "id": "declared-completion",
   "metadata": {},
   "source": [
    "What if we always search for the last element?"
   ]
  },
  {
   "cell_type": "code",
   "execution_count": 32,
   "id": "executive-distributor",
   "metadata": {},
   "outputs": [
    {
     "name": "stdout",
     "output_type": "stream",
     "text": [
      "1024 0.019999999999999574\n",
      "2048 0.03999999999999915\n",
      "4096 0.16000000000000014\n",
      "8192 0.6099999999999994\n",
      "16384 2.4300000000000033\n"
     ]
    },
    {
     "data": {
      "image/png": "[encoded data removed]",
      "text/plain": [
       "<Figure size 432x288 with 1 Axes>"
      ]
     },
     "metadata": {
      "needs_background": "light"
     },
     "output_type": "display_data"
    }
   ],
   "source": [
    "def list_index_n(n):\n",
    "    t = []\n",
    "    [t.append(x) for x in range(n)]\n",
    "    [t.index(n-1) for _ in range(n)]\n",
    "\n",
    "ns, ts = run_timing_test(list_index_n)\n",
    "\n",
    "plot_timing_test(ns, ts, scale='log', exp=1)\n",
    "plt.title('list index(n-1)');"
   ]
  },
  {
   "cell_type": "markdown",
   "id": "indian-stranger",
   "metadata": {},
   "source": [
    "## Dictionary add"
   ]
  },
  {
   "cell_type": "code",
   "execution_count": 33,
   "id": "reported-firewall",
   "metadata": {},
   "outputs": [
    {
     "name": "stdout",
     "output_type": "stream",
     "text": [
      "1024 0.0\n",
      "2048 0.0\n",
      "4096 0.0\n",
      "8192 0.0\n",
      "16384 0.0\n",
      "32768 0.010000000000001563\n",
      "65536 0.00999999999999801\n",
      "131072 0.020000000000003126\n",
      "262144 0.03999999999999915\n",
      "524288 0.07000000000000028\n",
      "1048576 0.14999999999999858\n",
      "2097152 0.3000000000000007\n",
      "4194304 0.5999999999999979\n",
      "8388608 1.2300000000000004\n"
     ]
    },
    {
     "data": {
      "image/png": "[encoded data removed]",
      "text/plain": [
       "<Figure size 432x288 with 1 Axes>"
      ]
     },
     "metadata": {
      "needs_background": "light"
     },
     "output_type": "display_data"
    }
   ],
   "source": [
    "def dict_add(n):\n",
    "    d = {}\n",
    "    [d.setdefault(x, x) for x in range(n)]\n",
    "\n",
    "ns, ts = run_timing_test(dict_add)\n",
    "\n",
    "plot_timing_test(ns, ts, scale='log', exp=1)\n",
    "plt.title('dict add');"
   ]
  },
  {
   "cell_type": "markdown",
   "id": "silent-mainstream",
   "metadata": {},
   "source": [
    "## Dictionary lookup "
   ]
  },
  {
   "cell_type": "code",
   "execution_count": 34,
   "id": "alive-gravity",
   "metadata": {},
   "outputs": [
    {
     "name": "stdout",
     "output_type": "stream",
     "text": [
      "1024 0.0\n",
      "2048 0.0\n",
      "4096 0.0\n",
      "8192 0.0\n",
      "16384 0.0\n",
      "32768 0.00999999999999801\n",
      "65536 0.010000000000001563\n",
      "131072 0.030000000000001137\n",
      "262144 0.05000000000000071\n",
      "524288 0.09999999999999787\n",
      "1048576 0.20000000000000284\n",
      "2097152 0.399999999999995\n",
      "4194304 0.8000000000000007\n",
      "8388608 1.6499999999999986\n"
     ]
    },
    {
     "data": {
      "image/png": "[encoded data removed]",
      "text/plain": [
       "<Figure size 432x288 with 1 Axes>"
      ]
     },
     "metadata": {
      "needs_background": "light"
     },
     "output_type": "display_data"
    }
   ],
   "source": [
    "def dict_lookup(n):\n",
    "    d = {}\n",
    "    [d.setdefault(x, x) for x in range(n)]\n",
    "    [d[x] for x in range(n)]\n",
    "\n",
    "ns, ts = run_timing_test(dict_lookup)\n",
    "\n",
    "plot_timing_test(ns, ts, scale='log', exp=1)\n",
    "plt.title('dict lookup');"
   ]
  },
  {
   "cell_type": "markdown",
   "id": "tough-anthony",
   "metadata": {},
   "source": [
    "This characteristic of dictionaries is the foundation of a lot of efficient algorithms!"
   ]
  },
  {
   "cell_type": "markdown",
   "id": "1e7f5725",
   "metadata": {
    "tags": [
     "remove-cell"
    ]
   },
   "source": [
    "*Data Structures and Information Retrieval in Python*\n",
    "\n",
    "Copyright 2021 Allen Downey\n",
    "\n",
    "License: [Creative Commons Attribution-NonCommercial-ShareAlike 4.0 International](https://creativecommons.org/licenses/by-nc-sa/4.0/)"
   ]
  }
 ],
 "metadata": {
  "kernelspec": {
   "display_name": "Python 3 (ipykernel)",
   "language": "python",
   "name": "python3"
  },
  "language_info": {
   "codemirror_mode": {
    "name": "ipython",
    "version": 3
   },
   "file_extension": ".py",
   "mimetype": "text/x-python",
   "name": "python",
   "nbconvert_exporter": "python",
   "pygments_lexer": "ipython3",
   "version": "3.10.1"
  }
 },
 "nbformat": 4,
 "nbformat_minor": 5
}

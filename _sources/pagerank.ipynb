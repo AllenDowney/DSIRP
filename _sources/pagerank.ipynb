{
 "cells": [
  {
   "cell_type": "markdown",
   "id": "17fb04da",
   "metadata": {},
   "source": [
    "# PageRank"
   ]
  },
  {
   "cell_type": "markdown",
   "id": "457822ea",
   "metadata": {},
   "source": [
    "[Click here to run this notebook on Colab](https://colab.research.google.com/github/AllenDowney/DSIRP/blob/main/notebooks/pagerank.ipynb)"
   ]
  },
  {
   "cell_type": "markdown",
   "id": "bdbcca60",
   "metadata": {},
   "source": [
    "## Ranking pages\n",
    "\n",
    "The goal of information retrieval is to find resources that are relevant and high quality.\n",
    "\"Relevant\" and \"quality\" can be hard to define, and they depend on what kind of resources you are searching.\n",
    "\n",
    "In the context of web search, relevance usually depends on the contents of a web page: if a web page contains the search terms, we assume that it is relevant to the search terms.\n",
    "\n",
    "Quality usually depends on the links between pages.\n",
    "If there are many links to a particular page, we think it is more likely to be high quality, especially if those links come from pages that are high quality themselves.\n",
    "\n",
    "One of the first algorithms to quantify quality in this is PageRank, which was the core of Google's original search engine.\n",
    "As someone who used earlier search engines, like Alta Vista, I can tell you first-hand what a big difference it made.\n",
    "\n",
    "PageRank is described in [\"The PageRank citation ranking: Bringing order to the Web\"](https://web.archive.org/web/20110818093436/http://ilpubs.stanford.edu:8090/422/1/1999-66.pdf) by  Page, Brin, Motwani, and Winograd.\n",
    "\n",
    "It is a surprisingly simple algorithm; it can be computed and updated efficiently; and it is highly effective at identifying good quality pages.\n",
    "So, let's see how it works."
   ]
  },
  {
   "cell_type": "markdown",
   "id": "57b900b4",
   "metadata": {},
   "source": [
    "As an example, I'll use `random_k_out_graph` to generate a directed graph with `n` nodes where:\n",
    "\n",
    "* Every node has the same number of out-links, `k`,\n",
    "\n",
    "* The number of in-links varies moderately (controlled by the parameter `alpha`).\n",
    "\n",
    "* Self-links and multiple links are allowed.\n"
   ]
  },
  {
   "cell_type": "code",
   "execution_count": 1,
   "id": "621928b1",
   "metadata": {},
   "outputs": [],
   "source": [
    "import networkx as nx\n",
    "\n",
    "G = nx.random_k_out_graph(n=8, k=2, alpha=0.75)"
   ]
  },
  {
   "cell_type": "markdown",
   "id": "9701ac8d",
   "metadata": {},
   "source": [
    "Here's what the graph looks like. Multiple links appear as slightly thicker lines."
   ]
  },
  {
   "cell_type": "code",
   "execution_count": 2,
   "id": "3d33d291",
   "metadata": {},
   "outputs": [
    {
     "data": {
      "image/png": "[encoded data removed]",
      "text/plain": [
       "<Figure size 432x288 with 1 Axes>"
      ]
     },
     "metadata": {},
     "output_type": "display_data"
    }
   ],
   "source": [
    "def draw_graph(G):\n",
    "    nx.draw_circular(G, node_size=400, with_labels=True)\n",
    "    \n",
    "draw_graph(G)"
   ]
  },
  {
   "cell_type": "markdown",
   "id": "079efdb9",
   "metadata": {},
   "source": [
    "NetworkX provides an implementation of PageRank we can use to compute a metric of \"importance\" for each page."
   ]
  },
  {
   "cell_type": "code",
   "execution_count": 3,
   "id": "60720ba3",
   "metadata": {
    "tags": [
     "fill-in"
    ]
   },
   "outputs": [
    {
     "data": {
      "text/plain": [
       "{0: 0.1529214627122818,\n",
       " 1: 0.3707896283472802,\n",
       " 2: 0.14402452847002478,\n",
       " 3: 0.018750000000000003,\n",
       " 4: 0.18430400881769338,\n",
       " 5: 0.018750000000000003,\n",
       " 6: 0.018750000000000003,\n",
       " 7: 0.09171037165271977}"
      ]
     },
     "execution_count": 3,
     "metadata": {},
     "output_type": "execute_result"
    }
   ],
   "source": [
    "ranks_pr = nx.pagerank(G)\n",
    "ranks_pr"
   ]
  },
  {
   "cell_type": "markdown",
   "id": "70ebd58b",
   "metadata": {},
   "source": [
    "You should see that nodes with more in-links get higher scores."
   ]
  },
  {
   "cell_type": "markdown",
   "id": "ca70de08",
   "metadata": {},
   "source": [
    "##  Random Walk\n",
    "\n",
    "One way to interpret PageRank is in terms of a random walk.\n",
    "Suppose you choose a node at random, then choose one of its out-links at random, and continue like that, making a note of each node you visit.\n",
    "\n",
    "If a node has a lot of in-links, you are likely to visit it more often.\n",
    "And if those in-links come from nodes with many in-links, even more so.\n",
    "\n",
    "However, there is one catch: if a node contains no out-links, or if a set of nodes form a loop with no out-links, the random walker could get trapped.\n",
    "\n",
    "To avoid that, we'll modify the random walk so at every step there is some probability that the walker jumps to a random node rather than following a link.\n",
    "This probability is determined by a parameter, `alpha`, which is the probability of following a link, so `1-alpha` is the probability of making a random jump."
   ]
  },
  {
   "cell_type": "markdown",
   "id": "feaafd15",
   "metadata": {},
   "source": [
    "The following function implements a random walk, with these random jumps, and uses a `Counter` to keep track of the number of times it visits each node.\n",
    "\n",
    "It returns the `Counter` with the frequencies normalized to add up to one.\n",
    "If everything goes according to plan, these values should approximate the results from PageRank."
   ]
  },
  {
   "cell_type": "code",
   "execution_count": 4,
   "id": "65ba086c",
   "metadata": {},
   "outputs": [],
   "source": [
    "import numpy as np\n",
    "\n",
    "def flip(p):\n",
    "    return np.random.random() < p"
   ]
  },
  {
   "cell_type": "code",
   "execution_count": 5,
   "id": "3dc1eea9",
   "metadata": {
    "tags": [
     "fill-in"
    ]
   },
   "outputs": [],
   "source": [
    "from collections import Counter\n",
    "\n",
    "def random_walk(G, alpha=0.85, iters=1000):\n",
    "    counter = Counter()\n",
    "    node = next(iter(G))\n",
    "    \n",
    "    for _ in range(iters):\n",
    "        if flip(alpha):\n",
    "            node = np.random.choice(list(G[node]))\n",
    "        else:\n",
    "            node = np.random.choice(list(G))\n",
    "        \n",
    "        counter[node] += 1\n",
    "        \n",
    "    total = sum(counter.values())\n",
    "    for key in counter:\n",
    "        counter[key] /= total\n",
    "    return counter"
   ]
  },
  {
   "cell_type": "markdown",
   "id": "3f21a00a",
   "metadata": {},
   "source": [
    "The default value of `alpha` is 0.85, which is the same as the default value for `nx.pagerank`.\n",
    "\n",
    "Here are the scores we get from the random walk."
   ]
  },
  {
   "cell_type": "code",
   "execution_count": 6,
   "id": "4d64c038",
   "metadata": {},
   "outputs": [
    {
     "data": {
      "text/plain": [
       "Counter({7: 0.093,\n",
       "         2: 0.145,\n",
       "         1: 0.39,\n",
       "         4: 0.19,\n",
       "         6: 0.019,\n",
       "         0: 0.133,\n",
       "         3: 0.009,\n",
       "         5: 0.021})"
      ]
     },
     "execution_count": 6,
     "metadata": {},
     "output_type": "execute_result"
    }
   ],
   "source": [
    "ranks_rw = random_walk(G)\n",
    "ranks_rw"
   ]
  },
  {
   "cell_type": "markdown",
   "id": "2d7b67bd",
   "metadata": {},
   "source": [
    "To compare them to the results from PageRank, I'll put them in a Pandas `DataFrame`."
   ]
  },
  {
   "cell_type": "code",
   "execution_count": 7,
   "id": "f31d6890",
   "metadata": {},
   "outputs": [
    {
     "data": {
      "text/html": [
       "<div>\n",
       "<style scoped>\n",
       "    .dataframe tbody tr th:only-of-type {\n",
       "        vertical-align: middle;\n",
       "    }\n",
       "\n",
       "    .dataframe tbody tr th {\n",
       "        vertical-align: top;\n",
       "    }\n",
       "\n",
       "    .dataframe thead th {\n",
       "        text-align: right;\n",
       "    }\n",
       "</style>\n",
       "<table border=\"1\" class=\"dataframe\">\n",
       "  <thead>\n",
       "    <tr style=\"text-align: right;\">\n",
       "      <th></th>\n",
       "      <th>PageRank</th>\n",
       "      <th>RandomWalk</th>\n",
       "      <th>Diff</th>\n",
       "    </tr>\n",
       "  </thead>\n",
       "  <tbody>\n",
       "    <tr>\n",
       "      <th>0</th>\n",
       "      <td>15.292146</td>\n",
       "      <td>13.3</td>\n",
       "      <td>-1.992146</td>\n",
       "    </tr>\n",
       "    <tr>\n",
       "      <th>1</th>\n",
       "      <td>37.078963</td>\n",
       "      <td>39.0</td>\n",
       "      <td>1.921037</td>\n",
       "    </tr>\n",
       "    <tr>\n",
       "      <th>2</th>\n",
       "      <td>14.402453</td>\n",
       "      <td>14.5</td>\n",
       "      <td>0.097547</td>\n",
       "    </tr>\n",
       "    <tr>\n",
       "      <th>3</th>\n",
       "      <td>1.875000</td>\n",
       "      <td>0.9</td>\n",
       "      <td>-0.975000</td>\n",
       "    </tr>\n",
       "    <tr>\n",
       "      <th>4</th>\n",
       "      <td>18.430401</td>\n",
       "      <td>19.0</td>\n",
       "      <td>0.569599</td>\n",
       "    </tr>\n",
       "    <tr>\n",
       "      <th>5</th>\n",
       "      <td>1.875000</td>\n",
       "      <td>2.1</td>\n",
       "      <td>0.225000</td>\n",
       "    </tr>\n",
       "    <tr>\n",
       "      <th>6</th>\n",
       "      <td>1.875000</td>\n",
       "      <td>1.9</td>\n",
       "      <td>0.025000</td>\n",
       "    </tr>\n",
       "    <tr>\n",
       "      <th>7</th>\n",
       "      <td>9.171037</td>\n",
       "      <td>9.3</td>\n",
       "      <td>0.128963</td>\n",
       "    </tr>\n",
       "  </tbody>\n",
       "</table>\n",
       "</div>"
      ],
      "text/plain": [
       "    PageRank  RandomWalk      Diff\n",
       "0  15.292146        13.3 -1.992146\n",
       "1  37.078963        39.0  1.921037\n",
       "2  14.402453        14.5  0.097547\n",
       "3   1.875000         0.9 -0.975000\n",
       "4  18.430401        19.0  0.569599\n",
       "5   1.875000         2.1  0.225000\n",
       "6   1.875000         1.9  0.025000\n",
       "7   9.171037         9.3  0.128963"
      ]
     },
     "execution_count": 7,
     "metadata": {},
     "output_type": "execute_result"
    }
   ],
   "source": [
    "import pandas as pd\n",
    "\n",
    "s1 = pd.Series(ranks_pr)\n",
    "s2 = pd.Series(ranks_rw)\n",
    "\n",
    "df = pd.DataFrame(dict(PageRank=s1, RandomWalk=s2))\n",
    "df['Diff'] = df['RandomWalk'] - df['PageRank']\n",
    "df*100"
   ]
  },
  {
   "cell_type": "markdown",
   "id": "7198e90d",
   "metadata": {},
   "source": [
    "The differences should be a few percentage points at most."
   ]
  },
  {
   "cell_type": "markdown",
   "id": "cc639456",
   "metadata": {},
   "source": [
    "## Adjacency Matrix\n",
    "\n",
    "The random walk implementation of PageRank is conceptually simple, but not very efficient to compute.\n",
    "An alternative is to use a matrix to represent the links from each node to every other node, and compute the eigenvectors of that matrix.\n",
    "\n",
    "In this section, I'll demonstrate this computation and explain how it works.\n",
    "The code here is based on the [implementation of PageRank in NetworkX](https://networkx.org/documentation/stable/_modules/networkx/algorithms/link_analysis/pagerank_alg.html)."
   ]
  },
  {
   "cell_type": "markdown",
   "id": "54242006",
   "metadata": {},
   "source": [
    "NetworkX provides a function that creates a NumPy array that represents the [adjacency matrix](https://en.wikipedia.org/wiki/Adjacency_matrix) of the graph."
   ]
  },
  {
   "cell_type": "code",
   "execution_count": 8,
   "id": "3412dff5",
   "metadata": {
    "tags": [
     "fill-in"
    ]
   },
   "outputs": [
    {
     "data": {
      "text/plain": [
       "array([[1., 0., 0., 0., 0., 0., 0., 1.],\n",
       "       [0., 1., 0., 0., 1., 0., 0., 0.],\n",
       "       [1., 1., 0., 0., 0., 0., 0., 0.],\n",
       "       [0., 0., 1., 0., 0., 0., 0., 1.],\n",
       "       [0., 1., 1., 0., 0., 0., 0., 0.],\n",
       "       [0., 1., 0., 0., 1., 0., 0., 0.],\n",
       "       [1., 1., 0., 0., 0., 0., 0., 0.],\n",
       "       [0., 1., 1., 0., 0., 0., 0., 0.]])"
      ]
     },
     "execution_count": 8,
     "metadata": {},
     "output_type": "execute_result"
    }
   ],
   "source": [
    "M = nx.to_numpy_array(G)\n",
    "M"
   ]
  },
  {
   "cell_type": "markdown",
   "id": "01a01d14",
   "metadata": {},
   "source": [
    "In this matrix, the element in row `i`, column `j` indicates the number of edges from node `i` to node `j`.\n",
    "\n",
    "If we normalize each row so it adds up to one, each element of the result represents the probability of a transition from one node to another."
   ]
  },
  {
   "cell_type": "code",
   "execution_count": 9,
   "id": "59d2ba7d",
   "metadata": {
    "tags": [
     "fill-in"
    ]
   },
   "outputs": [
    {
     "data": {
      "text/plain": [
       "array([[0.5, 0. , 0. , 0. , 0. , 0. , 0. , 0.5],\n",
       "       [0. , 0.5, 0. , 0. , 0.5, 0. , 0. , 0. ],\n",
       "       [0.5, 0.5, 0. , 0. , 0. , 0. , 0. , 0. ],\n",
       "       [0. , 0. , 0.5, 0. , 0. , 0. , 0. , 0.5],\n",
       "       [0. , 0.5, 0.5, 0. , 0. , 0. , 0. , 0. ],\n",
       "       [0. , 0.5, 0. , 0. , 0.5, 0. , 0. , 0. ],\n",
       "       [0.5, 0.5, 0. , 0. , 0. , 0. , 0. , 0. ],\n",
       "       [0. , 0.5, 0.5, 0. , 0. , 0. , 0. , 0. ]])"
      ]
     },
     "execution_count": 9,
     "metadata": {},
     "output_type": "execute_result"
    }
   ],
   "source": [
    "M /= M.sum(axis=1)\n",
    "M"
   ]
  },
  {
   "cell_type": "markdown",
   "id": "4f27621a",
   "metadata": {},
   "source": [
    "We can use this matrix to simulate a random walk with many walkers at the same time.\n",
    "For example, suppose we start with 100 walkers at each node, represented by the array `x`:\n"
   ]
  },
  {
   "cell_type": "code",
   "execution_count": 10,
   "id": "f4f6e8eb",
   "metadata": {
    "tags": [
     "fill-in"
    ]
   },
   "outputs": [
    {
     "data": {
      "text/plain": [
       "array([100, 100, 100, 100, 100, 100, 100, 100])"
      ]
     },
     "execution_count": 10,
     "metadata": {},
     "output_type": "execute_result"
    }
   ],
   "source": [
    "N = len(G)\n",
    "x = np.full(N, 100)\n",
    "x"
   ]
  },
  {
   "cell_type": "markdown",
   "id": "04878535",
   "metadata": {},
   "source": [
    "If we transpose `M`, we get a [transition matrix](https://en.wikipedia.org/wiki/Stochastic_matrix) where the element at row `i` and column `j` is the fraction of walkers at node `j` that move to node `i`.\n",
    "\n",
    "If we multiply the transition matrix by `x`, the result is an array with the number of walkers at each node after one time step."
   ]
  },
  {
   "cell_type": "code",
   "execution_count": 11,
   "id": "1121ed95",
   "metadata": {
    "tags": [
     "fill-in"
    ]
   },
   "outputs": [
    {
     "data": {
      "text/plain": [
       "array([150., 300., 150.,   0., 100.,   0.,   0., 100.])"
      ]
     },
     "execution_count": 11,
     "metadata": {},
     "output_type": "execute_result"
    }
   ],
   "source": [
    "x = M.T @ x\n",
    "x"
   ]
  },
  {
   "cell_type": "markdown",
   "id": "97e463a1",
   "metadata": {},
   "source": [
    "If you run that cell a few times, you should find that it converges to a steady state where the number of walkers at each node doesn't change much from one time step to the next.\n",
    "\n",
    "However, you might notice that some nodes lose all of their walkers.\n",
    "That's because the random walk we've simulated doesn't include random jumps.\n",
    "\n",
    "To add random jumps, we can create another matrix that include transitions from all nodes to all other nodes with equal probability."
   ]
  },
  {
   "cell_type": "code",
   "execution_count": 12,
   "id": "9c18699e",
   "metadata": {
    "tags": [
     "fill-in"
    ]
   },
   "outputs": [
    {
     "data": {
      "text/plain": [
       "array([[0.125, 0.125, 0.125, 0.125, 0.125, 0.125, 0.125, 0.125],\n",
       "       [0.125, 0.125, 0.125, 0.125, 0.125, 0.125, 0.125, 0.125],\n",
       "       [0.125, 0.125, 0.125, 0.125, 0.125, 0.125, 0.125, 0.125],\n",
       "       [0.125, 0.125, 0.125, 0.125, 0.125, 0.125, 0.125, 0.125],\n",
       "       [0.125, 0.125, 0.125, 0.125, 0.125, 0.125, 0.125, 0.125],\n",
       "       [0.125, 0.125, 0.125, 0.125, 0.125, 0.125, 0.125, 0.125],\n",
       "       [0.125, 0.125, 0.125, 0.125, 0.125, 0.125, 0.125, 0.125],\n",
       "       [0.125, 0.125, 0.125, 0.125, 0.125, 0.125, 0.125, 0.125]])"
      ]
     },
     "execution_count": 12,
     "metadata": {},
     "output_type": "execute_result"
    }
   ],
   "source": [
    "p = np.full((N, N), 1/N)\n",
    "p"
   ]
  },
  {
   "cell_type": "markdown",
   "id": "fb4753d5",
   "metadata": {},
   "source": [
    "Now we'll use the parameter `alpha` to compute a weighted sum of `M` and `p`. "
   ]
  },
  {
   "cell_type": "code",
   "execution_count": 13,
   "id": "6bd44ad2",
   "metadata": {
    "tags": [
     "fill-in"
    ]
   },
   "outputs": [],
   "source": [
    "alpha = 0.85\n",
    "GM = alpha * M + (1 - alpha) * p"
   ]
  },
  {
   "cell_type": "markdown",
   "id": "ad0ac9bf",
   "metadata": {},
   "source": [
    "The result is a \"Google matrix\" that represents transitions in a random walk, including random jumps.\n",
    "\n",
    "So let's start again with an equal number of walkers on all nodes and simulate 10 time steps."
   ]
  },
  {
   "cell_type": "code",
   "execution_count": 14,
   "id": "fa72d06c",
   "metadata": {
    "tags": [
     "fill-in"
    ]
   },
   "outputs": [],
   "source": [
    "x = np.full(N, 100)\n",
    "\n",
    "for i in range(10):\n",
    "    x = GM.T @ x"
   ]
  },
  {
   "cell_type": "markdown",
   "id": "c693772a",
   "metadata": {},
   "source": [
    "If we normalize `x` so it adds up to one, the result should approximate the ranks we got from PageRank."
   ]
  },
  {
   "cell_type": "code",
   "execution_count": 15,
   "id": "c20c87fe",
   "metadata": {
    "tags": [
     "fill-in"
    ]
   },
   "outputs": [
    {
     "data": {
      "text/plain": [
       "array([0.15293199, 0.37077494, 0.14404034, 0.01875   , 0.18427767,\n",
       "       0.01875   , 0.01875   , 0.09172506])"
      ]
     },
     "execution_count": 15,
     "metadata": {},
     "output_type": "execute_result"
    }
   ],
   "source": [
    "ranks_am = x / x.sum()\n",
    "ranks_am"
   ]
  },
  {
   "cell_type": "markdown",
   "id": "34e9f3ce",
   "metadata": {},
   "source": [
    "Here's the table that compares the results."
   ]
  },
  {
   "cell_type": "code",
   "execution_count": 16,
   "id": "538db716",
   "metadata": {},
   "outputs": [
    {
     "data": {
      "text/html": [
       "<div>\n",
       "<style scoped>\n",
       "    .dataframe tbody tr th:only-of-type {\n",
       "        vertical-align: middle;\n",
       "    }\n",
       "\n",
       "    .dataframe tbody tr th {\n",
       "        vertical-align: top;\n",
       "    }\n",
       "\n",
       "    .dataframe thead th {\n",
       "        text-align: right;\n",
       "    }\n",
       "</style>\n",
       "<table border=\"1\" class=\"dataframe\">\n",
       "  <thead>\n",
       "    <tr style=\"text-align: right;\">\n",
       "      <th></th>\n",
       "      <th>PageRank</th>\n",
       "      <th>AdjMatrix</th>\n",
       "      <th>Diff</th>\n",
       "    </tr>\n",
       "  </thead>\n",
       "  <tbody>\n",
       "    <tr>\n",
       "      <th>0</th>\n",
       "      <td>15.292146</td>\n",
       "      <td>15.293199</td>\n",
       "      <td>0.001053</td>\n",
       "    </tr>\n",
       "    <tr>\n",
       "      <th>1</th>\n",
       "      <td>37.078963</td>\n",
       "      <td>37.077494</td>\n",
       "      <td>-0.001469</td>\n",
       "    </tr>\n",
       "    <tr>\n",
       "      <th>2</th>\n",
       "      <td>14.402453</td>\n",
       "      <td>14.404034</td>\n",
       "      <td>0.001581</td>\n",
       "    </tr>\n",
       "    <tr>\n",
       "      <th>3</th>\n",
       "      <td>1.875000</td>\n",
       "      <td>1.875000</td>\n",
       "      <td>0.000000</td>\n",
       "    </tr>\n",
       "    <tr>\n",
       "      <th>4</th>\n",
       "      <td>18.430401</td>\n",
       "      <td>18.427767</td>\n",
       "      <td>-0.002634</td>\n",
       "    </tr>\n",
       "    <tr>\n",
       "      <th>5</th>\n",
       "      <td>1.875000</td>\n",
       "      <td>1.875000</td>\n",
       "      <td>0.000000</td>\n",
       "    </tr>\n",
       "    <tr>\n",
       "      <th>6</th>\n",
       "      <td>1.875000</td>\n",
       "      <td>1.875000</td>\n",
       "      <td>0.000000</td>\n",
       "    </tr>\n",
       "    <tr>\n",
       "      <th>7</th>\n",
       "      <td>9.171037</td>\n",
       "      <td>9.172506</td>\n",
       "      <td>0.001469</td>\n",
       "    </tr>\n",
       "  </tbody>\n",
       "</table>\n",
       "</div>"
      ],
      "text/plain": [
       "    PageRank  AdjMatrix      Diff\n",
       "0  15.292146  15.293199  0.001053\n",
       "1  37.078963  37.077494 -0.001469\n",
       "2  14.402453  14.404034  0.001581\n",
       "3   1.875000   1.875000  0.000000\n",
       "4  18.430401  18.427767 -0.002634\n",
       "5   1.875000   1.875000  0.000000\n",
       "6   1.875000   1.875000  0.000000\n",
       "7   9.171037   9.172506  0.001469"
      ]
     },
     "execution_count": 16,
     "metadata": {},
     "output_type": "execute_result"
    }
   ],
   "source": [
    "import pandas as pd\n",
    "\n",
    "s1 = pd.Series(ranks_pr)\n",
    "s2 = pd.Series(ranks_am)\n",
    "\n",
    "df = pd.DataFrame(dict(PageRank=s1, AdjMatrix=s2))\n",
    "df['Diff'] = df['AdjMatrix'] - df['PageRank']\n",
    "df*100"
   ]
  },
  {
   "cell_type": "markdown",
   "id": "c6eee32e",
   "metadata": {},
   "source": [
    "## Eigenvectors\n",
    "\n",
    "If you start with almost any vector and multiply by a matrix repeatedly, as we did in the previous section, the result will converge to the eigenvector of the matrix that corresponds to the largest eigenvalue.\n",
    "\n",
    "In fact, repeated multiplication is one of the algorithms used to compute eigenvalues: it is called [power iteration](https://en.wikipedia.org/wiki/Power_iteration).\n",
    "\n",
    "Instead of using an iterative method, we can also compute eigenvalues directly, which is what the Numpy function `eig` does.\n",
    "Here are the eigenvalues and eigenvectors of the Google matrix."
   ]
  },
  {
   "cell_type": "code",
   "execution_count": 17,
   "id": "14cc38c2",
   "metadata": {
    "tags": [
     "fill-in"
    ]
   },
   "outputs": [
    {
     "data": {
      "text/plain": [
       "array([ 1.00000000e+00+0.j       ,  4.25000000e-01+0.j       ,\n",
       "       -2.12500000e-01+0.3680608j, -2.12500000e-01-0.3680608j,\n",
       "        8.61220879e-17+0.j       ,  2.07547158e-18+0.j       ,\n",
       "       -1.82225683e-17+0.j       ,  0.00000000e+00+0.j       ])"
      ]
     },
     "execution_count": 17,
     "metadata": {},
     "output_type": "execute_result"
    }
   ],
   "source": [
    "eigenvalues, eigenvectors = np.linalg.eig(GM.T)\n",
    "eigenvalues"
   ]
  },
  {
   "cell_type": "markdown",
   "id": "681ef09e",
   "metadata": {},
   "source": [
    "And here's how we can get the eigenvector corresponding to the largest eigenvalue."
   ]
  },
  {
   "cell_type": "code",
   "execution_count": 18,
   "id": "a875ef25",
   "metadata": {},
   "outputs": [
    {
     "data": {
      "text/plain": [
       "(0, (0.9999999999999993+0j))"
      ]
     },
     "execution_count": 18,
     "metadata": {},
     "output_type": "execute_result"
    }
   ],
   "source": [
    "ind = np.argmax(eigenvalues)\n",
    "ind, eigenvalues[ind]"
   ]
  },
  {
   "cell_type": "code",
   "execution_count": 19,
   "id": "2db0a967",
   "metadata": {},
   "outputs": [
    {
     "data": {
      "text/plain": [
       "array([-0.32235148+0.j, -0.78161291+0.j, -0.30359969+0.j, -0.03952437+0.j,\n",
       "       -0.38850772+0.j, -0.03952437+0.j, -0.03952437+0.j, -0.19332161+0.j])"
      ]
     },
     "execution_count": 19,
     "metadata": {},
     "output_type": "execute_result"
    }
   ],
   "source": [
    "largest = eigenvectors[:, ind]\n",
    "largest"
   ]
  },
  {
   "cell_type": "markdown",
   "id": "8dc1d717",
   "metadata": {},
   "source": [
    "The result contains complex numbers, but the imaginary parts are all 0, so we can pull out just the real part."
   ]
  },
  {
   "cell_type": "code",
   "execution_count": 20,
   "id": "c19fba36",
   "metadata": {},
   "outputs": [],
   "source": [
    "largest = largest.real"
   ]
  },
  {
   "cell_type": "markdown",
   "id": "3e9dc6a5",
   "metadata": {},
   "source": [
    "And normalize it."
   ]
  },
  {
   "cell_type": "code",
   "execution_count": 21,
   "id": "aa33d0fc",
   "metadata": {},
   "outputs": [
    {
     "data": {
      "text/plain": [
       "array([0.15292059, 0.37079   , 0.14402491, 0.01875   , 0.1843045 ,\n",
       "       0.01875   , 0.01875   , 0.09171   ])"
      ]
     },
     "execution_count": 21,
     "metadata": {},
     "output_type": "execute_result"
    }
   ],
   "source": [
    "ranks_ev = largest / largest.sum()\n",
    "ranks_ev"
   ]
  },
  {
   "cell_type": "markdown",
   "id": "eccb90b3",
   "metadata": {},
   "source": [
    "The result is the set of ranks based on the eigenvectors of the Google matrix.\n",
    "They should be identical to the results from PageRank, except for small floating-point errors."
   ]
  },
  {
   "cell_type": "code",
   "execution_count": 22,
   "id": "8c6a11e9",
   "metadata": {},
   "outputs": [
    {
     "data": {
      "text/html": [
       "<div>\n",
       "<style scoped>\n",
       "    .dataframe tbody tr th:only-of-type {\n",
       "        vertical-align: middle;\n",
       "    }\n",
       "\n",
       "    .dataframe tbody tr th {\n",
       "        vertical-align: top;\n",
       "    }\n",
       "\n",
       "    .dataframe thead th {\n",
       "        text-align: right;\n",
       "    }\n",
       "</style>\n",
       "<table border=\"1\" class=\"dataframe\">\n",
       "  <thead>\n",
       "    <tr style=\"text-align: right;\">\n",
       "      <th></th>\n",
       "      <th>PageRank</th>\n",
       "      <th>Eigenvector</th>\n",
       "      <th>Diff</th>\n",
       "    </tr>\n",
       "  </thead>\n",
       "  <tbody>\n",
       "    <tr>\n",
       "      <th>0</th>\n",
       "      <td>15.292146</td>\n",
       "      <td>15.292059</td>\n",
       "      <td>-8.752734e-05</td>\n",
       "    </tr>\n",
       "    <tr>\n",
       "      <th>1</th>\n",
       "      <td>37.078963</td>\n",
       "      <td>37.079000</td>\n",
       "      <td>3.719912e-05</td>\n",
       "    </tr>\n",
       "    <tr>\n",
       "      <th>2</th>\n",
       "      <td>14.402453</td>\n",
       "      <td>14.402491</td>\n",
       "      <td>3.839473e-05</td>\n",
       "    </tr>\n",
       "    <tr>\n",
       "      <th>3</th>\n",
       "      <td>1.875000</td>\n",
       "      <td>1.875000</td>\n",
       "      <td>1.734723e-15</td>\n",
       "    </tr>\n",
       "    <tr>\n",
       "      <th>4</th>\n",
       "      <td>18.430401</td>\n",
       "      <td>18.430450</td>\n",
       "      <td>4.913262e-05</td>\n",
       "    </tr>\n",
       "    <tr>\n",
       "      <th>5</th>\n",
       "      <td>1.875000</td>\n",
       "      <td>1.875000</td>\n",
       "      <td>1.040834e-15</td>\n",
       "    </tr>\n",
       "    <tr>\n",
       "      <th>6</th>\n",
       "      <td>1.875000</td>\n",
       "      <td>1.875000</td>\n",
       "      <td>1.040834e-15</td>\n",
       "    </tr>\n",
       "    <tr>\n",
       "      <th>7</th>\n",
       "      <td>9.171037</td>\n",
       "      <td>9.171000</td>\n",
       "      <td>-3.719912e-05</td>\n",
       "    </tr>\n",
       "  </tbody>\n",
       "</table>\n",
       "</div>"
      ],
      "text/plain": [
       "    PageRank  Eigenvector          Diff\n",
       "0  15.292146    15.292059 -8.752734e-05\n",
       "1  37.078963    37.079000  3.719912e-05\n",
       "2  14.402453    14.402491  3.839473e-05\n",
       "3   1.875000     1.875000  1.734723e-15\n",
       "4  18.430401    18.430450  4.913262e-05\n",
       "5   1.875000     1.875000  1.040834e-15\n",
       "6   1.875000     1.875000  1.040834e-15\n",
       "7   9.171037     9.171000 -3.719912e-05"
      ]
     },
     "execution_count": 22,
     "metadata": {},
     "output_type": "execute_result"
    }
   ],
   "source": [
    "import pandas as pd\n",
    "\n",
    "s1 = pd.Series(ranks_pr)\n",
    "s2 = pd.Series(ranks_ev)\n",
    "\n",
    "df = pd.DataFrame(dict(PageRank=s1, Eigenvector=s2))\n",
    "df['Diff'] = df['Eigenvector'] - df['PageRank']\n",
    "df*100"
   ]
  },
  {
   "cell_type": "markdown",
   "id": "3df938ef",
   "metadata": {},
   "source": [
    "## Putting it all together\n",
    "\n",
    "The following are simplified versions of the NetworkX functions that compute the Google matrix and the PageRank scores."
   ]
  },
  {
   "cell_type": "code",
   "execution_count": 23,
   "id": "23b9c4a1",
   "metadata": {},
   "outputs": [],
   "source": [
    "def google_matrix(G, alpha=0.85):\n",
    "    \"\"\"Returns the Google matrix of the graph.\n",
    "\n",
    "    Parameters\n",
    "    ----------\n",
    "    G : graph\n",
    "      A NetworkX graph.  Undirected graphs will be converted to a directed\n",
    "      graph with two directed edges for each undirected edge.\n",
    "\n",
    "    alpha : float\n",
    "      The damping factor.\n",
    "\n",
    "    Notes\n",
    "    -----\n",
    "    The matrix returned represents the transition matrix that describes the\n",
    "    Markov chain used in PageRank. For PageRank to converge to a unique\n",
    "    solution (i.e., a unique stationary distribution in a Markov chain), the\n",
    "    transition matrix must be irreducible. In other words, it must be that\n",
    "    there exists a path between every pair of nodes in the graph, or else there\n",
    "    is the potential of \"rank sinks.\"\n",
    "    \"\"\"\n",
    "    M = np.asmatrix(nx.to_numpy_array(G))\n",
    "    N = len(G)\n",
    "    if N == 0:\n",
    "        return M\n",
    "\n",
    "    # Personalization vector\n",
    "    p = np.repeat(1.0 / N, N)\n",
    "    \n",
    "    # Dangling nodes\n",
    "    dangling_weights = p\n",
    "    dangling_nodes = np.where(M.sum(axis=1) == 0)[0]\n",
    "\n",
    "    # Assign dangling_weights to any dangling nodes \n",
    "    # (nodes with no out links)\n",
    "    for node in dangling_nodes:\n",
    "        M[node] = dangling_weights\n",
    "\n",
    "    M /= M.sum(axis=1)  # Normalize rows to sum to 1\n",
    "\n",
    "    return alpha * M + (1 - alpha) * p"
   ]
  },
  {
   "cell_type": "code",
   "execution_count": 24,
   "id": "c0f7b486",
   "metadata": {},
   "outputs": [],
   "source": [
    "def pagerank_numpy(G, alpha=0.85):\n",
    "    \"\"\"Returns the PageRank of the nodes in the graph.\n",
    "\n",
    "    PageRank computes a ranking of the nodes in the graph G based on\n",
    "    the structure of the incoming links. It was originally designed as\n",
    "    an algorithm to rank web pages.\n",
    "\n",
    "    Parameters\n",
    "    ----------\n",
    "    G : graph\n",
    "      A NetworkX graph.  Undirected graphs will be converted to a directed\n",
    "      graph with two directed edges for each undirected edge.\n",
    "\n",
    "    alpha : float, optional\n",
    "      Damping parameter for PageRank, default=0.85.\n",
    "\n",
    "    Returns\n",
    "    -------\n",
    "    pagerank : dictionary\n",
    "       Dictionary of nodes with PageRank as value.\n",
    "\n",
    "    Examples\n",
    "    --------\n",
    "    >>> G = nx.DiGraph(nx.path_graph(4))\n",
    "    >>> pr = nx.pagerank_numpy(G, alpha=0.9)\n",
    "\n",
    "    Notes\n",
    "    -----\n",
    "    The eigenvector calculation uses NumPy's interface to the LAPACK\n",
    "    eigenvalue solvers.  This will be the fastest and most accurate\n",
    "    for small graphs.\n",
    "\n",
    "    References\n",
    "    ----------\n",
    "    .. [1] A. Langville and C. Meyer,\n",
    "       \"A survey of eigenvector methods of web information retrieval.\"\n",
    "       http://citeseer.ist.psu.edu/713792.html\n",
    "    .. [2] Page, Lawrence; Brin, Sergey; Motwani, Rajeev and Winograd, Terry,\n",
    "       The PageRank citation ranking: Bringing order to the Web. 1999\n",
    "       http://dbpubs.stanford.edu:8090/pub/showDoc.Fulltext?lang=en&doc=1999-66&format=pdf\n",
    "    \"\"\"\n",
    "    if len(G) == 0:\n",
    "        return {}\n",
    "    M = google_matrix(G, alpha)\n",
    "    \n",
    "    # use numpy LAPACK solver\n",
    "    eigenvalues, eigenvectors = np.linalg.eig(M.T)\n",
    "    ind = np.argmax(eigenvalues)\n",
    "\n",
    "    # eigenvector of largest eigenvalue is at ind, normalized\n",
    "    largest = np.array(eigenvectors[:, ind]).flatten().real\n",
    "    norm = float(largest.sum())\n",
    "    return dict(zip(G, map(float, largest / norm)))"
   ]
  },
  {
   "cell_type": "code",
   "execution_count": 25,
   "id": "c4693b4c",
   "metadata": {},
   "outputs": [
    {
     "data": {
      "text/plain": [
       "{0: 0.15292058743886122,\n",
       " 1: 0.370790000338484,\n",
       " 2: 0.14402491241728307,\n",
       " 3: 0.01875000000000002,\n",
       " 4: 0.1843045001438557,\n",
       " 5: 0.018750000000000013,\n",
       " 6: 0.018750000000000013,\n",
       " 7: 0.09170999966151594}"
      ]
     },
     "execution_count": 25,
     "metadata": {},
     "output_type": "execute_result"
    }
   ],
   "source": [
    "pagerank_numpy(G)"
   ]
  },
  {
   "cell_type": "markdown",
   "id": "78f6f1f2",
   "metadata": {},
   "source": [
    "*Data Structures and Information Retrieval in Python*\n",
    "\n",
    "Copyright 2021 Allen Downey\n",
    "\n",
    "License: [Creative Commons Attribution-NonCommercial-ShareAlike 4.0 International](https://creativecommons.org/licenses/by-nc-sa/4.0/)"
   ]
  }
 ],
 "metadata": {
  "celltoolbar": "Tags",
  "kernelspec": {
   "display_name": "Python 3 (ipykernel)",
   "language": "python",
   "name": "python3"
  },
  "language_info": {
   "codemirror_mode": {
    "name": "ipython",
    "version": 3
   },
   "file_extension": ".py",
   "mimetype": "text/x-python",
   "name": "python",
   "nbconvert_exporter": "python",
   "pygments_lexer": "ipython3",
   "version": "3.10.1"
  }
 },
 "nbformat": 4,
 "nbformat_minor": 5
}

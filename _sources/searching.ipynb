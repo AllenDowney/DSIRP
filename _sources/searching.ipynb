{
 "cells": [
  {
   "cell_type": "markdown",
   "id": "af0fce85",
   "metadata": {},
   "source": [
    "# Search"
   ]
  },
  {
   "cell_type": "markdown",
   "id": "c91bcf8f",
   "metadata": {},
   "source": [
    "[Click here to run this chapter on Colab](https://colab.research.google.com/github/AllenDowney/DSIRP/blob/main/notebooks/searching.ipynb)"
   ]
  },
  {
   "cell_type": "markdown",
   "id": "da096f4e",
   "metadata": {},
   "source": [
    "## Linear Search\n",
    "\n",
    "Suppose you have a list."
   ]
  },
  {
   "cell_type": "code",
   "execution_count": 1,
   "id": "794faac3",
   "metadata": {},
   "outputs": [],
   "source": [
    "t = [5, 1, 2, 4, 2]"
   ]
  },
  {
   "cell_type": "markdown",
   "id": "acec78b5",
   "metadata": {},
   "source": [
    "And you want to know whether an element appears in the list. You can use the `in` operator, which returns `True` or `False`."
   ]
  },
  {
   "cell_type": "code",
   "execution_count": 2,
   "id": "5df60b7a",
   "metadata": {},
   "outputs": [
    {
     "data": {
      "text/plain": [
       "(True, False)"
      ]
     },
     "execution_count": 2,
     "metadata": {},
     "output_type": "execute_result"
    }
   ],
   "source": [
    "5 in t, 6 in t"
   ]
  },
  {
   "cell_type": "markdown",
   "id": "265e5e54",
   "metadata": {},
   "source": [
    "If you want to know where in the list it is, you can use `index`, which returns the index of the element if it appears."
   ]
  },
  {
   "cell_type": "code",
   "execution_count": 3,
   "id": "e8f9ed55",
   "metadata": {},
   "outputs": [
    {
     "data": {
      "text/plain": [
       "2"
      ]
     },
     "execution_count": 3,
     "metadata": {},
     "output_type": "execute_result"
    }
   ],
   "source": [
    "t.index(2)"
   ]
  },
  {
   "cell_type": "markdown",
   "id": "30fd2826",
   "metadata": {},
   "source": [
    "Or raises a `ValueError` otherwise."
   ]
  },
  {
   "cell_type": "code",
   "execution_count": 4,
   "id": "2ff1a40f",
   "metadata": {
    "tags": [
     "fill-in"
    ]
   },
   "outputs": [
    {
     "name": "stdout",
     "output_type": "stream",
     "text": [
      "6 is not in list\n"
     ]
    }
   ],
   "source": [
    "try:\n",
    "    t.index(6)\n",
    "except ValueError as e:\n",
    "    print(e)"
   ]
  },
  {
   "cell_type": "markdown",
   "id": "75d3ac2e",
   "metadata": {},
   "source": [
    "The following function does the same thing as `string.index`:"
   ]
  },
  {
   "cell_type": "code",
   "execution_count": 5,
   "id": "00053cad",
   "metadata": {
    "tags": [
     "fill-in"
    ]
   },
   "outputs": [],
   "source": [
    "def index(t, target):\n",
    "    for i, x in enumerate(t):\n",
    "        if x == target:\n",
    "            return i\n",
    "    raise ValueError(f'{target} is not in list')"
   ]
  },
  {
   "cell_type": "code",
   "execution_count": 6,
   "id": "9b85ea64",
   "metadata": {
    "tags": [
     "fill-in"
    ]
   },
   "outputs": [
    {
     "data": {
      "text/plain": [
       "2"
      ]
     },
     "execution_count": 6,
     "metadata": {},
     "output_type": "execute_result"
    }
   ],
   "source": [
    "index(t, 2)"
   ]
  },
  {
   "cell_type": "code",
   "execution_count": 7,
   "id": "bfd0c730",
   "metadata": {
    "tags": [
     "fill-in"
    ]
   },
   "outputs": [
    {
     "name": "stdout",
     "output_type": "stream",
     "text": [
      "6 is not in list\n"
     ]
    }
   ],
   "source": [
    "try:\n",
    "    index(t, 6)\n",
    "except ValueError as e:\n",
    "    print(e)"
   ]
  },
  {
   "cell_type": "markdown",
   "id": "3488b7b6",
   "metadata": {},
   "source": [
    "The runtime of this kind of search is in `O(n)`, where `n` is the length of the list, because\n",
    "\n",
    "1. If the target is not in the list, you have to check every element in the list.\n",
    "\n",
    "2. If the target is in a random location, you have to check half the list on average.\n",
    "\n",
    "As an exception, if you know that the target is within the first `k` elements, for a value of `k` that does not depend on `n`, you can consider this search `O(1)`."
   ]
  },
  {
   "cell_type": "markdown",
   "id": "3253f9ca",
   "metadata": {},
   "source": [
    "## Bisection\n",
    "\n",
    "If we know that the elements of the list are in order, we can do better.\n",
    "\n",
    "The `bisect` module provides an implementation of a \"bisection search\", which works by\n",
    "\n",
    "1. Checking the element in the middle of the list. If it's the target, we're done.\n",
    "\n",
    "2. If the middle element is larger than the target, we search the left half.\n",
    "\n",
    "3. If the middle element is smaller than the target, we search the right half.\n",
    "\n",
    "[Here is the documentation of the bisect modle](https://docs.python.org/3/library/bisect.html).\n",
    "\n",
    "To test it, we'll start with a sorted list."
   ]
  },
  {
   "cell_type": "code",
   "execution_count": 8,
   "id": "8cabe7db",
   "metadata": {},
   "outputs": [
    {
     "data": {
      "text/plain": [
       "[1, 2, 2, 4, 5]"
      ]
     },
     "execution_count": 8,
     "metadata": {},
     "output_type": "execute_result"
    }
   ],
   "source": [
    "t.sort()\n",
    "t"
   ]
  },
  {
   "cell_type": "markdown",
   "id": "393ab1d6",
   "metadata": {},
   "source": [
    "`bisect_left` is similar to `index`"
   ]
  },
  {
   "cell_type": "code",
   "execution_count": 9,
   "id": "1beddca9",
   "metadata": {
    "tags": [
     "fill-in"
    ]
   },
   "outputs": [
    {
     "data": {
      "text/plain": [
       "(0, 1, 3, 4)"
      ]
     },
     "execution_count": 9,
     "metadata": {},
     "output_type": "execute_result"
    }
   ],
   "source": [
    "from bisect import bisect_left\n",
    "\n",
    "bisect_left(t, 1), bisect_left(t, 2), bisect_left(t, 4), bisect_left(t, 5) "
   ]
  },
  {
   "cell_type": "markdown",
   "id": "b3753602",
   "metadata": {},
   "source": [
    "But with elements that are not in the list, it returns their insertion point, that is, the place where you would put the target to keep the list sorted."
   ]
  },
  {
   "cell_type": "code",
   "execution_count": 10,
   "id": "339127a0",
   "metadata": {
    "tags": [
     "fill-in"
    ]
   },
   "outputs": [
    {
     "data": {
      "text/plain": [
       "5"
      ]
     },
     "execution_count": 10,
     "metadata": {},
     "output_type": "execute_result"
    }
   ],
   "source": [
    "bisect_left(t, 6)"
   ]
  },
  {
   "cell_type": "markdown",
   "id": "a48971bd",
   "metadata": {},
   "source": [
    "We can use `bisect_left` to implement `index`, like this:"
   ]
  },
  {
   "cell_type": "code",
   "execution_count": 11,
   "id": "ff88efe7",
   "metadata": {},
   "outputs": [],
   "source": [
    "from bisect import bisect_left\n",
    "\n",
    "def index_bisect(a, x):\n",
    "    \"\"\"Locate the leftmost value exactly equal to x\"\"\"\n",
    "    i = bisect_left(a, x)\n",
    "    if i != len(a) and a[i] == x:\n",
    "        return i\n",
    "    raise ValueError(f'{x} not in list')"
   ]
  },
  {
   "cell_type": "code",
   "execution_count": 12,
   "id": "81be3390",
   "metadata": {},
   "outputs": [
    {
     "data": {
      "text/plain": [
       "(0, 1, 3, 4)"
      ]
     },
     "execution_count": 12,
     "metadata": {},
     "output_type": "execute_result"
    }
   ],
   "source": [
    "index_bisect(t, 1), index_bisect(t, 2), index_bisect(t, 4), index_bisect(t, 5) "
   ]
  },
  {
   "cell_type": "code",
   "execution_count": 13,
   "id": "906b0689",
   "metadata": {},
   "outputs": [
    {
     "name": "stdout",
     "output_type": "stream",
     "text": [
      "6 not in list\n"
     ]
    }
   ],
   "source": [
    "try:\n",
    "    index_bisect(t, 6)\n",
    "except ValueError as e:\n",
    "    print(e)"
   ]
  },
  {
   "cell_type": "markdown",
   "id": "803a5433",
   "metadata": {},
   "source": [
    "**Exercise:** Write your own version of `bisect_left`. You can do it iteratively or recursively."
   ]
  },
  {
   "cell_type": "code",
   "execution_count": 14,
   "id": "4b8a49e2",
   "metadata": {
    "tags": [
     "remove-cell"
    ]
   },
   "outputs": [],
   "source": [
    "# Solution\n",
    "\n",
    "# This is the implementation of `bisect_left` \n",
    "# from the Python standard library\n",
    "# https://github.com/python/cpython/blob/3.9/Lib/bisect.py)\n",
    "\n",
    "def bisect_left(a, x, lo=0, hi=None):\n",
    "    \"\"\"Return the index where to insert item x in list a, assuming a is sorted.\n",
    "    The return value i is such that all e in a[:i] have e < x, and all e in\n",
    "    a[i:] have e >= x.  So if x already appears in the list, a.insert(x) will\n",
    "    insert just before the leftmost x already there.\n",
    "    Optional args lo (default 0) and hi (default len(a)) bound the\n",
    "    slice of a to be searched.\n",
    "    \"\"\"\n",
    "\n",
    "    if lo < 0:\n",
    "        raise ValueError('lo must be non-negative')\n",
    "    if hi is None:\n",
    "        hi = len(a)\n",
    "    while lo < hi:\n",
    "        mid = (lo+hi)//2\n",
    "        # Use __lt__ to match the logic in list.sort() and in heapq\n",
    "        if a[mid] < x: lo = mid+1\n",
    "        else: hi = mid\n",
    "    return lo"
   ]
  },
  {
   "cell_type": "markdown",
   "id": "dcc155b6",
   "metadata": {},
   "source": [
    "Each time through the loop, we cut the search region in half, so if we start with `n` elements, we have `n/2` during the next loop, `n/4` during the second loop, and so on. When we get to 1 element, we're done.\n",
    "\n",
    "[See this animation](https://blog.penjee.com/binary-vs-linear-search-animated-gifs/)\n",
    "\n",
    "So how many steps does that take? Thinking about it in reverse, starting with 1, how many times do we have to double it before we get to `n`? In math notation, the question is\n",
    "\n",
    "$$2^x = n$$\n",
    "\n",
    "Where `x` is the unknown number of steps. Taking the log of both sides, base 2:\n",
    "\n",
    "$$x = log_2 n$$\n",
    "\n",
    "In terms of order of growth, bisection search is in `O(log n)`. Notice that we don't bother to specify the base of the logarithm, because a log in one base is a constant multiple of a log in any other base."
   ]
  },
  {
   "cell_type": "markdown",
   "id": "9d7801bc",
   "metadata": {},
   "source": [
    "`bisect` also provides methods to insert elements while maintaining sorted order."
   ]
  },
  {
   "cell_type": "code",
   "execution_count": 15,
   "id": "05bfdb77",
   "metadata": {
    "tags": [
     "fill-in"
    ]
   },
   "outputs": [
    {
     "data": {
      "text/plain": [
       "[1, 2, 2, 3, 4, 5]"
      ]
     },
     "execution_count": 15,
     "metadata": {},
     "output_type": "execute_result"
    }
   ],
   "source": [
    "from bisect import insort\n",
    "\n",
    "insort(t, 3)\n",
    "t"
   ]
  },
  {
   "cell_type": "markdown",
   "id": "0ad6d2fb",
   "metadata": {},
   "source": [
    "However, as the documentation explains, \"Keep in mind that the O(log n) search is dominated by the slow O(n) insertion step.\""
   ]
  },
  {
   "cell_type": "markdown",
   "id": "f7b6da2b",
   "metadata": {},
   "source": [
    "## Binary search tree\n",
    "\n",
    "Using a sorted array to support log-time search is a reasonable choice if we don't have to add or remove elements very often.\n",
    "\n",
    "But if the number of add/remove operations is similar to the number of searches, the overall performance would be linear.\n",
    "\n",
    "We can solve that problem with a [binary search tree](https://en.wikipedia.org/wiki/Binary_search_tree).\n",
    "\n",
    "To implement a tree, I'll define a new class that represents a `Node`.\n",
    "Each node contains data and a reference to two \"children\" called `left` and `right`.\n",
    "(It's called a binary tree because every node has two children)."
   ]
  },
  {
   "cell_type": "code",
   "execution_count": 16,
   "id": "e84d724b",
   "metadata": {},
   "outputs": [],
   "source": [
    "class Node:\n",
    "    def __init__(self, data, left=None, right=None):\n",
    "        self.data = data\n",
    "        self.left = left\n",
    "        self.right = right\n",
    "        \n",
    "    def __repr__(self):\n",
    "        return f'Node({self.data}, {repr(self.left)}, {repr(self.right)})'"
   ]
  },
  {
   "cell_type": "markdown",
   "id": "36fbd2bb",
   "metadata": {},
   "source": [
    "Here's how we can instantiate two nodes."
   ]
  },
  {
   "cell_type": "code",
   "execution_count": 17,
   "id": "6e7f2ba1",
   "metadata": {
    "tags": [
     "fill-in"
    ]
   },
   "outputs": [],
   "source": [
    "node3 = Node(3)\n",
    "node10 = Node(10)"
   ]
  },
  {
   "cell_type": "markdown",
   "id": "0c39a976",
   "metadata": {},
   "source": [
    "Because `Node` provides `__repr__`, we can display a node like this."
   ]
  },
  {
   "cell_type": "code",
   "execution_count": 18,
   "id": "c20d9129",
   "metadata": {
    "tags": [
     "fill-in"
    ]
   },
   "outputs": [
    {
     "data": {
      "text/plain": [
       "Node(3, None, None)"
      ]
     },
     "execution_count": 18,
     "metadata": {},
     "output_type": "execute_result"
    }
   ],
   "source": [
    "node3"
   ]
  },
  {
   "cell_type": "markdown",
   "id": "cbee9588",
   "metadata": {},
   "source": [
    "Now we'll make a parent node that has the first two nodes as children."
   ]
  },
  {
   "cell_type": "code",
   "execution_count": 19,
   "id": "3ee9ef73",
   "metadata": {
    "tags": [
     "fill-in"
    ]
   },
   "outputs": [
    {
     "data": {
      "text/plain": [
       "Node(8, Node(3, None, None), Node(10, None, None))"
      ]
     },
     "execution_count": 19,
     "metadata": {},
     "output_type": "execute_result"
    }
   ],
   "source": [
    "node8 = Node(8, node3, node10)\n",
    "node8"
   ]
  },
  {
   "cell_type": "markdown",
   "id": "83f6eede",
   "metadata": {},
   "source": [
    "I'll define another class to represent the tree.\n",
    "The only thing it contains is a reference to the top of the tree, which is confusingly called the root node."
   ]
  },
  {
   "cell_type": "code",
   "execution_count": 20,
   "id": "2d91e1ee",
   "metadata": {},
   "outputs": [],
   "source": [
    "class BSTree:\n",
    "    def __init__(self, root=None):\n",
    "        self.root = root\n",
    "        \n",
    "    def __repr__(self):\n",
    "        return f'BSTree({repr(self.root)})'"
   ]
  },
  {
   "cell_type": "markdown",
   "id": "be727518",
   "metadata": {},
   "source": [
    "Here's tree with a reference to `node8`, so it implicitly contains `node3` and `node10` as well."
   ]
  },
  {
   "cell_type": "code",
   "execution_count": 21,
   "id": "be02722f",
   "metadata": {
    "tags": [
     "fill-in"
    ]
   },
   "outputs": [
    {
     "data": {
      "text/plain": [
       "BSTree(Node(8, Node(3, None, None), Node(10, None, None)))"
      ]
     },
     "execution_count": 21,
     "metadata": {},
     "output_type": "execute_result"
    }
   ],
   "source": [
    "tree = BSTree(node8)\n",
    "tree"
   ]
  },
  {
   "cell_type": "markdown",
   "id": "d9106015",
   "metadata": {},
   "source": [
    "A binary tree is a binary search tree if for every node (1) the value of the left child is lower and (2) the value of the right child is higher.\n",
    "Let's assume for now that there are no duplicates.\n",
    "\n",
    "We can check whether a tree is a BST like this:"
   ]
  },
  {
   "cell_type": "code",
   "execution_count": 22,
   "id": "c7f98919",
   "metadata": {
    "tags": [
     "fill-in"
    ]
   },
   "outputs": [],
   "source": [
    "def is_bst(tree):\n",
    "    return is_bst_rec(tree.root)\n",
    "\n",
    "def is_bst_rec(node):\n",
    "    if node is None:\n",
    "        return True\n",
    "    \n",
    "    if node.left and node.left.data > node.data:\n",
    "        return False\n",
    "    if node.right and node.right.data < node.data:\n",
    "        return False\n",
    "    \n",
    "    return is_bst_rec(node.left) and is_bst_rec(node.right)"
   ]
  },
  {
   "cell_type": "code",
   "execution_count": 23,
   "id": "9a038558",
   "metadata": {
    "tags": [
     "fill-in"
    ]
   },
   "outputs": [
    {
     "data": {
      "text/plain": [
       "True"
      ]
     },
     "execution_count": 23,
     "metadata": {},
     "output_type": "execute_result"
    }
   ],
   "source": [
    "is_bst(tree)"
   ]
  },
  {
   "cell_type": "markdown",
   "id": "64797dc8",
   "metadata": {},
   "source": [
    "And let's see an example where it's not true."
   ]
  },
  {
   "cell_type": "code",
   "execution_count": 24,
   "id": "803f0484",
   "metadata": {
    "tags": [
     "fill-in"
    ]
   },
   "outputs": [
    {
     "data": {
      "text/plain": [
       "Node(5, Node(10, None, None), Node(3, None, None))"
      ]
     },
     "execution_count": 24,
     "metadata": {},
     "output_type": "execute_result"
    }
   ],
   "source": [
    "node5 = Node(5, node10, node3)\n",
    "node5"
   ]
  },
  {
   "cell_type": "code",
   "execution_count": 25,
   "id": "2ee8072e",
   "metadata": {
    "tags": [
     "fill-in"
    ]
   },
   "outputs": [
    {
     "data": {
      "text/plain": [
       "False"
      ]
     },
     "execution_count": 25,
     "metadata": {},
     "output_type": "execute_result"
    }
   ],
   "source": [
    "tree2 = BSTree(node5)\n",
    "is_bst(tree2)"
   ]
  },
  {
   "cell_type": "markdown",
   "id": "e916947e",
   "metadata": {},
   "source": [
    "## Draw the Tree\n",
    "\n",
    "One of the better functions for drawing trees is part of a package called `EoN`, for \"Epidemics on Networks\", which provides \"tools to study the spread of SIS and SIR diseases in networks\".\n",
    "\n",
    "The function we'll use is called [hierarchy_pos](https://epidemicsonnetworks.readthedocs.io/en/latest/functions/EoN.hierarchy_pos.html#EoN.hierarchy_pos).\n",
    "It takes as a parameter a NetworkX graph that represents a tree, and it returns a dictionary that maps from each node to a position in the Cartesian plane.\n",
    "If we pass this dictionary to `nx.draw`, it lays the tree out accordingly."
   ]
  },
  {
   "cell_type": "code",
   "execution_count": 26,
   "id": "7f40a95c",
   "metadata": {},
   "outputs": [],
   "source": [
    "try:\n",
    "    import EoN\n",
    "except ImportError:\n",
    "    !pip install EoN"
   ]
  },
  {
   "cell_type": "code",
   "execution_count": 27,
   "id": "ae3f0d61",
   "metadata": {},
   "outputs": [],
   "source": [
    "import networkx as nx\n",
    "\n",
    "def add_edges(node, G):\n",
    "    \"\"\"Make a NetworkX graph that represents the heap.\"\"\"\n",
    "    if node is None:\n",
    "        return\n",
    "    \n",
    "    G.add_node(node, label=node.data)\n",
    "    for child in (node.left, node.right):\n",
    "        if child:\n",
    "            G.add_edge(node, child)\n",
    "            add_edges(child, G)"
   ]
  },
  {
   "cell_type": "code",
   "execution_count": 28,
   "id": "0c2368f7",
   "metadata": {},
   "outputs": [
    {
     "data": {
      "text/plain": [
       "NodeView((Node(8, Node(3, None, None), Node(10, None, None)), Node(3, None, None), Node(10, None, None)))"
      ]
     },
     "execution_count": 28,
     "metadata": {},
     "output_type": "execute_result"
    }
   ],
   "source": [
    "G = nx.DiGraph()\n",
    "add_edges(tree.root, G)\n",
    "G.nodes()"
   ]
  },
  {
   "cell_type": "code",
   "execution_count": 29,
   "id": "bcf86dba",
   "metadata": {},
   "outputs": [
    {
     "data": {
      "text/plain": [
       "{Node(8, Node(3, None, None), Node(10, None, None)): 8,\n",
       " Node(3, None, None): 3,\n",
       " Node(10, None, None): 10}"
      ]
     },
     "execution_count": 29,
     "metadata": {},
     "output_type": "execute_result"
    }
   ],
   "source": [
    "labels = {node: node.data for node in G.nodes()}\n",
    "labels"
   ]
  },
  {
   "cell_type": "code",
   "execution_count": 30,
   "id": "16c207e3",
   "metadata": {},
   "outputs": [],
   "source": [
    "from EoN import hierarchy_pos\n",
    "\n",
    "def draw_tree(tree):\n",
    "    G = nx.DiGraph()\n",
    "    add_edges(tree.root, G)\n",
    "    pos = hierarchy_pos(G)\n",
    "    labels = {node: node.data for node in G.nodes()}\n",
    "    nx.draw(G, pos, labels=labels, alpha=0.4)"
   ]
  },
  {
   "cell_type": "code",
   "execution_count": 31,
   "id": "6135a805",
   "metadata": {},
   "outputs": [
    {
     "data": {
      "image/png": "[encoded data removed]",
      "text/plain": [
       "<Figure size 432x288 with 1 Axes>"
      ]
     },
     "metadata": {},
     "output_type": "display_data"
    }
   ],
   "source": [
    "draw_tree(tree)"
   ]
  },
  {
   "cell_type": "markdown",
   "id": "efda3593",
   "metadata": {},
   "source": [
    "## Search\n",
    "\n",
    "Given a tree and a target value, how do we determine whether the target is in the tree?\n",
    "\n",
    "1. Start at the root. If you find the target, stop.\n",
    "\n",
    "2. If the target is less than the value at the root, go left.\n",
    "\n",
    "3. If the target is greater than the value at the root, go right.\n",
    "\n",
    "4. If you get to a non-existent node, stop.\n",
    "\n",
    "**Exercise:** Write a function called `search` that takes a `BSTree` and a target value and returns `True` if the target value appears in the tree."
   ]
  },
  {
   "cell_type": "code",
   "execution_count": 32,
   "id": "0942e36c",
   "metadata": {
    "tags": [
     "remove-cell"
    ]
   },
   "outputs": [],
   "source": [
    "# Solution\n",
    "\n",
    "def search(tree, target):\n",
    "    node = tree.root\n",
    "    \n",
    "    while node is not None:\n",
    "        if node.data == target:\n",
    "            return True\n",
    "        \n",
    "        if target < node.data:\n",
    "            node = node.left\n",
    "        else:\n",
    "            node = node.right\n",
    "            \n",
    "    return False"
   ]
  },
  {
   "cell_type": "code",
   "execution_count": 33,
   "id": "3b6f5823",
   "metadata": {
    "tags": [
     "remove-cell"
    ]
   },
   "outputs": [
    {
     "data": {
      "text/plain": [
       "(True, True, True, False)"
      ]
     },
     "execution_count": 33,
     "metadata": {},
     "output_type": "execute_result"
    }
   ],
   "source": [
    "# Solution\n",
    "\n",
    "search(tree, 8), search(tree, 3), search(tree, 10), search(tree, 5)"
   ]
  },
  {
   "cell_type": "markdown",
   "id": "e819fa2a",
   "metadata": {},
   "source": [
    "**Exercise:** Many tree operations lend themselves to recursive implementations. Write a function called `search_rec` that searches the tree recursively.\n",
    "\n",
    "Hint: Start with a copy of `is_bst`."
   ]
  },
  {
   "cell_type": "code",
   "execution_count": 34,
   "id": "5f0b6b8b",
   "metadata": {
    "tags": [
     "remove-cell"
    ]
   },
   "outputs": [],
   "source": [
    "# Solution\n",
    "\n",
    "def search_rec(tree, target):\n",
    "    return search_nodes(tree.root, target)\n",
    "\n",
    "def search_nodes(node, target):\n",
    "    if node is None:\n",
    "        return False\n",
    "    \n",
    "    if node.data == target:\n",
    "        return True\n",
    "        \n",
    "    if target < node.data:\n",
    "        return search_nodes(node.left)\n",
    "    else:\n",
    "        return search_nodes(node.right)"
   ]
  },
  {
   "cell_type": "code",
   "execution_count": 35,
   "id": "0463f072",
   "metadata": {
    "tags": [
     "remove-cell"
    ]
   },
   "outputs": [
    {
     "data": {
      "text/plain": [
       "(True, True, True, False)"
      ]
     },
     "execution_count": 35,
     "metadata": {},
     "output_type": "execute_result"
    }
   ],
   "source": [
    "# Solution\n",
    "\n",
    "search_rec(tree, 8), search(tree, 3), search(tree, 10), search(tree, 5)"
   ]
  },
  {
   "cell_type": "markdown",
   "id": "97fd0127",
   "metadata": {},
   "source": [
    "## Insert\n",
    "\n",
    "The point of the BST is that we can add and remove elements efficiently, compared to a sorted array.\n",
    "\n",
    "So let's see what that looks like."
   ]
  },
  {
   "cell_type": "code",
   "execution_count": 36,
   "id": "5b44116a",
   "metadata": {
    "tags": [
     "fill-in"
    ]
   },
   "outputs": [],
   "source": [
    "def insert(tree, data):\n",
    "    tree.root = insert_node(tree.root, data)\n",
    "    \n",
    "def insert_node(node, data):\n",
    "    if node is None:\n",
    "        return Node(data)\n",
    "    \n",
    "    if data < node.data:\n",
    "        node.left = insert_node(node.left, data)\n",
    "    else:\n",
    "        node.right = insert_node(node.right, data)\n",
    "        \n",
    "    return node"
   ]
  },
  {
   "cell_type": "markdown",
   "id": "a3662da0",
   "metadata": {},
   "source": [
    "We'll test it by starting with an empty tree and adding elements one at a time."
   ]
  },
  {
   "cell_type": "code",
   "execution_count": 37,
   "id": "0785335c",
   "metadata": {
    "tags": [
     "fill-in"
    ]
   },
   "outputs": [
    {
     "data": {
      "text/plain": [
       "BSTree(Node(8, Node(3, Node(1, None, None), Node(6, Node(4, None, None), Node(7, None, None))), Node(10, None, Node(14, Node(13, None, None), None))))"
      ]
     },
     "execution_count": 37,
     "metadata": {},
     "output_type": "execute_result"
    }
   ],
   "source": [
    "tree = BSTree()\n",
    "\n",
    "values = [8, 3, 10, 1, 6, 14, 4, 7, 13]\n",
    "for value in values:\n",
    "    insert(tree, value)\n",
    "\n",
    "tree"
   ]
  },
  {
   "cell_type": "code",
   "execution_count": 38,
   "id": "d7f2305d",
   "metadata": {
    "tags": [
     "fill-in"
    ]
   },
   "outputs": [
    {
     "data": {
      "image/png": "[encoded data removed]",
      "text/plain": [
       "<Figure size 432x288 with 1 Axes>"
      ]
     },
     "metadata": {},
     "output_type": "display_data"
    }
   ],
   "source": [
    "draw_tree(tree)"
   ]
  },
  {
   "cell_type": "markdown",
   "id": "a8458686",
   "metadata": {},
   "source": [
    "If things have gone according to plan, the result should be a BST."
   ]
  },
  {
   "cell_type": "code",
   "execution_count": 39,
   "id": "3da47786",
   "metadata": {
    "tags": [
     "fill-in"
    ]
   },
   "outputs": [
    {
     "data": {
      "text/plain": [
       "True"
      ]
     },
     "execution_count": 39,
     "metadata": {},
     "output_type": "execute_result"
    }
   ],
   "source": [
    "is_bst(tree)"
   ]
  },
  {
   "cell_type": "markdown",
   "id": "744d5567",
   "metadata": {},
   "source": [
    "## Sorting\n",
    "\n",
    "If we traverse the tree recursively and print the elements as we go, we get the values in sorted order."
   ]
  },
  {
   "cell_type": "code",
   "execution_count": 40,
   "id": "22e2235f",
   "metadata": {},
   "outputs": [],
   "source": [
    "def print_tree(tree):\n",
    "    print_tree_rec(tree.root)\n",
    "    \n",
    "def print_tree_rec(node):\n",
    "    if node is None:\n",
    "        return\n",
    "    \n",
    "    print_tree_rec(node.left)\n",
    "    print(node.data, end=' ')\n",
    "    print_tree_rec(node.right)"
   ]
  },
  {
   "cell_type": "code",
   "execution_count": 41,
   "id": "12d2a126",
   "metadata": {
    "tags": [
     "fill-in"
    ]
   },
   "outputs": [
    {
     "name": "stdout",
     "output_type": "stream",
     "text": [
      "1 3 4 6 7 8 10 13 14 "
     ]
    }
   ],
   "source": [
    "print_tree(tree)"
   ]
  },
  {
   "cell_type": "markdown",
   "id": "d0db0e04",
   "metadata": {},
   "source": [
    "**Exercise:** Write a generator method called `iterate_tree` that traverses the tree and yields the elements in order.\n",
    "\n",
    "You can do this iteratively or recursively."
   ]
  },
  {
   "cell_type": "code",
   "execution_count": 42,
   "id": "226d23bd",
   "metadata": {
    "tags": [
     "remove-cell"
    ]
   },
   "outputs": [],
   "source": [
    "# Solution\n",
    "\n",
    "def iterate_tree(tree):\n",
    "    yield from iterate_tree_rec(tree.root)\n",
    "    \n",
    "def iterate_tree_rec(node):\n",
    "    if node is None:\n",
    "        return\n",
    "    \n",
    "    yield from iterate_tree_rec(node.left)\n",
    "    yield node.data\n",
    "    yield from iterate_tree_rec(node.right)"
   ]
  },
  {
   "cell_type": "code",
   "execution_count": 43,
   "id": "7793c899",
   "metadata": {
    "tags": [
     "remove-cell"
    ]
   },
   "outputs": [
    {
     "name": "stdout",
     "output_type": "stream",
     "text": [
      "1\n",
      "3\n",
      "4\n",
      "6\n",
      "7\n",
      "8\n",
      "10\n",
      "13\n",
      "14\n"
     ]
    }
   ],
   "source": [
    "# Solution\n",
    "\n",
    "for x in iterate_tree(tree):\n",
    "    print(x)"
   ]
  },
  {
   "cell_type": "markdown",
   "id": "79035143",
   "metadata": {},
   "source": [
    "## Badness 10000\n",
    "\n",
    "If the tree is reasonably well balanced, the height is proportional to `log n`, where `n` is the number of elements.\n",
    "\n",
    "But let's see what happens if we add elements in sorted order."
   ]
  },
  {
   "cell_type": "code",
   "execution_count": 44,
   "id": "0b55685e",
   "metadata": {
    "tags": [
     "fill-in"
    ]
   },
   "outputs": [],
   "source": [
    "tree3 = BSTree()\n",
    "for x in sorted(values):\n",
    "    insert(tree3, x)"
   ]
  },
  {
   "cell_type": "code",
   "execution_count": 45,
   "id": "66ba462f",
   "metadata": {
    "tags": [
     "fill-in"
    ]
   },
   "outputs": [
    {
     "data": {
      "image/png": "[encoded data removed]",
      "text/plain": [
       "<Figure size 432x288 with 1 Axes>"
      ]
     },
     "metadata": {},
     "output_type": "display_data"
    }
   ],
   "source": [
    "draw_tree(tree3)"
   ]
  },
  {
   "cell_type": "markdown",
   "id": "be77129c",
   "metadata": {},
   "source": [
    "Now traversing the tree takes linear time.\n",
    "To avoid this problem, there are variations of BST that are [self-balancing](https://en.wikipedia.org/wiki/Self-balancing_binary_search_tree).\n",
    "\n",
    "Most are based on [tree rotation](https://en.wikipedia.org/wiki/Tree_rotation) operations. \n",
    "For example, the following is a function that rotates a tree to the left (following Wikipedia's nomenclature for what \"left\" and \"right\" mean)."
   ]
  },
  {
   "cell_type": "code",
   "execution_count": 46,
   "id": "419b9206",
   "metadata": {},
   "outputs": [],
   "source": [
    "def rotate_left(node):\n",
    "    if node is None or node.right is None:\n",
    "        return node\n",
    "\n",
    "    pivot = node.right\n",
    "    node.right = pivot.left\n",
    "    pivot.left = node\n",
    "    \n",
    "    return pivot"
   ]
  },
  {
   "cell_type": "code",
   "execution_count": 47,
   "id": "87807756",
   "metadata": {
    "tags": [
     "fill-in"
    ]
   },
   "outputs": [
    {
     "data": {
      "image/png": "[encoded data removed]",
      "text/plain": [
       "<Figure size 432x288 with 1 Axes>"
      ]
     },
     "metadata": {},
     "output_type": "display_data"
    }
   ],
   "source": [
    "tree3.root = rotate_left(tree3.root)\n",
    "draw_tree(tree3)"
   ]
  },
  {
   "cell_type": "markdown",
   "id": "a903a546",
   "metadata": {},
   "source": [
    "*Data Structures and Information Retrieval in Python*\n",
    "\n",
    "Copyright 2021 Allen Downey\n",
    "\n",
    "License: [Creative Commons Attribution-NonCommercial-ShareAlike 4.0 International](https://creativecommons.org/licenses/by-nc-sa/4.0/)"
   ]
  }
 ],
 "metadata": {
  "celltoolbar": "Tags",
  "kernelspec": {
   "display_name": "Python 3 (ipykernel)",
   "language": "python",
   "name": "python3"
  },
  "language_info": {
   "codemirror_mode": {
    "name": "ipython",
    "version": 3
   },
   "file_extension": ".py",
   "mimetype": "text/x-python",
   "name": "python",
   "nbconvert_exporter": "python",
   "pygments_lexer": "ipython3",
   "version": "3.10.1"
  }
 },
 "nbformat": 4,
 "nbformat_minor": 5
}
